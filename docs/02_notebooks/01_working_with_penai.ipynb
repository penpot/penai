{
 "cells": [
  {
   "cell_type": "code",
   "execution_count": 1,
   "metadata": {},
   "outputs": [],
   "source": [
    "%load_ext autoreload\n",
    "%autoreload 2"
   ]
  },
  {
   "cell_type": "code",
   "execution_count": 2,
   "metadata": {},
   "outputs": [],
   "source": [
    "import matplotlib.pyplot as plt\n",
    "from IPython.display import SVG, display\n",
    "\n",
    "from penai.hierarchy_generation.utils import InteractivePenpotDesignVisualizer\n",
    "from penai.registries.projects import SavedPenpotProject\n",
    "from penai.render import WebDriverSVGRenderer\n",
    "from penai.utils.vis import (\n",
    "    DesignElementVisualizer,\n",
    "    ShapeHighlighter,\n",
    ")\n",
    "\n",
    "plt.rcParams[\"figure.figsize\"] = (40, 40)"
   ]
  },
  {
   "cell_type": "markdown",
   "metadata": {},
   "source": [
    "# Loading and working with Penpot files\n",
    "\n",
    "The Penai Python package provides extensive functionality to load and work with Penpot files. In this notebook, we will demonstrate how to load and inspect a penpot file, render Penpot design elements to bitmaps, derive bounding boxes for each shape and visualize the hiearchy of a board within a Penpot page."
   ]
  },
  {
   "cell_type": "markdown",
   "metadata": {},
   "source": [
    "## Exporting Penpot projects"
   ]
  },
  {
   "cell_type": "markdown",
   "metadata": {},
   "source": [
    "First, the Penpot project to work with needs to be exported to the \".svg + .json\"-format. In opposition to the internal binary data format, this allows us to more easily parse the project's data structures.\n",
    "\n",
    "To export a Penpot project to this format, open a project in Penpot, then click the three dots (\"...\") located right of the Project title and choose `File > Download standard file (.svg + .json)`.\n",
    "\n",
    "![](../../resources/images/penpot_project_export.png)"
   ]
  },
  {
   "cell_type": "markdown",
   "metadata": {},
   "source": [
    "## Loading a Penpot project in Python\n",
    "\n",
    "After extracting the ZIP file, the Penpot project can be loaded with the `PenpotProject.from_directory` function:"
   ]
  },
  {
   "cell_type": "code",
   "execution_count": null,
   "metadata": {},
   "outputs": [],
   "source": [
    "# Load a project from the example project registry\n",
    "project = SavedPenpotProject.MATERIAL_DESIGN_3.load(pull=True)\n",
    "\n",
    "# OR from a project folder\n",
    "# project = PenpotProject.from_directory(\"../../data/raw/designs/Material Design 3\")"
   ]
  },
  {
   "cell_type": "markdown",
   "metadata": {},
   "source": [
    "## Inspecting the Penpot project\n",
    "\n",
    "We can inspect the project's content by simply printing the project object. Each project consists of _Penpot Files_ at the highest level, which consist of `Penpot Pages`. Each page is contains a hierarchy of _Penpot Shapes_. Other data types and structures are omitted here for simplicity but can be found in the [official Penpot documentation](https://help.penpot.app/technical-guide/developer/data-model/) on this topic."
   ]
  },
  {
   "cell_type": "code",
   "execution_count": null,
   "metadata": {},
   "outputs": [],
   "source": [
    "print(project)"
   ]
  },
  {
   "cell_type": "markdown",
   "metadata": {},
   "source": [
    "This project contains only one file which we generally refer to as the _main file_ and can be retrieved in the following way:"
   ]
  },
  {
   "cell_type": "code",
   "execution_count": null,
   "metadata": {},
   "outputs": [],
   "source": [
    "main_file = project.get_main_file()"
   ]
  },
  {
   "cell_type": "markdown",
   "metadata": {},
   "source": [
    "The file contains several pages whose names can be accessed with the `page_names` property:"
   ]
  },
  {
   "cell_type": "code",
   "execution_count": null,
   "metadata": {},
   "outputs": [],
   "source": [
    "main_file.page_names"
   ]
  },
  {
   "cell_type": "markdown",
   "metadata": {},
   "source": [
    "## Penpot page to bitmap\n",
    "\n",
    "An important requirement for providing Penpot design elements to AI models (i.e. Vision Language Models) is the ability to render them as bitmaps. Penpot currently uses the SVG format to display design documents in the browser which technically should make it easy to render SVGs to bitmaps.\n",
    "\n",
    "However, due to the great complexity of the SVG standard, many open source SVG packages and particularly those for Python, implement only a relatively small part of the standard which turned to not be sufficient for us. The best solution therefore turned out to use a [headless browser](https://en.wikipedia.org/wiki/Headless_browse) for SVG rendering due to the generally good SVG support of major browsers.\n",
    "\n",
    "The Penai project therefore implement web driver-based SVG renderer which take a SVG file or string as input and return a bitmap and possibly render artifacts such as bounding boxes.\n",
    "\n",
    "To use this functionality, we first need to extract a Penpot page from the design file:"
   ]
  },
  {
   "cell_type": "code",
   "execution_count": null,
   "metadata": {},
   "outputs": [],
   "source": [
    "cover_page = main_file.get_page_by_name(\"Cover\")"
   ]
  },
  {
   "cell_type": "code",
   "execution_count": null,
   "metadata": {},
   "outputs": [],
   "source": [
    "with WebDriverSVGRenderer.create_chrome_renderer() as renderer:\n",
    "    output = renderer.render_svg(cover_page.svg)"
   ]
  },
  {
   "cell_type": "code",
   "execution_count": null,
   "metadata": {},
   "outputs": [],
   "source": [
    "output.image"
   ]
  },
  {
   "cell_type": "code",
   "execution_count": null,
   "metadata": {},
   "outputs": [],
   "source": [
    "with WebDriverSVGRenderer.create_chrome_renderer(infer_bounding_boxes=True) as renderer:\n",
    "    output = renderer.render_svg(cover_page.svg)"
   ]
  },
  {
   "cell_type": "code",
   "execution_count": null,
   "metadata": {},
   "outputs": [],
   "source": [
    "output.artifacts"
   ]
  },
  {
   "cell_type": "code",
   "execution_count": null,
   "metadata": {},
   "outputs": [],
   "source": [
    "from pprint import pprint"
   ]
  },
  {
   "cell_type": "code",
   "execution_count": null,
   "metadata": {},
   "outputs": [],
   "source": [
    "pprint(output.artifacts)"
   ]
  },
  {
   "cell_type": "code",
   "execution_count": null,
   "metadata": {},
   "outputs": [],
   "source": [
    "shape_highlighter = ShapeHighlighter()\n",
    "\n",
    "visualizer = DesignElementVisualizer(shape_visualizer=shape_highlighter)"
   ]
  },
  {
   "cell_type": "code",
   "execution_count": null,
   "metadata": {},
   "outputs": [],
   "source": [
    "cover_page.svg.retrieve_and_set_view_boxes_for_shape_elements()"
   ]
  },
  {
   "cell_type": "code",
   "execution_count": null,
   "metadata": {},
   "outputs": [],
   "source": [
    "main_frame, *_ = cover_page.svg.get_shape_elements_at_depth(0)"
   ]
  },
  {
   "cell_type": "code",
   "execution_count": null,
   "metadata": {},
   "outputs": [],
   "source": [
    "main_frame"
   ]
  },
  {
   "cell_type": "code",
   "execution_count": null,
   "metadata": {},
   "outputs": [],
   "source": [
    "hierarchy_visualizer = InteractivePenpotDesignVisualizer(main_frame)"
   ]
  },
  {
   "cell_type": "code",
   "execution_count": null,
   "metadata": {},
   "outputs": [],
   "source": [
    "display(SVG(hierarchy_visualizer.svg.to_string()))"
   ]
  }
 ],
 "metadata": {
  "kernelspec": {
   "display_name": ".venv",
   "language": "python",
   "name": "python3"
  },
  "language_info": {
   "codemirror_mode": {
    "name": "ipython",
    "version": 3
   },
   "file_extension": ".py",
   "mimetype": "text/x-python",
   "name": "python",
   "nbconvert_exporter": "python",
   "pygments_lexer": "ipython3",
   "version": "3.11.9"
  }
 },
 "nbformat": 4,
 "nbformat_minor": 2
}
