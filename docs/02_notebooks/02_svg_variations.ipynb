{
 "cells": [
  {
   "cell_type": "code",
   "execution_count": 1,
   "id": "bd811f91206293e6",
   "metadata": {
    "ExecuteTime": {
     "end_time": "2024-06-06T10:14:55.070313600Z",
     "start_time": "2024-06-06T10:14:55.025477600Z"
    }
   },
   "outputs": [],
   "source": [
    "%load_ext autoreload\n",
    "%autoreload 2"
   ]
  },
  {
   "cell_type": "code",
   "execution_count": 2,
   "id": "793ea6ad30db8951",
   "metadata": {
    "ExecuteTime": {
     "end_time": "2024-06-06T10:14:57.846645600Z",
     "start_time": "2024-06-06T10:14:55.074083700Z"
    }
   },
   "outputs": [],
   "source": [
    "from IPython.display import HTML\n",
    "\n",
    "from penai.registries.projects import SavedPenpotProject\n",
    "from penai.registries.web_drivers import RegisteredWebDriver\n",
    "from penai.variations.svg_variations import SVGVariationsGenerator"
   ]
  },
  {
   "cell_type": "code",
   "outputs": [
    {
     "name": "stderr",
     "output_type": "stream",
     "text": [
      "Scanning remote paths in penpot/data/raw/designs/Interactive music app: 100%|██████████| 8/8 [00:00<00:00, 727.17it/s]\n",
      "pulling (bytes): 0it [00:00, ?it/s]\n",
      "Setting view boxes: 100%|██████████| 397/397 [00:07<00:00, 50.40it/s] \n"
     ]
    }
   ],
   "source": [
    "saved_penpot_project = SavedPenpotProject.INTERACTIVE_MUSIC_APP  #\n",
    "penpot_project = saved_penpot_project.load(pull=True)\n",
    "main_file = penpot_project.get_main_file()\n",
    "page = main_file.get_page_by_name(\"Interactive music app\")\n",
    "page.svg.retrieve_and_set_view_boxes_for_shape_elements(RegisteredWebDriver.CHROME)"
   ],
   "metadata": {
    "collapsed": false,
    "ExecuteTime": {
     "end_time": "2024-06-06T10:15:13.038642400Z",
     "start_time": "2024-06-06T10:14:57.848795Z"
    }
   },
   "id": "3b32aa5c9df0a768",
   "execution_count": 3
  },
  {
   "cell_type": "code",
   "outputs": [],
   "source": [
    "shape = page.svg.get_shape_by_name(\"ic_equalizer_48px-1\")"
   ],
   "metadata": {
    "collapsed": false,
    "ExecuteTime": {
     "end_time": "2024-06-06T10:15:13.136219700Z",
     "start_time": "2024-06-06T10:15:13.041650500Z"
    }
   },
   "id": "569165abe387197f",
   "execution_count": 4
  },
  {
   "cell_type": "code",
   "outputs": [
    {
     "name": "stdout",
     "output_type": "stream",
     "text": [
      "<svg xmlns=\"http://www.w3.org/2000/svg\" xmlns:xlink=\"http://www.w3.org/1999/xlink\" xmlns:penpot=\"https://penpot.app/xmlns\" viewBox=\"1136.0 474.0 72.0 72.0\" version=\"1.1\" style=\"width:100%;height:100%;background:#E8E9EA\" fill=\"none\" preserveAspectRatio=\"xMinYMin meet\">\n",
      "  <g id=\"shape-459cc494-9782-8033-8004-753e7ef8b638\" style=\"fill:#000000;fill-opacity:1\" width=\"48\" height=\"48\" rx=\"0\" ry=\"0\">\n",
      "    <penpot:shape penpot:name=\"ic_equalizer_48px-1\" penpot:type=\"group\" penpot:transform=\"matrix(1.000000, 0.000000, 0.000000, 1.000000, 0.000000, 0.000000)\" penpot:transform-inverse=\"matrix(1.000000, 0.000000, 0.000000, 1.000000, 0.000000, 0.000000)\" penpot:flip-x=\"false\" penpot:flip-y=\"false\" penpot:proportion=\"1\" penpot:proportion-lock=\"false\" penpot:rotation=\"0\" penpot:center-x=\"1172\" penpot:center-y=\"510\" viewBox=\"1136.0 474.0 72.0 72.0\">\n",
      "      <penpot:svg-import penpot:svg-attrs=\"width,height\"/>\n",
      "      <penpot:fills>\n",
      "        <penpot:fill penpot:fill-color=\"#000000\" penpot:fill-opacity=\"1\"/>\n",
      "      </penpot:fills>\n",
      "    </penpot:shape>\n",
      "    <defs/>\n",
      "    <g id=\"shape-459cc494-9782-8033-8004-753e7ef8b63a\">\n",
      "      <penpot:shape penpot:name=\"Difference-1\" penpot:type=\"bool\" penpot:transform=\"matrix(1.000000, 0.000000, 0.000000, 1.000000, 0.000000, 0.000000)\" penpot:transform-inverse=\"matrix(1.000000, 0.000000, 0.000000, 1.000000, 0.000000, 0.000000)\" penpot:proportion=\"1\" penpot:proportion-lock=\"false\" penpot:rotation=\"0\" penpot:center-x=\"1172\" penpot:center-y=\"510\" penpot:bool-type=\"difference\" viewBox=\"1136.0 474.0 72.0 72.0\">\n",
      "        <penpot:fills>\n",
      "          <penpot:fill penpot:fill-color=\"#ffffff\" penpot:fill-opacity=\"1\"/>\n",
      "        </penpot:fills>\n",
      "      </penpot:shape>\n",
      "      <defs/>\n",
      "      <g class=\"fills\" id=\"fills-459cc494-9782-8033-8004-753e7ef8b63a\">\n",
      "        <path d=\"M1172.000,474.000C1191.869,474.000,1208.000,490.131,1208.000,510.000C1208.000,529.869,1191.869,546.000,1172.000,546.000C1152.131,546.000,1136.000,529.869,1136.000,510.000C1136.000,490.131,1152.131,474.000,1172.000,474.000ZM1168.400,524.400L1175.600,524.400L1175.600,495.600L1168.400,495.600L1168.400,524.400ZM1157.600,524.400L1164.800,524.400L1164.800,510.000L1157.600,510.000L1157.600,524.400ZM1179.200,504.600L1179.200,524.400L1186.400,524.400L1186.400,504.600L1179.200,504.600Z\" style=\"fill:#ffffff;fill-opacity:1\"/>\n",
      "      </g>\n",
      "      <penpot:bool>\n",
      "        <g id=\"shape-459cc494-9782-8033-8004-753e7ef8b63c\">\n",
      "          <penpot:shape penpot:name=\"Circle-6\" penpot:type=\"circle\" penpot:transform=\"matrix(1.000000, 0.000000, 0.000000, 1.000000, 0.000000, 0.000000)\" penpot:transform-inverse=\"matrix(1.000000, 0.000000, 0.000000, 1.000000, 0.000000, 0.000000)\" penpot:proportion=\"1\" penpot:proportion-lock=\"false\" penpot:rotation=\"0\" penpot:center-x=\"1172\" penpot:center-y=\"510\" penpot:constraints-h=\"scale\" penpot:constraints-v=\"scale\" viewBox=\"0.0 0.0 0.0 0.0\">\n",
      "            <penpot:svg-import/>\n",
      "            <penpot:fills>\n",
      "              <penpot:fill penpot:fill-color=\"#b1b2b5\" penpot:fill-opacity=\"1\"/>\n",
      "            </penpot:fills>\n",
      "          </penpot:shape>\n",
      "          <defs/>\n",
      "          <g class=\"fills\" id=\"fills-459cc494-9782-8033-8004-753e7ef8b63c\">\n",
      "            <ellipse cx=\"1172\" cy=\"510\" rx=\"36\" ry=\"36\" transform=\"matrix(1.000000, 0.000000, 0.000000, 1.000000, 0.000000, 0.000000)\" style=\"fill:#b1b2b5;fill-opacity:1\"/>\n",
      "          </g>\n",
      "        </g>\n",
      "        <g id=\"shape-459cc494-9782-8033-8004-753e7ef8b63e\">\n",
      "          <penpot:shape penpot:name=\"svg-path-111\" penpot:type=\"path\" penpot:transform=\"matrix(1.000000, 0.000000, 0.000000, 1.000000, 0.000000, 0.000000)\" penpot:transform-inverse=\"matrix(1.000000, 0.000000, 0.000000, 1.000000, 0.000000, 0.000000)\" penpot:proportion=\"1\" penpot:proportion-lock=\"false\" penpot:rotation=\"0\" penpot:center-x=\"1172\" penpot:center-y=\"510\" viewBox=\"0.0 0.0 0.0 0.0\">\n",
      "            <penpot:svg-import penpot:svg-viewbox-x=\"8\" penpot:svg-viewbox-y=\"8\" penpot:svg-viewbox-width=\"32\" penpot:svg-viewbox-height=\"32\" penpot:svg-transform=\"matrix(1.000000, 0.000000, 0.000000, 1.000000, 0.000000, 0.000000)\"/>\n",
      "          </penpot:shape>\n",
      "          <defs/>\n",
      "          <g class=\"fills\" id=\"fills-459cc494-9782-8033-8004-753e7ef8b63e\">\n",
      "            <path d=\"M1168.400,524.400L1175.600,524.400L1175.600,495.600L1168.400,495.600L1168.400,524.400ZZZZM1157.600,524.400L1164.800,524.400L1164.800,510.000L1157.600,510.000L1157.600,524.400ZZZZM1179.200,504.600L1179.200,524.400L1186.400,524.400L1186.400,504.600L1179.200,504.600ZZZZ\"/>\n",
      "          </g>\n",
      "        </g>\n",
      "      </penpot:bool>\n",
      "    </g>\n",
      "  </g>\n",
      "</svg>\n"
     ]
    }
   ],
   "source": [
    "print(shape.to_svg().to_string())"
   ],
   "metadata": {
    "collapsed": false,
    "ExecuteTime": {
     "end_time": "2024-06-06T10:15:13.229066700Z",
     "start_time": "2024-06-06T10:15:13.139539100Z"
    }
   },
   "id": "d743ccfa79d95f1b",
   "execution_count": 5
  },
  {
   "cell_type": "code",
   "outputs": [
    {
     "name": "stderr",
     "output_type": "stream",
     "text": [
      "C:\\Users\\DominikJain\\miniconda3\\envs\\penai\\Lib\\site-packages\\langchain_core\\_api\\deprecation.py:119: LangChainDeprecationWarning: The method `Chain.run` was deprecated in langchain 0.1.0 and will be removed in 0.3.0. Use invoke instead.\n",
      "  warn_deprecated(\n"
     ]
    },
    {
     "name": "stdout",
     "output_type": "stream",
     "text": [
      "Sure! Let's refactor the SVG to use explicit shape tags like `rect` and `circle` while maintaining the cutouts using appropriate masks. Here's the refactored SVG:\n",
      "\n",
      "```xml\n",
      "<svg xmlns=\"http://www.w3.org/2000/svg\" xmlns:xlink=\"http://www.w3.org/1999/xlink\" xmlns:penpot=\"https://penpot.app/xmlns\" viewBox=\"1136.0 474.0 72.0 72.0\" version=\"1.1\" style=\"width:100%;height:100%;background:#E8E9EA\" fill=\"none\" preserveAspectRatio=\"xMinYMin meet\">\n",
      "  <defs>\n",
      "    <mask id=\"mask\">\n",
      "      <rect x=\"1136\" y=\"474\" width=\"72\" height=\"72\" fill=\"white\"/>\n",
      "      <rect x=\"1168.4\" y=\"495.6\" width=\"7.2\" height=\"28.8\" fill=\"black\"/>\n",
      "      <rect x=\"1157.6\" y=\"510\" width=\"7.2\" height=\"14.4\" fill=\"black\"/>\n",
      "      <rect x=\"1179.2\" y=\"504.6\" width=\"7.2\" height=\"19.8\" fill=\"black\"/>\n",
      "    </mask>\n",
      "  </defs>\n",
      "  <circle cx=\"1172\" cy=\"510\" r=\"36\" fill=\"#000000\" mask=\"url(#mask)\"/>\n",
      "</svg>\n",
      "```\n",
      "\n",
      "### Explanation:\n",
      "1. **Circle**: The main shape is a circle with a center at (1172, 510) and a radius of 36.\n",
      "2. **Rectangles**: The cutouts are represented as rectangles:\n",
      "   - The first rectangle is positioned at (1168.4, 495.6) with a width of 7.2 and a height of 28.8.\n",
      "   - The second rectangle is positioned at (1157.6, 510) with a width of 7.2 and a height of 14.4.\n",
      "   - The third rectangle is positioned at (1179.2, 504.6) with a width of 7.2 and a height of 19.8.\n",
      "3. **Mask**: The mask is used to create the cutouts in the circle by overlaying black rectangles on a white background.\n",
      "\n",
      "This refactored SVG maintains the original design while making the shapes explicit.\n",
      "Sure! Here are five variations of the SVG, each with slight modifications to shapes, colors, and positioning while staying close to the original design.\n",
      "\n",
      "## Variation 1: Blue Equalizer\n",
      "\n",
      "```xml\n",
      "<svg xmlns=\"http://www.w3.org/2000/svg\" xmlns:xlink=\"http://www.w3.org/1999/xlink\" xmlns:penpot=\"https://penpot.app/xmlns\" viewBox=\"1136.0 474.0 72.0 72.0\" version=\"1.1\" style=\"width:100%;height:100%;background:#E8E9EA\" fill=\"none\" preserveAspectRatio=\"xMinYMin meet\">\n",
      "  <defs>\n",
      "    <mask id=\"mask1\">\n",
      "      <rect x=\"1136\" y=\"474\" width=\"72\" height=\"72\" fill=\"white\"/>\n",
      "      <rect x=\"1168.4\" y=\"495.6\" width=\"7.2\" height=\"28.8\" fill=\"black\"/>\n",
      "      <rect x=\"1157.6\" y=\"510\" width=\"7.2\" height=\"14.4\" fill=\"black\"/>\n",
      "      <rect x=\"1179.2\" y=\"504.6\" width=\"7.2\" height=\"19.8\" fill=\"black\"/>\n",
      "    </mask>\n",
      "  </defs>\n",
      "  <circle cx=\"1172\" cy=\"510\" r=\"36\" fill=\"#0000FF\" mask=\"url(#mask1)\"/>\n",
      "</svg>\n",
      "```\n",
      "\n",
      "## Variation 2: Green Equalizer with Ellipse\n",
      "\n",
      "```xml\n",
      "<svg xmlns=\"http://www.w3.org/2000/svg\" xmlns:xlink=\"http://www.w3.org/1999/xlink\" xmlns:penpot=\"https://penpot.app/xmlns\" viewBox=\"1136.0 474.0 72.0 72.0\" version=\"1.1\" style=\"width:100%;height:100%;background:#E8E9EA\" fill=\"none\" preserveAspectRatio=\"xMinYMin meet\">\n",
      "  <defs>\n",
      "    <mask id=\"mask2\">\n",
      "      <rect x=\"1136\" y=\"474\" width=\"72\" height=\"72\" fill=\"white\"/>\n",
      "      <rect x=\"1168.4\" y=\"495.6\" width=\"7.2\" height=\"28.8\" fill=\"black\"/>\n",
      "      <rect x=\"1157.6\" y=\"510\" width=\"7.2\" height=\"14.4\" fill=\"black\"/>\n",
      "      <rect x=\"1179.2\" y=\"504.6\" width=\"7.2\" height=\"19.8\" fill=\"black\"/>\n",
      "    </mask>\n",
      "  </defs>\n",
      "  <ellipse cx=\"1172\" cy=\"510\" rx=\"36\" ry=\"30\" fill=\"#00FF00\" mask=\"url(#mask2)\"/>\n",
      "</svg>\n",
      "```\n",
      "\n",
      "## Variation 3: Red Equalizer with Shifted Rectangles\n",
      "\n",
      "```xml\n",
      "<svg xmlns=\"http://www.w3.org/2000/svg\" xmlns:xlink=\"http://www.w3.org/1999/xlink\" xmlns:penpot=\"https://penpot.app/xmlns\" viewBox=\"1136.0 474.0 72.0 72.0\" version=\"1.1\" style=\"width:100%;height:100%;background:#E8E9EA\" fill=\"none\" preserveAspectRatio=\"xMinYMin meet\">\n",
      "  <defs>\n",
      "    <mask id=\"mask3\">\n",
      "      <rect x=\"1136\" y=\"474\" width=\"72\" height=\"72\" fill=\"white\"/>\n",
      "      <rect x=\"1166.4\" y=\"495.6\" width=\"7.2\" height=\"28.8\" fill=\"black\"/>\n",
      "      <rect x=\"1155.6\" y=\"510\" width=\"7.2\" height=\"14.4\" fill=\"black\"/>\n",
      "      <rect x=\"1177.2\" y=\"504.6\" width=\"7.2\" height=\"19.8\" fill=\"black\"/>\n",
      "    </mask>\n",
      "  </defs>\n",
      "  <circle cx=\"1172\" cy=\"510\" r=\"36\" fill=\"#FF0000\" mask=\"url(#mask3)\"/>\n",
      "</svg>\n",
      "```\n",
      "\n",
      "## Variation 4: Yellow Equalizer with Larger Cutouts\n",
      "\n",
      "```xml\n",
      "<svg xmlns=\"http://www.w3.org/2000/svg\" xmlns:xlink=\"http://www.w3.org/1999/xlink\" xmlns:penpot=\"https://penpot.app/xmlns\" viewBox=\"1136.0 474.0 72.0 72.0\" version=\"1.1\" style=\"width:100%;height:100%;background:#E8E9EA\" fill=\"none\" preserveAspectRatio=\"xMinYMin meet\">\n",
      "  <defs>\n",
      "    <mask id=\"mask4\">\n",
      "      <rect x=\"1136\" y=\"474\" width=\"72\" height=\"72\" fill=\"white\"/>\n",
      "      <rect x=\"1168.4\" y=\"495.6\" width=\"9.2\" height=\"30.8\" fill=\"black\"/>\n",
      "      <rect x=\"1157.6\" y=\"510\" width=\"9.2\" height=\"16.4\" fill=\"black\"/>\n",
      "      <rect x=\"1179.2\" y=\"504.6\" width=\"9.2\" height=\"21.8\" fill=\"black\"/>\n",
      "    </mask>\n",
      "  </defs>\n",
      "  <circle cx=\"1172\" cy=\"510\" r=\"36\" fill=\"#FFFF00\" mask=\"url(#mask4)\"/>\n",
      "</svg>\n",
      "```\n",
      "\n",
      "## Variation 5: Purple Equalizer with Smaller Circle\n",
      "\n",
      "```xml\n",
      "<svg xmlns=\"http://www.w3.org/2000/svg\" xmlns:xlink=\"http://www.w3.org/1999/xlink\" xmlns:penpot=\"https://penpot.app/xmlns\" viewBox=\"1136.0 474.0 72.0 72.0\" version=\"1.1\" style=\"width:100%;height:100%;background:#E8E9EA\" fill=\"none\" preserveAspectRatio=\"xMinYMin meet\">\n",
      "  <defs>\n",
      "    <mask id=\"mask5\">\n",
      "      <rect x=\"1136\" y=\"474\" width=\"72\" height=\"72\" fill=\"white\"/>\n",
      "      <rect x=\"1168.4\" y=\"495.6\" width=\"7.2\" height=\"28.8\" fill=\"black\"/>\n",
      "      <rect x=\"1157.6\" y=\"510\" width=\"7.2\" height=\"14.4\" fill=\"black\"/>\n",
      "      <rect x=\"1179.2\" y=\"504.6\" width=\"7.2\" height=\"19.8\" fill=\"black\"/>\n",
      "    </mask>\n",
      "  </defs>\n",
      "  <circle cx=\"1172\" cy=\"510\" r=\"30\" fill=\"#800080\" mask=\"url(#mask5)\"/>\n",
      "</svg>\n",
      "```\n",
      "\n",
      "Each variation maintains the core design of the original SVG but introduces different colors, shapes, and slight positional adjustments to create unique yet familiar designs.\n"
     ]
    },
    {
     "data": {
      "text/plain": "<IPython.core.display.HTML object>",
      "text/html": "<html><body><div style=\"width:60%\"><h1>Variations</h1><h2>Variation 1: Blue Equalizer</h2>xml\n<svg xmlns=\"http://www.w3.org/2000/svg\" xmlns:xlink=\"http://www.w3.org/1999/xlink\" xmlns:penpot=\"https://penpot.app/xmlns\" viewBox=\"1136.0 474.0 72.0 72.0\" version=\"1.1\" style=\"width:100%;height:100%;background:#E8E9EA\" fill=\"none\" preserveAspectRatio=\"xMinYMin meet\">\n  <defs>\n    <mask id=\"mask1\">\n      <rect x=\"1136\" y=\"474\" width=\"72\" height=\"72\" fill=\"white\"/>\n      <rect x=\"1168.4\" y=\"495.6\" width=\"7.2\" height=\"28.8\" fill=\"black\"/>\n      <rect x=\"1157.6\" y=\"510\" width=\"7.2\" height=\"14.4\" fill=\"black\"/>\n      <rect x=\"1179.2\" y=\"504.6\" width=\"7.2\" height=\"19.8\" fill=\"black\"/>\n    </mask>\n  </defs>\n  <circle cx=\"1172\" cy=\"510\" r=\"36\" fill=\"#0000FF\" mask=\"url(#mask1)\"/>\n</svg><h2>Variation 2: Green Equalizer with Ellipse</h2>xml\n<svg xmlns=\"http://www.w3.org/2000/svg\" xmlns:xlink=\"http://www.w3.org/1999/xlink\" xmlns:penpot=\"https://penpot.app/xmlns\" viewBox=\"1136.0 474.0 72.0 72.0\" version=\"1.1\" style=\"width:100%;height:100%;background:#E8E9EA\" fill=\"none\" preserveAspectRatio=\"xMinYMin meet\">\n  <defs>\n    <mask id=\"mask2\">\n      <rect x=\"1136\" y=\"474\" width=\"72\" height=\"72\" fill=\"white\"/>\n      <rect x=\"1168.4\" y=\"495.6\" width=\"7.2\" height=\"28.8\" fill=\"black\"/>\n      <rect x=\"1157.6\" y=\"510\" width=\"7.2\" height=\"14.4\" fill=\"black\"/>\n      <rect x=\"1179.2\" y=\"504.6\" width=\"7.2\" height=\"19.8\" fill=\"black\"/>\n    </mask>\n  </defs>\n  <ellipse cx=\"1172\" cy=\"510\" rx=\"36\" ry=\"30\" fill=\"#00FF00\" mask=\"url(#mask2)\"/>\n</svg><h2>Variation 3: Red Equalizer with Shifted Rectangles</h2>xml\n<svg xmlns=\"http://www.w3.org/2000/svg\" xmlns:xlink=\"http://www.w3.org/1999/xlink\" xmlns:penpot=\"https://penpot.app/xmlns\" viewBox=\"1136.0 474.0 72.0 72.0\" version=\"1.1\" style=\"width:100%;height:100%;background:#E8E9EA\" fill=\"none\" preserveAspectRatio=\"xMinYMin meet\">\n  <defs>\n    <mask id=\"mask3\">\n      <rect x=\"1136\" y=\"474\" width=\"72\" height=\"72\" fill=\"white\"/>\n      <rect x=\"1166.4\" y=\"495.6\" width=\"7.2\" height=\"28.8\" fill=\"black\"/>\n      <rect x=\"1155.6\" y=\"510\" width=\"7.2\" height=\"14.4\" fill=\"black\"/>\n      <rect x=\"1177.2\" y=\"504.6\" width=\"7.2\" height=\"19.8\" fill=\"black\"/>\n    </mask>\n  </defs>\n  <circle cx=\"1172\" cy=\"510\" r=\"36\" fill=\"#FF0000\" mask=\"url(#mask3)\"/>\n</svg><h2>Variation 4: Yellow Equalizer with Larger Cutouts</h2>xml\n<svg xmlns=\"http://www.w3.org/2000/svg\" xmlns:xlink=\"http://www.w3.org/1999/xlink\" xmlns:penpot=\"https://penpot.app/xmlns\" viewBox=\"1136.0 474.0 72.0 72.0\" version=\"1.1\" style=\"width:100%;height:100%;background:#E8E9EA\" fill=\"none\" preserveAspectRatio=\"xMinYMin meet\">\n  <defs>\n    <mask id=\"mask4\">\n      <rect x=\"1136\" y=\"474\" width=\"72\" height=\"72\" fill=\"white\"/>\n      <rect x=\"1168.4\" y=\"495.6\" width=\"9.2\" height=\"30.8\" fill=\"black\"/>\n      <rect x=\"1157.6\" y=\"510\" width=\"9.2\" height=\"16.4\" fill=\"black\"/>\n      <rect x=\"1179.2\" y=\"504.6\" width=\"9.2\" height=\"21.8\" fill=\"black\"/>\n    </mask>\n  </defs>\n  <circle cx=\"1172\" cy=\"510\" r=\"36\" fill=\"#FFFF00\" mask=\"url(#mask4)\"/>\n</svg><h2>Variation 5: Purple Equalizer with Smaller Circle</h2>xml\n<svg xmlns=\"http://www.w3.org/2000/svg\" xmlns:xlink=\"http://www.w3.org/1999/xlink\" xmlns:penpot=\"https://penpot.app/xmlns\" viewBox=\"1136.0 474.0 72.0 72.0\" version=\"1.1\" style=\"width:100%;height:100%;background:#E8E9EA\" fill=\"none\" preserveAspectRatio=\"xMinYMin meet\">\n  <defs>\n    <mask id=\"mask5\">\n      <rect x=\"1136\" y=\"474\" width=\"72\" height=\"72\" fill=\"white\"/>\n      <rect x=\"1168.4\" y=\"495.6\" width=\"7.2\" height=\"28.8\" fill=\"black\"/>\n      <rect x=\"1157.6\" y=\"510\" width=\"7.2\" height=\"14.4\" fill=\"black\"/>\n      <rect x=\"1179.2\" y=\"504.6\" width=\"7.2\" height=\"19.8\" fill=\"black\"/>\n    </mask>\n  </defs>\n  <circle cx=\"1172\" cy=\"510\" r=\"30\" fill=\"#800080\" mask=\"url(#mask5)\"/>\n</svg></div></body></html>"
     },
     "execution_count": 6,
     "metadata": {},
     "output_type": "execute_result"
    }
   ],
   "source": [
    "var_gen = SVGVariationsGenerator(shape=shape, semantics=\"equalizer\")\n",
    "variations = var_gen.create_variations()\n",
    "HTML(variations.to_html())"
   ],
   "metadata": {
    "collapsed": false,
    "ExecuteTime": {
     "end_time": "2024-06-06T10:15:51.042412700Z",
     "start_time": "2024-06-06T10:15:13.225758500Z"
    }
   },
   "id": "451bf67f87f40e4f",
   "execution_count": 6
  },
  {
   "cell_type": "code",
   "outputs": [],
   "source": [],
   "metadata": {
    "collapsed": false,
    "ExecuteTime": {
     "end_time": "2024-06-06T10:15:51.043550800Z",
     "start_time": "2024-06-06T10:15:51.036145400Z"
    }
   },
   "id": "74170dfb4dbc2dc9",
   "execution_count": 6
  }
 ],
 "metadata": {
  "kernelspec": {
   "display_name": "Python 3",
   "language": "python",
   "name": "python3"
  },
  "language_info": {
   "codemirror_mode": {
    "name": "ipython",
    "version": 3
   },
   "file_extension": ".py",
   "mimetype": "text/x-python",
   "name": "python",
   "nbconvert_exporter": "python",
   "pygments_lexer": "ipython3",
   "version": "3.11.9"
  }
 },
 "nbformat": 4,
 "nbformat_minor": 5
}
