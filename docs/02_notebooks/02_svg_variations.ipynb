{
 "cells": [
  {
   "cell_type": "code",
   "execution_count": 1,
   "id": "bd811f91206293e6",
   "metadata": {
    "ExecuteTime": {
     "end_time": "2024-06-05T19:17:26.066920700Z",
     "start_time": "2024-06-05T19:17:26.043445100Z"
    }
   },
   "outputs": [],
   "source": [
    "%load_ext autoreload\n",
    "%autoreload 2"
   ]
  },
  {
   "cell_type": "code",
   "execution_count": 2,
   "id": "793ea6ad30db8951",
   "metadata": {
    "ExecuteTime": {
     "end_time": "2024-06-05T19:17:27.327585700Z",
     "start_time": "2024-06-05T19:17:26.066920700Z"
    }
   },
   "outputs": [],
   "source": [
    "from IPython.display import HTML\n",
    "\n",
    "from penai.registries.projects import SavedPenpotProject\n",
    "from penai.registries.web_drivers import RegisteredWebDriver\n",
    "from penai.variations.svg_variations import SVGVariationsGenerator"
   ]
  },
  {
   "cell_type": "code",
   "outputs": [
    {
     "name": "stderr",
     "output_type": "stream",
     "text": [
      "Scanning remote paths in penpot/data/raw/designs/Interactive music app: 100%|██████████| 8/8 [00:00<00:00, 185.99it/s]\n",
      "pulling (bytes): 0it [00:00, ?it/s]\n",
      "Setting view boxes: 100%|██████████| 397/397 [00:08<00:00, 44.41it/s] \n"
     ]
    }
   ],
   "source": [
    "saved_penpot_project = SavedPenpotProject.INTERACTIVE_MUSIC_APP  #\n",
    "penpot_project = saved_penpot_project.load(pull=True)\n",
    "main_file = penpot_project.get_main_file()\n",
    "page = main_file.get_page_by_name(\"Interactive music app\")\n",
    "page.svg.retrieve_and_set_view_boxes_for_shape_elements(RegisteredWebDriver.CHROME)"
   ],
   "metadata": {
    "collapsed": false,
    "is_executing": true,
    "ExecuteTime": {
     "start_time": "2024-06-05T19:17:27.328586Z"
    }
   },
   "id": "3b32aa5c9df0a768",
   "execution_count": null
  },
  {
   "cell_type": "code",
   "outputs": [],
   "source": [
    "shape = page.svg.get_shape_by_name(\"ic_equalizer_48px-1\")"
   ],
   "metadata": {
    "collapsed": false,
    "is_executing": true
   },
   "id": "569165abe387197f",
   "execution_count": null
  },
  {
   "cell_type": "code",
   "outputs": [
    {
     "name": "stdout",
     "output_type": "stream",
     "text": [
      "Sure! Let's refactor the SVG to use explicit shape tags like `rect` and `circle` while maintaining the cutouts using appropriate masks. Here's the refactored SVG:\n",
      "\n",
      "```xml\n",
      "<svg xmlns=\"http://www.w3.org/2000/svg\" xmlns:xlink=\"http://www.w3.org/1999/xlink\" xmlns:penpot=\"https://penpot.app/xmlns\" viewBox=\"1136.0 474.0 72.0 72.0\" version=\"1.1\" style=\"width:100%;height:100%;background:#E8E9EA\" fill=\"none\" preserveAspectRatio=\"xMinYMin meet\">\n",
      "  <defs>\n",
      "    <mask id=\"mask\">\n",
      "      <rect x=\"1136\" y=\"474\" width=\"72\" height=\"72\" fill=\"white\"/>\n",
      "      <rect x=\"1168.4\" y=\"495.6\" width=\"7.2\" height=\"28.8\" fill=\"black\"/>\n",
      "      <rect x=\"1157.6\" y=\"510\" width=\"7.2\" height=\"14.4\" fill=\"black\"/>\n",
      "      <rect x=\"1179.2\" y=\"504.6\" width=\"7.2\" height=\"19.8\" fill=\"black\"/>\n",
      "    </mask>\n",
      "  </defs>\n",
      "  <circle cx=\"1172\" cy=\"510\" r=\"36\" fill=\"#000000\" mask=\"url(#mask)\"/>\n",
      "</svg>\n",
      "```\n",
      "\n",
      "### Explanation:\n",
      "1. **Circle**: The main shape is a circle with a center at (1172, 510) and a radius of 36.\n",
      "2. **Rectangles**: The cutouts are represented as rectangles:\n",
      "   - The first rectangle is positioned at (1168.4, 495.6) with a width of 7.2 and a height of 28.8.\n",
      "   - The second rectangle is positioned at (1157.6, 510) with a width of 7.2 and a height of 14.4.\n",
      "   - The third rectangle is positioned at (1179.2, 504.6) with a width of 7.2 and a height of 19.8.\n",
      "3. **Mask**: The mask is used to create the cutouts in the circle by overlaying the rectangles in black on a white background.\n",
      "\n",
      "This refactored SVG maintains the original design while making the shapes explicit.\n",
      "Sure! Here are five variations of the SVG, each with slight modifications to shapes, colors, and positioning while staying close to the original design.\n",
      "\n",
      "## Variation 1: Blue Equalizer\n",
      "\n",
      "```xml\n",
      "<svg xmlns=\"http://www.w3.org/2000/svg\" xmlns:xlink=\"http://www.w3.org/1999/xlink\" xmlns:penpot=\"https://penpot.app/xmlns\" viewBox=\"1136.0 474.0 72.0 72.0\" version=\"1.1\" style=\"width:100%;height:100%;background:#E8E9EA\" fill=\"none\" preserveAspectRatio=\"xMinYMin meet\">\n",
      "  <defs>\n",
      "    <mask id=\"mask1\">\n",
      "      <rect x=\"1136\" y=\"474\" width=\"72\" height=\"72\" fill=\"white\"/>\n",
      "      <rect x=\"1168.4\" y=\"495.6\" width=\"7.2\" height=\"28.8\" fill=\"black\"/>\n",
      "      <rect x=\"1157.6\" y=\"510\" width=\"7.2\" height=\"14.4\" fill=\"black\"/>\n",
      "      <rect x=\"1179.2\" y=\"504.6\" width=\"7.2\" height=\"19.8\" fill=\"black\"/>\n",
      "    </mask>\n",
      "  </defs>\n",
      "  <circle cx=\"1172\" cy=\"510\" r=\"36\" fill=\"#0000FF\" mask=\"url(#mask1)\"/>\n",
      "</svg>\n",
      "```\n",
      "\n",
      "## Variation 2: Green Equalizer with Shifted Bars\n",
      "\n",
      "```xml\n",
      "<svg xmlns=\"http://www.w3.org/2000/svg\" xmlns:xlink=\"http://www.w3.org/1999/xlink\" xmlns:penpot=\"https://penpot.app/xmlns\" viewBox=\"1136.0 474.0 72.0 72.0\" version=\"1.1\" style=\"width:100%;height:100%;background:#E8E9EA\" fill=\"none\" preserveAspectRatio=\"xMinYMin meet\">\n",
      "  <defs>\n",
      "    <mask id=\"mask2\">\n",
      "      <rect x=\"1136\" y=\"474\" width=\"72\" height=\"72\" fill=\"white\"/>\n",
      "      <rect x=\"1166.4\" y=\"495.6\" width=\"7.2\" height=\"28.8\" fill=\"black\"/>\n",
      "      <rect x=\"1155.6\" y=\"510\" width=\"7.2\" height=\"14.4\" fill=\"black\"/>\n",
      "      <rect x=\"1177.2\" y=\"504.6\" width=\"7.2\" height=\"19.8\" fill=\"black\"/>\n",
      "    </mask>\n",
      "  </defs>\n",
      "  <circle cx=\"1172\" cy=\"510\" r=\"36\" fill=\"#00FF00\" mask=\"url(#mask2)\"/>\n",
      "</svg>\n",
      "```\n",
      "\n",
      "## Variation 3: Red Equalizer with Larger Bars\n",
      "\n",
      "```xml\n",
      "<svg xmlns=\"http://www.w3.org/2000/svg\" xmlns:xlink=\"http://www.w3.org/1999/xlink\" xmlns:penpot=\"https://penpot.app/xmlns\" viewBox=\"1136.0 474.0 72.0 72.0\" version=\"1.1\" style=\"width:100%;height:100%;background:#E8E9EA\" fill=\"none\" preserveAspectRatio=\"xMinYMin meet\">\n",
      "  <defs>\n",
      "    <mask id=\"mask3\">\n",
      "      <rect x=\"1136\" y=\"474\" width=\"72\" height=\"72\" fill=\"white\"/>\n",
      "      <rect x=\"1168.4\" y=\"495.6\" width=\"9.2\" height=\"30.8\" fill=\"black\"/>\n",
      "      <rect x=\"1157.6\" y=\"510\" width=\"9.2\" height=\"16.4\" fill=\"black\"/>\n",
      "      <rect x=\"1179.2\" y=\"504.6\" width=\"9.2\" height=\"21.8\" fill=\"black\"/>\n",
      "    </mask>\n",
      "  </defs>\n",
      "  <circle cx=\"1172\" cy=\"510\" r=\"36\" fill=\"#FF0000\" mask=\"url(#mask3)\"/>\n",
      "</svg>\n",
      "```\n",
      "\n",
      "## Variation 4: Yellow Equalizer with Elliptical Bars\n",
      "\n",
      "```xml\n",
      "<svg xmlns=\"http://www.w3.org/2000/svg\" xmlns:xlink=\"http://www.w3.org/1999/xlink\" xmlns:penpot=\"https://penpot.app/xmlns\" viewBox=\"1136.0 474.0 72.0 72.0\" version=\"1.1\" style=\"width:100%;height:100%;background:#E8E9EA\" fill=\"none\" preserveAspectRatio=\"xMinYMin meet\">\n",
      "  <defs>\n",
      "    <mask id=\"mask4\">\n",
      "      <rect x=\"1136\" y=\"474\" width=\"72\" height=\"72\" fill=\"white\"/>\n",
      "      <ellipse cx=\"1172\" cy=\"510\" rx=\"3.6\" ry=\"14.4\" fill=\"black\"/>\n",
      "      <ellipse cx=\"1161.6\" cy=\"517.2\" rx=\"3.6\" ry=\"7.2\" fill=\"black\"/>\n",
      "      <ellipse cx=\"1182.4\" cy=\"514.8\" rx=\"3.6\" ry=\"9.9\" fill=\"black\"/>\n",
      "    </mask>\n",
      "  </defs>\n",
      "  <circle cx=\"1172\" cy=\"510\" r=\"36\" fill=\"#FFFF00\" mask=\"url(#mask4)\"/>\n",
      "</svg>\n",
      "```\n",
      "\n",
      "## Variation 5: Purple Equalizer with Smaller Circle\n",
      "\n",
      "```xml\n",
      "<svg xmlns=\"http://www.w3.org/2000/svg\" xmlns:xlink=\"http://www.w3.org/1999/xlink\" xmlns:penpot=\"https://penpot.app/xmlns\" viewBox=\"1136.0 474.0 72.0 72.0\" version=\"1.1\" style=\"width:100%;height:100%;background:#E8E9EA\" fill=\"none\" preserveAspectRatio=\"xMinYMin meet\">\n",
      "  <defs>\n",
      "    <mask id=\"mask5\">\n",
      "      <rect x=\"1136\" y=\"474\" width=\"72\" height=\"72\" fill=\"white\"/>\n",
      "      <rect x=\"1168.4\" y=\"495.6\" width=\"7.2\" height=\"28.8\" fill=\"black\"/>\n",
      "      <rect x=\"1157.6\" y=\"510\" width=\"7.2\" height=\"14.4\" fill=\"black\"/>\n",
      "      <rect x=\"1179.2\" y=\"504.6\" width=\"7.2\" height=\"19.8\" fill=\"black\"/>\n",
      "    </mask>\n",
      "  </defs>\n",
      "  <circle cx=\"1172\" cy=\"510\" r=\"30\" fill=\"#800080\" mask=\"url(#mask5)\"/>\n",
      "</svg>\n",
      "```\n",
      "\n",
      "Each variation maintains the core design of the original SVG but introduces different colors, shapes, and slight positional adjustments to create unique yet familiar designs.\n"
     ]
    },
    {
     "data": {
      "text/plain": "<IPython.core.display.HTML object>",
      "text/html": "<html><body><div style=\"width:60%\"><h1>Variations</h1><h2>Variation 1: Blue Equalizer</h2>xml\n<svg xmlns=\"http://www.w3.org/2000/svg\" xmlns:xlink=\"http://www.w3.org/1999/xlink\" xmlns:penpot=\"https://penpot.app/xmlns\" viewBox=\"1136.0 474.0 72.0 72.0\" version=\"1.1\" style=\"width:100%;height:100%;background:#E8E9EA\" fill=\"none\" preserveAspectRatio=\"xMinYMin meet\">\n  <defs>\n    <mask id=\"mask1\">\n      <rect x=\"1136\" y=\"474\" width=\"72\" height=\"72\" fill=\"white\"/>\n      <rect x=\"1168.4\" y=\"495.6\" width=\"7.2\" height=\"28.8\" fill=\"black\"/>\n      <rect x=\"1157.6\" y=\"510\" width=\"7.2\" height=\"14.4\" fill=\"black\"/>\n      <rect x=\"1179.2\" y=\"504.6\" width=\"7.2\" height=\"19.8\" fill=\"black\"/>\n    </mask>\n  </defs>\n  <circle cx=\"1172\" cy=\"510\" r=\"36\" fill=\"#0000FF\" mask=\"url(#mask1)\"/>\n</svg><h2>Variation 2: Green Equalizer with Shifted Bars</h2>xml\n<svg xmlns=\"http://www.w3.org/2000/svg\" xmlns:xlink=\"http://www.w3.org/1999/xlink\" xmlns:penpot=\"https://penpot.app/xmlns\" viewBox=\"1136.0 474.0 72.0 72.0\" version=\"1.1\" style=\"width:100%;height:100%;background:#E8E9EA\" fill=\"none\" preserveAspectRatio=\"xMinYMin meet\">\n  <defs>\n    <mask id=\"mask2\">\n      <rect x=\"1136\" y=\"474\" width=\"72\" height=\"72\" fill=\"white\"/>\n      <rect x=\"1166.4\" y=\"495.6\" width=\"7.2\" height=\"28.8\" fill=\"black\"/>\n      <rect x=\"1155.6\" y=\"510\" width=\"7.2\" height=\"14.4\" fill=\"black\"/>\n      <rect x=\"1177.2\" y=\"504.6\" width=\"7.2\" height=\"19.8\" fill=\"black\"/>\n    </mask>\n  </defs>\n  <circle cx=\"1172\" cy=\"510\" r=\"36\" fill=\"#00FF00\" mask=\"url(#mask2)\"/>\n</svg><h2>Variation 3: Red Equalizer with Larger Bars</h2>xml\n<svg xmlns=\"http://www.w3.org/2000/svg\" xmlns:xlink=\"http://www.w3.org/1999/xlink\" xmlns:penpot=\"https://penpot.app/xmlns\" viewBox=\"1136.0 474.0 72.0 72.0\" version=\"1.1\" style=\"width:100%;height:100%;background:#E8E9EA\" fill=\"none\" preserveAspectRatio=\"xMinYMin meet\">\n  <defs>\n    <mask id=\"mask3\">\n      <rect x=\"1136\" y=\"474\" width=\"72\" height=\"72\" fill=\"white\"/>\n      <rect x=\"1168.4\" y=\"495.6\" width=\"9.2\" height=\"30.8\" fill=\"black\"/>\n      <rect x=\"1157.6\" y=\"510\" width=\"9.2\" height=\"16.4\" fill=\"black\"/>\n      <rect x=\"1179.2\" y=\"504.6\" width=\"9.2\" height=\"21.8\" fill=\"black\"/>\n    </mask>\n  </defs>\n  <circle cx=\"1172\" cy=\"510\" r=\"36\" fill=\"#FF0000\" mask=\"url(#mask3)\"/>\n</svg><h2>Variation 4: Yellow Equalizer with Elliptical Bars</h2>xml\n<svg xmlns=\"http://www.w3.org/2000/svg\" xmlns:xlink=\"http://www.w3.org/1999/xlink\" xmlns:penpot=\"https://penpot.app/xmlns\" viewBox=\"1136.0 474.0 72.0 72.0\" version=\"1.1\" style=\"width:100%;height:100%;background:#E8E9EA\" fill=\"none\" preserveAspectRatio=\"xMinYMin meet\">\n  <defs>\n    <mask id=\"mask4\">\n      <rect x=\"1136\" y=\"474\" width=\"72\" height=\"72\" fill=\"white\"/>\n      <ellipse cx=\"1172\" cy=\"510\" rx=\"3.6\" ry=\"14.4\" fill=\"black\"/>\n      <ellipse cx=\"1161.6\" cy=\"517.2\" rx=\"3.6\" ry=\"7.2\" fill=\"black\"/>\n      <ellipse cx=\"1182.4\" cy=\"514.8\" rx=\"3.6\" ry=\"9.9\" fill=\"black\"/>\n    </mask>\n  </defs>\n  <circle cx=\"1172\" cy=\"510\" r=\"36\" fill=\"#FFFF00\" mask=\"url(#mask4)\"/>\n</svg><h2>Variation 5: Purple Equalizer with Smaller Circle</h2>xml\n<svg xmlns=\"http://www.w3.org/2000/svg\" xmlns:xlink=\"http://www.w3.org/1999/xlink\" xmlns:penpot=\"https://penpot.app/xmlns\" viewBox=\"1136.0 474.0 72.0 72.0\" version=\"1.1\" style=\"width:100%;height:100%;background:#E8E9EA\" fill=\"none\" preserveAspectRatio=\"xMinYMin meet\">\n  <defs>\n    <mask id=\"mask5\">\n      <rect x=\"1136\" y=\"474\" width=\"72\" height=\"72\" fill=\"white\"/>\n      <rect x=\"1168.4\" y=\"495.6\" width=\"7.2\" height=\"28.8\" fill=\"black\"/>\n      <rect x=\"1157.6\" y=\"510\" width=\"7.2\" height=\"14.4\" fill=\"black\"/>\n      <rect x=\"1179.2\" y=\"504.6\" width=\"7.2\" height=\"19.8\" fill=\"black\"/>\n    </mask>\n  </defs>\n  <circle cx=\"1172\" cy=\"510\" r=\"30\" fill=\"#800080\" mask=\"url(#mask5)\"/>\n</svg></div></body></html>"
     },
     "execution_count": 5,
     "metadata": {},
     "output_type": "execute_result"
    }
   ],
   "source": [
    "var_gen = SVGVariationsGenerator(shape=shape, semantics=\"equalizer\")\n",
    "HTML(var_gen.create_variations_html())"
   ],
   "metadata": {
    "collapsed": false
   },
   "id": "451bf67f87f40e4f",
   "execution_count": 5
  }
 ],
 "metadata": {
  "kernelspec": {
   "display_name": "Python 3",
   "language": "python",
   "name": "python3"
  },
  "language_info": {
   "codemirror_mode": {
    "name": "ipython",
    "version": 3
   },
   "file_extension": ".py",
   "mimetype": "text/x-python",
   "name": "python",
   "nbconvert_exporter": "python",
   "pygments_lexer": "ipython3",
   "version": "3.11.9"
  }
 },
 "nbformat": 4,
 "nbformat_minor": 5
}
