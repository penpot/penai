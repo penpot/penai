{
 "cells": [
  {
   "cell_type": "code",
   "execution_count": 2,
   "metadata": {},
   "outputs": [
    {
     "name": "stdout",
     "output_type": "stream",
     "text": [
      "The autoreload extension is already loaded. To reload it, use:\n",
      "  %reload_ext autoreload\n"
     ]
    }
   ],
   "source": [
    "%load_ext autoreload\n",
    "%autoreload 2\n",
    "\n",
    "import math\n",
    "\n",
    "import matplotlib.pyplot as plt\n",
    "\n",
    "from penai.hierarchy_generation.inference import HierarchyInferencer\n",
    "from penai.hierarchy_generation.vis import InteractiveSVGHierarchyVisualizer\n",
    "from penai.llm.llm_model import RegisteredLLM\n",
    "from penai.registries.projects import SavedPenpotProject\n",
    "from penai.registries.web_drivers import RegisteredWebDriver\n",
    "from penai.utils.vis import ShapeVisualizer\n",
    "\n",
    "plt.rcParams[\"figure.figsize\"] = (20, 40)"
   ]
  },
  {
   "cell_type": "code",
   "execution_count": 3,
   "metadata": {},
   "outputs": [
    {
     "name": "stderr",
     "output_type": "stream",
     "text": [
      "Setting view boxes: 100%|██████████| 351/351 [00:03<00:00, 98.85it/s] \n"
     ]
    }
   ],
   "source": [
    "penpot_project = SavedPenpotProject.INTERACTIVE_MUSIC_APP.load()\n",
    "main_file = penpot_project.get_main_file()\n",
    "selected_page = main_file.get_page_by_name(\"Interactive music app\")\n",
    "selected_page.svg.remove_elements_with_no_visible_content()\n",
    "selected_page.svg.retrieve_and_set_view_boxes_for_shape_elements(\n",
    "    RegisteredWebDriver.CHROME,\n",
    ")\n",
    "playlist_shape = selected_page.svg.get_shape_by_name(\"Playlist\")"
   ]
  },
  {
   "cell_type": "code",
   "execution_count": 4,
   "metadata": {},
   "outputs": [],
   "source": [
    "visualizer = ShapeVisualizer(RegisteredWebDriver.CHROME)\n",
    "visualizations = list(visualizer.visualize_bboxes_in_shape(playlist_shape))"
   ]
  },
  {
   "cell_type": "code",
   "execution_count": 5,
   "metadata": {},
   "outputs": [
    {
     "name": "stderr",
     "output_type": "stream",
     "text": [
      "44it [00:02, 18.97it/s]\n"
     ]
    }
   ],
   "source": [
    "hierarchy_inference = HierarchyInferencer(model=RegisteredLLM.GPT4O)\n",
    "hierarchy, visualizations = hierarchy_inference.infer_shape_hierarchy(\n",
    "    playlist_shape,\n",
    "    return_visualizations=True,\n",
    ")"
   ]
  },
  {
   "cell_type": "code",
   "execution_count": null,
   "metadata": {},
   "outputs": [],
   "source": [
    "hierarchy_visualizer = InteractiveHierarchyVisualizer()\n",
    "hierarchy_visualizer.inject_hierarchy_visualization(hierarchy)\n",
    "\n",
    "svg = playlist_shape.to_svg()\n",
    "hierarchy_visualizer.inject_stylesheet(svg.dom.getroot())\n",
    "svg.to_file(\"hierarchy.svg\")"
   ]
  },
  {
   "cell_type": "code",
   "execution_count": null,
   "metadata": {},
   "outputs": [],
   "source": []
  }
 ],
 "metadata": {
  "kernelspec": {
   "display_name": ".venv",
   "language": "python",
   "name": "python3"
  },
  "language_info": {
   "codemirror_mode": {
    "name": "ipython",
    "version": 3
   },
   "file_extension": ".py",
   "mimetype": "text/x-python",
   "name": "python",
   "nbconvert_exporter": "python",
   "pygments_lexer": "ipython3",
   "version": "3.11.9"
  }
 },
 "nbformat": 4,
 "nbformat_minor": 2
}
