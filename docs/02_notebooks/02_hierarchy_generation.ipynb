{
 "cells": [
  {
   "cell_type": "code",
   "execution_count": null,
   "metadata": {},
   "outputs": [],
   "source": [
    "%load_ext autoreload\n",
    "%autoreload 2\n",
    "\n",
    "import math\n",
    "\n",
    "import matplotlib.pyplot as plt\n",
    "\n",
    "from penai.hierarchy_generation.inference import HierarchyInferencer\n",
    "from penai.hierarchy_generation.vis import (\n",
    "    InteractiveHTMLHierarchyVisualizer,\n",
    "    InteractiveSVGHierarchyVisualizer,\n",
    ")\n",
    "from penai.llm.llm_model import RegisteredLLM\n",
    "from penai.registries.projects import SavedPenpotProject\n",
    "from penai.registries.web_drivers import RegisteredWebDriver\n",
    "from penai.utils.io import ResultWriter\n",
    "from penai.utils.vis import ShapeVisualizer\n",
    "\n",
    "plt.rcParams[\"figure.figsize\"] = (20, 40)"
   ]
  },
  {
   "cell_type": "code",
   "execution_count": null,
   "metadata": {},
   "outputs": [],
   "source": [
    "page_svg = SavedPenpotProject.INTERACTIVE_MUSIC_APP.load_page_svg_with_viewboxes(\n",
    "    \"Interactive music app\",\n",
    ")\n",
    "playlist_shape = page_svg.get_shape_by_name(\"Playlist\")"
   ]
  },
  {
   "cell_type": "code",
   "execution_count": null,
   "metadata": {},
   "outputs": [],
   "source": [
    "visualizer = ShapeVisualizer(RegisteredWebDriver.CHROME)\n",
    "visualizations = list(visualizer.visualize_bboxes_in_shape(playlist_shape))"
   ]
  },
  {
   "cell_type": "code",
   "execution_count": null,
   "metadata": {},
   "outputs": [],
   "source": [
    "# plot_image_grid([vis.image for vis in visualizations])"
   ]
  },
  {
   "cell_type": "code",
   "execution_count": null,
   "metadata": {},
   "outputs": [],
   "source": [
    "hierarchy_inference = HierarchyInferencer(model=RegisteredLLM.GPT4O)\n",
    "hierarchy, visualizations = hierarchy_inference.infer_shape_hierarchy(\n",
    "    playlist_shape,\n",
    "    return_visualizations=True,\n",
    ")"
   ]
  },
  {
   "cell_type": "code",
   "execution_count": null,
   "metadata": {},
   "outputs": [],
   "source": [
    "visualizations = list(ShapeVisualizer().visualize_bboxes_in_shape(playlist_shape))\n",
    "\n",
    "img_per_row = 4\n",
    "\n",
    "fig, axes = plt.subplots(math.ceil(len(visualizations) / img_per_row), img_per_row)\n",
    "\n",
    "for i, ax in enumerate(axes.flat):\n",
    "    if i < len(visualizations):\n",
    "        ax.imshow(visualizations[i].image)\n",
    "    ax.axis(\"off\")\n",
    "\n",
    "plt.show()"
   ]
  },
  {
   "cell_type": "code",
   "execution_count": null,
   "metadata": {},
   "outputs": [],
   "source": [
    "result_writer = ResultWriter(\".\")\n",
    "\n",
    "hierarchy_svg_visualizer = InteractiveSVGHierarchyVisualizer(hierarchy, playlist_shape)\n",
    "svg_filename = \"hierarchy.svg\"\n",
    "hierarchy_svg_visualizer.write_svg(result_writer.path(svg_filename))\n",
    "\n",
    "hierarchy_html_visualizer = InteractiveHTMLHierarchyVisualizer(svg_filename, hierarchy)\n",
    "hierarchy_html_visualizer.write_html(result_writer.path(\"hierarchy.html\"))"
   ]
  },
  {
   "cell_type": "code",
   "outputs": [],
   "source": [],
   "metadata": {
    "collapsed": false
   }
  }
 ],
 "metadata": {
  "kernelspec": {
   "display_name": ".venv",
   "language": "python",
   "name": "python3"
  },
  "language_info": {
   "codemirror_mode": {
    "name": "ipython",
    "version": 3
   },
   "file_extension": ".py",
   "mimetype": "text/x-python",
   "name": "python",
   "nbconvert_exporter": "python",
   "pygments_lexer": "ipython3",
   "version": "3.11.9"
  }
 },
 "nbformat": 4,
 "nbformat_minor": 2
}
