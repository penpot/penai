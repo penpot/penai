{
 "cells": [
  {
   "cell_type": "code",
   "execution_count": null,
   "id": "bd811f91206293e6",
   "metadata": {},
   "outputs": [],
   "source": [
    "%load_ext autoreload\n",
    "%autoreload 2"
   ]
  },
  {
   "cell_type": "code",
   "execution_count": null,
   "id": "793ea6ad30db8951",
   "metadata": {},
   "outputs": [],
   "source": [
    "import matplotlib.pyplot as plt\n",
    "\n",
    "from penai.registries import RegisteredWebDriver, SavedPenpotProject\n",
    "from penai.render import WebDriverSVGRenderer"
   ]
  },
  {
   "cell_type": "markdown",
   "id": "64da8ced8afc1c32",
   "metadata": {},
   "source": [
    "# Design elements to text\n",
    "\n",
    "In this notebook we will demonstrate how to get various textual outputs from design elements. The\n",
    "textual outputs can be useful either directly for penpot users (naming groups, elements, or proposing grouping \n",
    "hierarchies) or indirectly (for creating design variations in the text space prior to converting them back to\n",
    "design elements)."
   ]
  },
  {
   "cell_type": "markdown",
   "id": "3f9ee7d83a63880e",
   "metadata": {},
   "source": [
    "First we need to load a penpot project into python and extract the design element as rasters (since current visual\n",
    "language models do not understand vector graphics sufficiently well)."
   ]
  },
  {
   "cell_type": "code",
   "execution_count": null,
   "id": "initial_id",
   "metadata": {},
   "outputs": [],
   "source": [
    "penpot_project = SavedPenpotProject.INTERACTIVE_MUSIC_APP.load()\n",
    "main_file = penpot_project.get_main_file()\n",
    "main_file.page_names"
   ]
  },
  {
   "cell_type": "markdown",
   "id": "21417a5b95f53fa6",
   "metadata": {},
   "source": [
    "## Exploring a page and its elements"
   ]
  },
  {
   "cell_type": "markdown",
   "id": "ac37f9ab7e2eead9",
   "metadata": {},
   "source": [
    "Let's have a look at the whole render, the shapes, and the components of the \"Interactive music app\" page"
   ]
  },
  {
   "cell_type": "code",
   "execution_count": null,
   "id": "ab946c62de3929b3",
   "metadata": {},
   "outputs": [],
   "source": [
    "selected_page = main_file.get_page_by_name(\"Interactive music app\")"
   ]
  },
  {
   "cell_type": "code",
   "execution_count": null,
   "id": "ccf6bea07244747f",
   "metadata": {},
   "outputs": [],
   "source": [
    "with WebDriverSVGRenderer.create_chrome_renderer() as renderer:\n",
    "    page_img = renderer.render_svg(selected_page.svg.to_string())"
   ]
  },
  {
   "cell_type": "code",
   "execution_count": null,
   "id": "1d74fe95ab64c103",
   "metadata": {},
   "outputs": [],
   "source": [
    "plt.imshow(page_img)\n",
    "plt.title(\"Interactive music app - whole page (rasterized)\")\n",
    "plt.show()"
   ]
  },
  {
   "cell_type": "code",
   "execution_count": null,
   "id": "5748592dae983a3b",
   "metadata": {},
   "outputs": [],
   "source": [
    "top_level_shapes = selected_page.svg.get_shape_elements_at_depth(0)\n",
    "top_level_shape_names = [shape.name for shape in top_level_shapes]\n",
    "print(\n",
    "    \"At the highest level in the hierarchy we have the following shapes: \\n\"\n",
    "    f\"{top_level_shape_names}\",\n",
    ")"
   ]
  },
  {
   "cell_type": "markdown",
   "id": "bdec16d1ff525895",
   "metadata": {},
   "source": [
    "We can print the shape hierarchy to get a quick overview of the structure of the page."
   ]
  },
  {
   "cell_type": "code",
   "execution_count": null,
   "id": "a5c46f9efb0c954c",
   "metadata": {},
   "outputs": [],
   "source": [
    "selected_page.svg.pprint_hierarchy()"
   ]
  },
  {
   "cell_type": "markdown",
   "id": "571d816decfed343",
   "metadata": {},
   "source": [
    "Let's select the 'Playlist' shape for a closer look. First, we will assign a view box to all shapes in the page.\n",
    "In principle, it is possible to also retrieve the view boxes for each shape individually, but it\n",
    "is faster to assign the view box to all shapes at once than to iterate (which will require a re-render)."
   ]
  },
  {
   "cell_type": "code",
   "execution_count": null,
   "id": "47a4a7693d0438c6",
   "metadata": {},
   "outputs": [],
   "source": [
    "selected_page_svg = selected_page.svg\n",
    "# This may take a bit\n",
    "selected_page_svg.retrieve_and_set_view_boxes_for_shape_elements(RegisteredWebDriver.CHROME)"
   ]
  },
  {
   "cell_type": "code",
   "execution_count": null,
   "id": "fab69ae3c51a79e4",
   "metadata": {},
   "outputs": [],
   "source": [
    "selected_page_svg.get_view_box()"
   ]
  },
  {
   "cell_type": "code",
   "execution_count": null,
   "id": "abbd23e75e98422f",
   "metadata": {},
   "outputs": [],
   "source": [
    "playlist_shape = selected_page.svg.get_shape_by_name(\"Playlist\")\n",
    "playlist_shape_svg = playlist_shape.to_svg()\n",
    "\n",
    "with WebDriverSVGRenderer.create_chrome_renderer() as renderer:\n",
    "    playlist_img = renderer.render_svg(playlist_shape.to_svg().to_string())\n",
    "\n",
    "plt.imshow(playlist_img)\n",
    "plt.title(\"Playlist shape (rasterized)\")\n",
    "plt.show()"
   ]
  },
  {
   "cell_type": "code",
   "execution_count": null,
   "id": "9c5bb503",
   "metadata": {},
   "outputs": [],
   "source": [
    "fix, ax = plt.subplots(1, 2, figsize=(10, 5))\n",
    "ax[0].imshow(page_img)\n",
    "ax[0].set_title(\"Interactive music app - whole page (rasterized)\")\n",
    "ax[1].imshow(playlist_img)\n",
    "ax[1].set_title(\"Playlist shape (rasterized)\")\n",
    "plt.show()"
   ]
  },
  {
   "cell_type": "code",
   "execution_count": null,
   "id": "f4a1da3ca58ade71",
   "metadata": {},
   "outputs": [],
   "source": [
    "playlist_shape.bounding_box"
   ]
  },
  {
   "cell_type": "code",
   "execution_count": null,
   "id": "ba3401c5ab1a000",
   "metadata": {},
   "outputs": [],
   "source": []
  }
 ],
 "metadata": {
  "kernelspec": {
   "display_name": "Python 3",
   "language": "python",
   "name": "python3"
  },
  "language_info": {
   "codemirror_mode": {
    "name": "ipython",
    "version": 3
   },
   "file_extension": ".py",
   "mimetype": "text/x-python",
   "name": "python",
   "nbconvert_exporter": "python",
   "pygments_lexer": "ipython3",
   "version": "3.11.9"
  }
 },
 "nbformat": 4,
 "nbformat_minor": 5
}
