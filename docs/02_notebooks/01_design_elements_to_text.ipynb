{
 "cells": [
  {
   "cell_type": "code",
   "execution_count": 1,
   "id": "bd811f91206293e6",
   "metadata": {
    "ExecuteTime": {
     "end_time": "2024-07-10T15:38:40.314813Z",
     "start_time": "2024-07-10T15:38:40.299654Z"
    }
   },
   "outputs": [],
   "source": [
    "%load_ext autoreload\n",
    "%autoreload 2"
   ]
  },
  {
   "cell_type": "code",
   "execution_count": 2,
   "id": "793ea6ad30db8951",
   "metadata": {
    "ExecuteTime": {
     "end_time": "2024-07-10T15:40:02.592111Z",
     "start_time": "2024-07-10T15:40:02.571946Z"
    }
   },
   "outputs": [],
   "source": [
    "from IPython.core.display import HTML, Markdown\n",
    "\n",
    "from penai.config import get_config\n",
    "from penai.svg import SVG\n",
    "\n",
    "cfg = get_config()"
   ]
  },
  {
   "cell_type": "markdown",
   "id": "64da8ced8afc1c32",
   "metadata": {},
   "source": [
    "# Creating Variations of Design Elements\n",
    "\n",
    "In this notebook we will demonstrate how to get various textual outputs from design elements. The\n",
    "textual outputs can be useful either directly for penpot users (naming groups, elements, or proposing grouping \n",
    "hierarchies) or indirectly (for creating design variations in the text space prior to converting them back to\n",
    "design elements)."
   ]
  },
  {
   "cell_type": "code",
   "execution_count": 3,
   "id": "e5d9a3b2-4cff-41e3-8b96-c3fd331027fc",
   "metadata": {},
   "outputs": [],
   "source": [
    "def display_xml(xml_str: str):\n",
    "    return Markdown(f\"```xml\\n{xml_str}\\n```\")"
   ]
  },
  {
   "cell_type": "code",
   "execution_count": 4,
   "id": "acf016c50049aacb",
   "metadata": {
    "ExecuteTime": {
     "end_time": "2024-07-10T15:38:41.982412Z",
     "start_time": "2024-07-10T15:38:41.967188Z"
    }
   },
   "outputs": [],
   "source": [
    "compass_svg = SVG.from_file(cfg.get_example_svg_path(\"compass_icon.svg\"))"
   ]
  },
  {
   "cell_type": "code",
   "execution_count": 5,
   "id": "1c25f5fb-bb7a-4692-a269-c92b76781b17",
   "metadata": {
    "ExecuteTime": {
     "end_time": "2024-07-10T15:38:42.009681Z",
     "start_time": "2024-07-10T15:38:41.984696Z"
    }
   },
   "outputs": [
    {
     "data": {
      "text/plain": [
       "BoundingBox(x=2081.1328125, y=1122.0, width=49.97314453125, height=54.796875)"
      ]
     },
     "execution_count": 5,
     "metadata": {},
     "output_type": "execute_result"
    }
   ],
   "source": [
    "compass_svg.get_view_box()"
   ]
  },
  {
   "cell_type": "code",
   "execution_count": 6,
   "id": "ea6f7ccc2debd171",
   "metadata": {
    "ExecuteTime": {
     "end_time": "2024-07-10T15:40:04.753467Z",
     "start_time": "2024-07-10T15:40:04.731851Z"
    }
   },
   "outputs": [
    {
     "data": {
      "text/markdown": [
       "```xml\n",
       "<svg xmlns=\"http://www.w3.org/2000/svg\" xmlns:xlink=\"http://www.w3.org/1999/xlink\" xmlns:penpot=\"https://penpot.app/xmlns\" viewBox=\"2081.1328125 1122.0 49.97314453125 54.796875\" version=\"1.1\" style=\"width:100%;height:100%;background:#E8E9EA\" fill=\"none\" preserveAspectRatio=\"xMinYMin meet\">\n",
       "  <g id=\"4\" style=\"opacity:0.5\">\n",
       "    <defs/>\n",
       "    <g id=\"5\">\n",
       "      <defs/>\n",
       "      <g class=\"text-container\" x=\"2047\" y=\"1162\" width=\"112\" height=\"16\">\n",
       "        <defs>\n",
       "          <pattern patternUnits=\"userSpaceOnUse\" x=\"2047\" y=\"1162\" width=\"43.7265625\" height=\"14\" id=\"0\">\n",
       "            <g>\n",
       "              <rect width=\"43.7265625\" height=\"14\" style=\"fill:#1d3744;fill-opacity:1\"/>\n",
       "            </g>\n",
       "          </pattern>\n",
       "        </defs>\n",
       "        <g class=\"fills\" id=\"1\">\n",
       "          <text x=\"2081.1328125\" y=\"1176.796875\" dominant-baseline=\"ideographic\" textLength=\"43.7265625\" lengthAdjust=\"spacingAndGlyphs\" style=\"text-transform:none;font-family:Rubik;letter-spacing:normal;font-style:normal;font-weight:500;white-space:pre;font-size:12px;text-decoration:none solid rgb(29, 55, 68);direction:ltr;fill:#1d3744;fill-opacity:1\">Explore</text>\n",
       "        </g>\n",
       "      </g>\n",
       "    </g>\n",
       "    <g id=\"6\" style=\"fill:#1d3744;fill-opacity:1\" width=\"48\" height=\"48\">\n",
       "      <defs/>\n",
       "      <g id=\"7\">\n",
       "        <defs/>\n",
       "        <g class=\"fills\" id=\"2\">\n",
       "          <path d=\"M2102.754,1136.533C2101.948,1136.533,2101.288,1137.193,2101.288,1138.000C2101.288,1138.807,2101.948,1139.467,2102.754,1139.467C2103.568,1139.467,2104.221,1138.807,2104.221,1138.000C2104.221,1137.193,2103.568,1136.533,2102.754,1136.533ZZZZM2102.754,1124.667C2095.388,1124.667,2089.421,1130.633,2089.421,1138.000C2089.421,1145.360,2095.388,1151.333,2102.754,1151.333C2110.121,1151.333,2116.088,1145.360,2116.088,1138.000C2116.088,1130.633,2110.121,1124.667,2102.754,1124.667ZZZZM2105.674,1140.920L2094.754,1146.000L2099.834,1135.080L2110.754,1130.000L2105.674,1140.920ZZZZ\"/>\n",
       "        </g>\n",
       "      </g>\n",
       "      <g id=\"8\">\n",
       "        <defs/>\n",
       "        <g class=\"fills\" id=\"3\">\n",
       "          <path d=\"M2086.754,1122.000L2118.754,1122.000L2118.754,1154.000L2086.754,1154.000Z\" fill=\"none\" style=\"fill:none\"/>\n",
       "        </g>\n",
       "      </g>\n",
       "    </g>\n",
       "  </g>\n",
       "</svg>\n",
       "\n",
       "```"
      ],
      "text/plain": [
       "<IPython.core.display.Markdown object>"
      ]
     },
     "execution_count": 6,
     "metadata": {},
     "output_type": "execute_result"
    }
   ],
   "source": [
    "display_xml(compass_svg.to_string(pretty=True))"
   ]
  },
  {
   "cell_type": "code",
   "execution_count": 7,
   "id": "ccf6bea07244747f",
   "metadata": {
    "ExecuteTime": {
     "end_time": "2024-07-10T15:38:42.043816Z",
     "start_time": "2024-07-10T15:38:42.027958Z"
    }
   },
   "outputs": [
    {
     "data": {
      "text/html": [
       "<html><body><div style=\"width: 49px; height: 200px;\"><svg xmlns=\"http://www.w3.org/2000/svg\" xmlns:xlink=\"http://www.w3.org/1999/xlink\" xmlns:penpot=\"https://penpot.app/xmlns\" viewBox=\"2081.1328125 1122.0 49.97314453125 54.796875\" version=\"1.1\" style=\"width:100%;height:100%;background:#E8E9EA\" fill=\"none\" preserveAspectRatio=\"xMinYMin meet\">\n",
       "  <g id=\"4\" style=\"opacity:0.5\">\n",
       "    <defs/>\n",
       "    <g id=\"5\">\n",
       "      <defs/>\n",
       "      <g class=\"text-container\" x=\"2047\" y=\"1162\" width=\"112\" height=\"16\">\n",
       "        <defs>\n",
       "          <pattern patternUnits=\"userSpaceOnUse\" x=\"2047\" y=\"1162\" width=\"43.7265625\" height=\"14\" id=\"0\">\n",
       "            <g>\n",
       "              <rect width=\"43.7265625\" height=\"14\" style=\"fill:#1d3744;fill-opacity:1\"/>\n",
       "            </g>\n",
       "          </pattern>\n",
       "        </defs>\n",
       "        <g class=\"fills\" id=\"1\">\n",
       "          <text x=\"2081.1328125\" y=\"1176.796875\" dominant-baseline=\"ideographic\" textLength=\"43.7265625\" lengthAdjust=\"spacingAndGlyphs\" style=\"text-transform:none;font-family:Rubik;letter-spacing:normal;font-style:normal;font-weight:500;white-space:pre;font-size:12px;text-decoration:none solid rgb(29, 55, 68);direction:ltr;fill:#1d3744;fill-opacity:1\">Explore</text>\n",
       "        </g>\n",
       "      </g>\n",
       "    </g>\n",
       "    <g id=\"6\" style=\"fill:#1d3744;fill-opacity:1\" width=\"48\" height=\"48\">\n",
       "      <defs/>\n",
       "      <g id=\"7\">\n",
       "        <defs/>\n",
       "        <g class=\"fills\" id=\"2\">\n",
       "          <path d=\"M2102.754,1136.533C2101.948,1136.533,2101.288,1137.193,2101.288,1138.000C2101.288,1138.807,2101.948,1139.467,2102.754,1139.467C2103.568,1139.467,2104.221,1138.807,2104.221,1138.000C2104.221,1137.193,2103.568,1136.533,2102.754,1136.533ZZZZM2102.754,1124.667C2095.388,1124.667,2089.421,1130.633,2089.421,1138.000C2089.421,1145.360,2095.388,1151.333,2102.754,1151.333C2110.121,1151.333,2116.088,1145.360,2116.088,1138.000C2116.088,1130.633,2110.121,1124.667,2102.754,1124.667ZZZZM2105.674,1140.920L2094.754,1146.000L2099.834,1135.080L2110.754,1130.000L2105.674,1140.920ZZZZ\"/>\n",
       "        </g>\n",
       "      </g>\n",
       "      <g id=\"8\">\n",
       "        <defs/>\n",
       "        <g class=\"fills\" id=\"3\">\n",
       "          <path d=\"M2086.754,1122.000L2118.754,1122.000L2118.754,1154.000L2086.754,1154.000Z\" fill=\"none\" style=\"fill:none\"/>\n",
       "        </g>\n",
       "      </g>\n",
       "    </g>\n",
       "  </g>\n",
       "</svg>\n",
       "</div></body></html>"
      ],
      "text/plain": [
       "<IPython.core.display.HTML object>"
      ]
     },
     "execution_count": 7,
     "metadata": {},
     "output_type": "execute_result"
    }
   ],
   "source": [
    "HTML(compass_svg.to_html_string(height_override=\"200px\"))"
   ]
  },
  {
   "cell_type": "code",
   "execution_count": null,
   "id": "f2386d6d-76cc-4d98-9b07-1f7036dc0d87",
   "metadata": {
    "ExecuteTime": {
     "end_time": "2024-07-10T15:38:42.047406Z",
     "start_time": "2024-07-10T15:38:42.045363Z"
    }
   },
   "outputs": [],
   "source": []
  }
 ],
 "metadata": {
  "kernelspec": {
   "display_name": "Python 3 (ipykernel)",
   "language": "python",
   "name": "python3"
  },
  "language_info": {
   "codemirror_mode": {
    "name": "ipython",
    "version": 3
   },
   "file_extension": ".py",
   "mimetype": "text/x-python",
   "name": "python",
   "nbconvert_exporter": "python",
   "pygments_lexer": "ipython3",
   "version": "3.11.9"
  }
 },
 "nbformat": 4,
 "nbformat_minor": 5
}
