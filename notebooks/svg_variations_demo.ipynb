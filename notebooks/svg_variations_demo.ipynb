{
 "cells": [
  {
   "cell_type": "code",
   "execution_count": 1,
   "id": "bd811f91206293e6",
   "metadata": {
    "ExecuteTime": {
     "end_time": "2024-06-06T13:09:43.323892600Z",
     "start_time": "2024-06-06T13:09:43.297743Z"
    }
   },
   "outputs": [],
   "source": [
    "%load_ext autoreload\n",
    "%autoreload 2"
   ]
  },
  {
   "cell_type": "code",
   "execution_count": 2,
   "id": "793ea6ad30db8951",
   "metadata": {
    "ExecuteTime": {
     "end_time": "2024-06-06T13:09:44.659460400Z",
     "start_time": "2024-06-06T13:09:43.322792600Z"
    }
   },
   "outputs": [],
   "source": [
    "from IPython.display import HTML\n",
    "\n",
    "from penai.registries.projects import SavedPenpotProject\n",
    "from penai.registries.web_drivers import RegisteredWebDriver\n",
    "from penai.variations.svg_variations import SVGVariationsGenerator"
   ]
  },
  {
   "cell_type": "code",
   "execution_count": 3,
   "id": "3b32aa5c9df0a768",
   "metadata": {
    "collapsed": false,
    "ExecuteTime": {
     "end_time": "2024-06-06T13:10:00.031769100Z",
     "start_time": "2024-06-06T13:09:44.660544800Z"
    }
   },
   "outputs": [
    {
     "name": "stderr",
     "output_type": "stream",
     "text": [
      "Scanning remote paths in penpot/data/raw/designs/Interactive music app: 100%|██████████| 8/8 [00:00<00:00, 149.68it/s]\n",
      "pulling (bytes): 0it [00:00, ?it/s]\n",
      "Setting view boxes: 100%|██████████| 397/397 [00:08<00:00, 48.77it/s] \n"
     ]
    }
   ],
   "source": [
    "saved_penpot_project = SavedPenpotProject.INTERACTIVE_MUSIC_APP  #\n",
    "penpot_project = saved_penpot_project.load(pull=True)\n",
    "main_file = penpot_project.get_main_file()\n",
    "page = main_file.get_page_by_name(\"Interactive music app\")\n",
    "page.svg.retrieve_and_set_view_boxes_for_shape_elements(RegisteredWebDriver.CHROME)"
   ]
  },
  {
   "cell_type": "code",
   "execution_count": 4,
   "id": "569165abe387197f",
   "metadata": {
    "collapsed": false,
    "ExecuteTime": {
     "end_time": "2024-06-06T13:10:00.094837700Z",
     "start_time": "2024-06-06T13:10:00.035134400Z"
    }
   },
   "outputs": [],
   "source": [
    "shape = page.svg.get_shape_by_name(\"ic_equalizer_48px-1\")"
   ]
  },
  {
   "cell_type": "code",
   "execution_count": 5,
   "id": "451bf67f87f40e4f",
   "metadata": {
    "collapsed": false,
    "ExecuteTime": {
     "end_time": "2024-06-06T13:10:39.730714400Z",
     "start_time": "2024-06-06T13:10:00.095877100Z"
    }
   },
   "outputs": [
    {
     "name": "stderr",
     "output_type": "stream",
     "text": [
      "C:\\Users\\DominikJain\\miniconda3\\envs\\penai\\Lib\\site-packages\\langchain_core\\_api\\deprecation.py:119: LangChainDeprecationWarning: The method `Chain.run` was deprecated in langchain 0.1.0 and will be removed in 0.3.0. Use invoke instead.\n",
      "  warn_deprecated(\n"
     ]
    },
    {
     "name": "stdout",
     "output_type": "stream",
     "text": [
      "Sure! Let's refactor the SVG to use explicit shape tags like `rect` and `circle` while maintaining the cutouts using appropriate masks. Here's the refactored SVG:\n",
      "\n",
      "```xml\n",
      "<svg xmlns=\"http://www.w3.org/2000/svg\" xmlns:xlink=\"http://www.w3.org/1999/xlink\" xmlns:penpot=\"https://penpot.app/xmlns\" viewBox=\"1136.0 474.0 72.0 72.0\" version=\"1.1\" style=\"width:100%;height:100%;background:#E8E9EA\" fill=\"none\" preserveAspectRatio=\"xMinYMin meet\">\n",
      "  <defs>\n",
      "    <mask id=\"mask\">\n",
      "      <rect x=\"1136\" y=\"474\" width=\"72\" height=\"72\" fill=\"white\"/>\n",
      "      <rect x=\"1168.4\" y=\"495.6\" width=\"7.2\" height=\"28.8\" fill=\"black\"/>\n",
      "      <rect x=\"1157.6\" y=\"510\" width=\"7.2\" height=\"14.4\" fill=\"black\"/>\n",
      "      <rect x=\"1179.2\" y=\"504.6\" width=\"7.2\" height=\"19.8\" fill=\"black\"/>\n",
      "    </mask>\n",
      "  </defs>\n",
      "  <circle cx=\"1172\" cy=\"510\" r=\"36\" fill=\"black\" mask=\"url(#mask)\"/>\n",
      "</svg>\n",
      "```\n",
      "\n",
      "### Explanation:\n",
      "1. **Circle**: The main shape is a circle with a center at (1172, 510) and a radius of 36.\n",
      "2. **Mask**: The mask is used to create the cutouts. It consists of three rectangles:\n",
      "   - The first rectangle is positioned at (1168.4, 495.6) with a width of 7.2 and a height of 28.8.\n",
      "   - The second rectangle is positioned at (1157.6, 510) with a width of 7.2 and a height of 14.4.\n",
      "   - The third rectangle is positioned at (1179.2, 504.6) with a width of 7.2 and a height of 19.8.\n",
      "\n",
      "The mask is applied to the circle to create the cutout effect, maintaining the original design.\n",
      "Sure! Here are five variations of the SVG, each with slight modifications to shapes, colors, and positioning while staying close to the original design.\n",
      "\n",
      "## Variation 1: Blue Equalizer\n",
      "\n",
      "```xml\n",
      "<svg xmlns=\"http://www.w3.org/2000/svg\" xmlns:xlink=\"http://www.w3.org/1999/xlink\" xmlns:penpot=\"https://penpot.app/xmlns\" viewBox=\"1136.0 474.0 72.0 72.0\" version=\"1.1\" style=\"width:100%;height:100%;background:#E8E9EA\" fill=\"none\" preserveAspectRatio=\"xMinYMin meet\">\n",
      "  <defs>\n",
      "    <mask id=\"mask1\">\n",
      "      <rect x=\"1136\" y=\"474\" width=\"72\" height=\"72\" fill=\"white\"/>\n",
      "      <rect x=\"1168.4\" y=\"495.6\" width=\"7.2\" height=\"28.8\" fill=\"black\"/>\n",
      "      <rect x=\"1157.6\" y=\"510\" width=\"7.2\" height=\"14.4\" fill=\"black\"/>\n",
      "      <rect x=\"1179.2\" y=\"504.6\" width=\"7.2\" height=\"19.8\" fill=\"black\"/>\n",
      "    </mask>\n",
      "  </defs>\n",
      "  <circle cx=\"1172\" cy=\"510\" r=\"36\" fill=\"blue\" mask=\"url(#mask1)\"/>\n",
      "</svg>\n",
      "```\n",
      "\n",
      "## Variation 2: Green Equalizer with Shifted Bars\n",
      "\n",
      "```xml\n",
      "<svg xmlns=\"http://www.w3.org/2000/svg\" xmlns:xlink=\"http://www.w3.org/1999/xlink\" xmlns:penpot=\"https://penpot.app/xmlns\" viewBox=\"1136.0 474.0 72.0 72.0\" version=\"1.1\" style=\"width:100%;height:100%;background:#E8E9EA\" fill=\"none\" preserveAspectRatio=\"xMinYMin meet\">\n",
      "  <defs>\n",
      "    <mask id=\"mask2\">\n",
      "      <rect x=\"1136\" y=\"474\" width=\"72\" height=\"72\" fill=\"white\"/>\n",
      "      <rect x=\"1166.4\" y=\"495.6\" width=\"7.2\" height=\"28.8\" fill=\"black\"/>\n",
      "      <rect x=\"1155.6\" y=\"510\" width=\"7.2\" height=\"14.4\" fill=\"black\"/>\n",
      "      <rect x=\"1177.2\" y=\"504.6\" width=\"7.2\" height=\"19.8\" fill=\"black\"/>\n",
      "    </mask>\n",
      "  </defs>\n",
      "  <circle cx=\"1172\" cy=\"510\" r=\"36\" fill=\"green\" mask=\"url(#mask2)\"/>\n",
      "</svg>\n",
      "```\n",
      "\n",
      "## Variation 3: Red Equalizer with Elliptical Bars\n",
      "\n",
      "```xml\n",
      "<svg xmlns=\"http://www.w3.org/2000/svg\" xmlns:xlink=\"http://www.w3.org/1999/xlink\" xmlns:penpot=\"https://penpot.app/xmlns\" viewBox=\"1136.0 474.0 72.0 72.0\" version=\"1.1\" style=\"width:100%;height:100%;background:#E8E9EA\" fill=\"none\" preserveAspectRatio=\"xMinYMin meet\">\n",
      "  <defs>\n",
      "    <mask id=\"mask3\">\n",
      "      <rect x=\"1136\" y=\"474\" width=\"72\" height=\"72\" fill=\"white\"/>\n",
      "      <ellipse cx=\"1172\" cy=\"510\" rx=\"3.6\" ry=\"14.4\" fill=\"black\"/>\n",
      "      <ellipse cx=\"1161.6\" cy=\"510\" rx=\"3.6\" ry=\"7.2\" fill=\"black\"/>\n",
      "      <ellipse cx=\"1182.4\" cy=\"510\" rx=\"3.6\" ry=\"9.9\" fill=\"black\"/>\n",
      "    </mask>\n",
      "  </defs>\n",
      "  <circle cx=\"1172\" cy=\"510\" r=\"36\" fill=\"red\" mask=\"url(#mask3)\"/>\n",
      "</svg>\n",
      "```\n",
      "\n",
      "## Variation 4: Yellow Equalizer with Larger Bars\n",
      "\n",
      "```xml\n",
      "<svg xmlns=\"http://www.w3.org/2000/svg\" xmlns:xlink=\"http://www.w3.org/1999/xlink\" xmlns:penpot=\"https://penpot.app/xmlns\" viewBox=\"1136.0 474.0 72.0 72.0\" version=\"1.1\" style=\"width:100%;height:100%;background:#E8E9EA\" fill=\"none\" preserveAspectRatio=\"xMinYMin meet\">\n",
      "  <defs>\n",
      "    <mask id=\"mask4\">\n",
      "      <rect x=\"1136\" y=\"474\" width=\"72\" height=\"72\" fill=\"white\"/>\n",
      "      <rect x=\"1168.4\" y=\"495.6\" width=\"10\" height=\"30\" fill=\"black\"/>\n",
      "      <rect x=\"1157.6\" y=\"510\" width=\"10\" height=\"16\" fill=\"black\"/>\n",
      "      <rect x=\"1179.2\" y=\"504.6\" width=\"10\" height=\"22\" fill=\"black\"/>\n",
      "    </mask>\n",
      "  </defs>\n",
      "  <circle cx=\"1172\" cy=\"510\" r=\"36\" fill=\"yellow\" mask=\"url(#mask4)\"/>\n",
      "</svg>\n",
      "```\n",
      "\n",
      "## Variation 5: Purple Equalizer with Smaller Circle\n",
      "\n",
      "```xml\n",
      "<svg xmlns=\"http://www.w3.org/2000/svg\" xmlns:xlink=\"http://www.w3.org/1999/xlink\" xmlns:penpot=\"https://penpot.app/xmlns\" viewBox=\"1136.0 474.0 72.0 72.0\" version=\"1.1\" style=\"width:100%;height:100%;background:#E8E9EA\" fill=\"none\" preserveAspectRatio=\"xMinYMin meet\">\n",
      "  <defs>\n",
      "    <mask id=\"mask5\">\n",
      "      <rect x=\"1136\" y=\"474\" width=\"72\" height=\"72\" fill=\"white\"/>\n",
      "      <rect x=\"1168.4\" y=\"495.6\" width=\"7.2\" height=\"28.8\" fill=\"black\"/>\n",
      "      <rect x=\"1157.6\" y=\"510\" width=\"7.2\" height=\"14.4\" fill=\"black\"/>\n",
      "      <rect x=\"1179.2\" y=\"504.6\" width=\"7.2\" height=\"19.8\" fill=\"black\"/>\n",
      "    </mask>\n",
      "  </defs>\n",
      "  <circle cx=\"1172\" cy=\"510\" r=\"30\" fill=\"purple\" mask=\"url(#mask5)\"/>\n",
      "</svg>\n",
      "```\n",
      "\n",
      "Each variation maintains the core design of the equalizer but introduces different colors, shapes, and slight positional adjustments to create unique versions.\n"
     ]
    },
    {
     "data": {
      "text/plain": "<IPython.core.display.HTML object>",
      "text/html": "<html><body><div style=\"width:60%\"><h1>Variations</h1><h2>Variation 1: Blue Equalizer</h2>xml\n<svg xmlns=\"http://www.w3.org/2000/svg\" xmlns:xlink=\"http://www.w3.org/1999/xlink\" xmlns:penpot=\"https://penpot.app/xmlns\" viewBox=\"1136.0 474.0 72.0 72.0\" version=\"1.1\" style=\"width:100%;height:100%;background:#E8E9EA\" fill=\"none\" preserveAspectRatio=\"xMinYMin meet\">\n  <defs>\n    <mask id=\"mask1\">\n      <rect x=\"1136\" y=\"474\" width=\"72\" height=\"72\" fill=\"white\"/>\n      <rect x=\"1168.4\" y=\"495.6\" width=\"7.2\" height=\"28.8\" fill=\"black\"/>\n      <rect x=\"1157.6\" y=\"510\" width=\"7.2\" height=\"14.4\" fill=\"black\"/>\n      <rect x=\"1179.2\" y=\"504.6\" width=\"7.2\" height=\"19.8\" fill=\"black\"/>\n    </mask>\n  </defs>\n  <circle cx=\"1172\" cy=\"510\" r=\"36\" fill=\"blue\" mask=\"url(#mask1)\"/>\n</svg><h2>Variation 2: Green Equalizer with Shifted Bars</h2>xml\n<svg xmlns=\"http://www.w3.org/2000/svg\" xmlns:xlink=\"http://www.w3.org/1999/xlink\" xmlns:penpot=\"https://penpot.app/xmlns\" viewBox=\"1136.0 474.0 72.0 72.0\" version=\"1.1\" style=\"width:100%;height:100%;background:#E8E9EA\" fill=\"none\" preserveAspectRatio=\"xMinYMin meet\">\n  <defs>\n    <mask id=\"mask2\">\n      <rect x=\"1136\" y=\"474\" width=\"72\" height=\"72\" fill=\"white\"/>\n      <rect x=\"1166.4\" y=\"495.6\" width=\"7.2\" height=\"28.8\" fill=\"black\"/>\n      <rect x=\"1155.6\" y=\"510\" width=\"7.2\" height=\"14.4\" fill=\"black\"/>\n      <rect x=\"1177.2\" y=\"504.6\" width=\"7.2\" height=\"19.8\" fill=\"black\"/>\n    </mask>\n  </defs>\n  <circle cx=\"1172\" cy=\"510\" r=\"36\" fill=\"green\" mask=\"url(#mask2)\"/>\n</svg><h2>Variation 3: Red Equalizer with Elliptical Bars</h2>xml\n<svg xmlns=\"http://www.w3.org/2000/svg\" xmlns:xlink=\"http://www.w3.org/1999/xlink\" xmlns:penpot=\"https://penpot.app/xmlns\" viewBox=\"1136.0 474.0 72.0 72.0\" version=\"1.1\" style=\"width:100%;height:100%;background:#E8E9EA\" fill=\"none\" preserveAspectRatio=\"xMinYMin meet\">\n  <defs>\n    <mask id=\"mask3\">\n      <rect x=\"1136\" y=\"474\" width=\"72\" height=\"72\" fill=\"white\"/>\n      <ellipse cx=\"1172\" cy=\"510\" rx=\"3.6\" ry=\"14.4\" fill=\"black\"/>\n      <ellipse cx=\"1161.6\" cy=\"510\" rx=\"3.6\" ry=\"7.2\" fill=\"black\"/>\n      <ellipse cx=\"1182.4\" cy=\"510\" rx=\"3.6\" ry=\"9.9\" fill=\"black\"/>\n    </mask>\n  </defs>\n  <circle cx=\"1172\" cy=\"510\" r=\"36\" fill=\"red\" mask=\"url(#mask3)\"/>\n</svg><h2>Variation 4: Yellow Equalizer with Larger Bars</h2>xml\n<svg xmlns=\"http://www.w3.org/2000/svg\" xmlns:xlink=\"http://www.w3.org/1999/xlink\" xmlns:penpot=\"https://penpot.app/xmlns\" viewBox=\"1136.0 474.0 72.0 72.0\" version=\"1.1\" style=\"width:100%;height:100%;background:#E8E9EA\" fill=\"none\" preserveAspectRatio=\"xMinYMin meet\">\n  <defs>\n    <mask id=\"mask4\">\n      <rect x=\"1136\" y=\"474\" width=\"72\" height=\"72\" fill=\"white\"/>\n      <rect x=\"1168.4\" y=\"495.6\" width=\"10\" height=\"30\" fill=\"black\"/>\n      <rect x=\"1157.6\" y=\"510\" width=\"10\" height=\"16\" fill=\"black\"/>\n      <rect x=\"1179.2\" y=\"504.6\" width=\"10\" height=\"22\" fill=\"black\"/>\n    </mask>\n  </defs>\n  <circle cx=\"1172\" cy=\"510\" r=\"36\" fill=\"yellow\" mask=\"url(#mask4)\"/>\n</svg><h2>Variation 5: Purple Equalizer with Smaller Circle</h2>xml\n<svg xmlns=\"http://www.w3.org/2000/svg\" xmlns:xlink=\"http://www.w3.org/1999/xlink\" xmlns:penpot=\"https://penpot.app/xmlns\" viewBox=\"1136.0 474.0 72.0 72.0\" version=\"1.1\" style=\"width:100%;height:100%;background:#E8E9EA\" fill=\"none\" preserveAspectRatio=\"xMinYMin meet\">\n  <defs>\n    <mask id=\"mask5\">\n      <rect x=\"1136\" y=\"474\" width=\"72\" height=\"72\" fill=\"white\"/>\n      <rect x=\"1168.4\" y=\"495.6\" width=\"7.2\" height=\"28.8\" fill=\"black\"/>\n      <rect x=\"1157.6\" y=\"510\" width=\"7.2\" height=\"14.4\" fill=\"black\"/>\n      <rect x=\"1179.2\" y=\"504.6\" width=\"7.2\" height=\"19.8\" fill=\"black\"/>\n    </mask>\n  </defs>\n  <circle cx=\"1172\" cy=\"510\" r=\"30\" fill=\"purple\" mask=\"url(#mask5)\"/>\n</svg></div></body></html>"
     },
     "execution_count": 5,
     "metadata": {},
     "output_type": "execute_result"
    }
   ],
   "source": [
    "var_gen = SVGVariationsGenerator(shape=shape, semantics=\"equalizer\")\n",
    "variations = var_gen.create_variations()\n",
    "HTML(variations.to_html())"
   ]
  },
  {
   "cell_type": "code",
   "execution_count": 6,
   "id": "74170dfb4dbc2dc9",
   "metadata": {
    "collapsed": false,
    "ExecuteTime": {
     "end_time": "2024-06-06T13:11:13.947423400Z",
     "start_time": "2024-06-06T13:10:39.724781600Z"
    }
   },
   "outputs": [
    {
     "name": "stdout",
     "output_type": "stream",
     "text": [
      "Sure! Here are the modified variations, each considering changes in shapes while maintaining the core design of the equalizer.\n",
      "\n",
      "## Variation 1: Blue Equalizer with Triangular Bars\n",
      "\n",
      "```xml\n",
      "<svg xmlns=\"http://www.w3.org/2000/svg\" xmlns:xlink=\"http://www.w3.org/1999/xlink\" xmlns:penpot=\"https://penpot.app/xmlns\" viewBox=\"1136.0 474.0 72.0 72.0\" version=\"1.1\" style=\"width:100%;height:100%;background:#E8E9EA\" fill=\"none\" preserveAspectRatio=\"xMinYMin meet\">\n",
      "  <defs>\n",
      "    <mask id=\"mask1\">\n",
      "      <rect x=\"1136\" y=\"474\" width=\"72\" height=\"72\" fill=\"white\"/>\n",
      "      <polygon points=\"1168.4,495.6 1172,524.4 1164.8,524.4\" fill=\"black\"/>\n",
      "      <polygon points=\"1157.6,510 1161.2,524.4 1154,524.4\" fill=\"black\"/>\n",
      "      <polygon points=\"1179.2,504.6 1182.8,524.4 1175.6,524.4\" fill=\"black\"/>\n",
      "    </mask>\n",
      "  </defs>\n",
      "  <circle cx=\"1172\" cy=\"510\" r=\"36\" fill=\"blue\" mask=\"url(#mask1)\"/>\n",
      "</svg>\n",
      "```\n",
      "\n",
      "## Variation 2: Green Equalizer with Circular Bars\n",
      "\n",
      "```xml\n",
      "<svg xmlns=\"http://www.w3.org/2000/svg\" xmlns:xlink=\"http://www.w3.org/1999/xlink\" xmlns:penpot=\"https://penpot.app/xmlns\" viewBox=\"1136.0 474.0 72.0 72.0\" version=\"1.1\" style=\"width:100%;height:100%;background:#E8E9EA\" fill=\"none\" preserveAspectRatio=\"xMinYMin meet\">\n",
      "  <defs>\n",
      "    <mask id=\"mask2\">\n",
      "      <rect x=\"1136\" y=\"474\" width=\"72\" height=\"72\" fill=\"white\"/>\n",
      "      <circle cx=\"1172\" cy=\"510\" r=\"14.4\" fill=\"black\"/>\n",
      "      <circle cx=\"1161.6\" cy=\"510\" r=\"7.2\" fill=\"black\"/>\n",
      "      <circle cx=\"1182.4\" cy=\"510\" r=\"9.9\" fill=\"black\"/>\n",
      "    </mask>\n",
      "  </defs>\n",
      "  <circle cx=\"1172\" cy=\"510\" r=\"36\" fill=\"green\" mask=\"url(#mask2)\"/>\n",
      "</svg>\n",
      "```\n",
      "\n",
      "## Variation 3: Red Equalizer with Diamond Bars\n",
      "\n",
      "```xml\n",
      "<svg xmlns=\"http://www.w3.org/2000/svg\" xmlns:xlink=\"http://www.w3.org/1999/xlink\" xmlns:penpot=\"https://penpot.app/xmlns\" viewBox=\"1136.0 474.0 72.0 72.0\" version=\"1.1\" style=\"width:100%;height:100%;background:#E8E9EA\" fill=\"none\" preserveAspectRatio=\"xMinYMin meet\">\n",
      "  <defs>\n",
      "    <mask id=\"mask3\">\n",
      "      <rect x=\"1136\" y=\"474\" width=\"72\" height=\"72\" fill=\"white\"/>\n",
      "      <polygon points=\"1172,495.6 1175.6,510 1172,524.4 1168.4,510\" fill=\"black\"/>\n",
      "      <polygon points=\"1161.6,510 1165.2,517.2 1161.6,524.4 1158,517.2\" fill=\"black\"/>\n",
      "      <polygon points=\"1182.4,504.6 1186,514.2 1182.4,524.4 1178.8,514.2\" fill=\"black\"/>\n",
      "    </mask>\n",
      "  </defs>\n",
      "  <circle cx=\"1172\" cy=\"510\" r=\"36\" fill=\"red\" mask=\"url(#mask3)\"/>\n",
      "</svg>\n",
      "```\n",
      "\n",
      "## Variation 4: Yellow Equalizer with Star Bars\n",
      "\n",
      "```xml\n",
      "<svg xmlns=\"http://www.w3.org/2000/svg\" xmlns:xlink=\"http://www.w3.org/1999/xlink\" xmlns:penpot=\"https://penpot.app/xmlns\" viewBox=\"1136.0 474.0 72.0 72.0\" version=\"1.1\" style=\"width:100%;height:100%;background:#E8E9EA\" fill=\"none\" preserveAspectRatio=\"xMinYMin meet\">\n",
      "  <defs>\n",
      "    <mask id=\"mask4\">\n",
      "      <rect x=\"1136\" y=\"474\" width=\"72\" height=\"72\" fill=\"white\"/>\n",
      "      <polygon points=\"1172,495.6 1174.4,504 1182.8,504 1176.4,510 1178.8,518.4 1172,514.8 1165.2,518.4 1167.6,510 1161.2,504 1169.6,504\" fill=\"black\"/>\n",
      "      <polygon points=\"1161.6,510 1164,518.4 1172.4,518.4 1166,524.4 1168.4,532.8 1161.6,529.2 1154.8,532.8 1157.2,524.4 1150.8,518.4 1159.2,518.4\" fill=\"black\"/>\n",
      "      <polygon points=\"1182.4,504.6 1184.8,513 1193.2,513 1186.8,519 1189.2,527.4 1182.4,523.8 1175.6,527.4 1178,519 1171.6,513 1180,513\" fill=\"black\"/>\n",
      "    </mask>\n",
      "  </defs>\n",
      "  <circle cx=\"1172\" cy=\"510\" r=\"36\" fill=\"yellow\" mask=\"url(#mask4)\"/>\n",
      "</svg>\n",
      "```\n",
      "\n",
      "## Variation 5: Purple Equalizer with Hexagonal Bars\n",
      "\n",
      "```xml\n",
      "<svg xmlns=\"http://www.w3.org/2000/svg\" xmlns:xlink=\"http://www.w3.org/1999/xlink\" xmlns:penpot=\"https://penpot.app/xmlns\" viewBox=\"1136.0 474.0 72.0 72.0\" version=\"1.1\" style=\"width:100%;height:100%;background:#E8E9EA\" fill=\"none\" preserveAspectRatio=\"xMinYMin meet\">\n",
      "  <defs>\n",
      "    <mask id=\"mask5\">\n",
      "      <rect x=\"1136\" y=\"474\" width=\"72\" height=\"72\" fill=\"white\"/>\n",
      "      <polygon points=\"1172,495.6 1176.4,504 1172,512.4 1167.6,504\" fill=\"black\"/>\n",
      "      <polygon points=\"1161.6,510 1166,518.4 1161.6,526.8 1157.2,518.4\" fill=\"black\"/>\n",
      "      <polygon points=\"1182.4,504.6 1186.8,513 1182.4,521.4 1178,513\" fill=\"black\"/>\n",
      "    </mask>\n",
      "  </defs>\n",
      "  <circle cx=\"1172\" cy=\"510\" r=\"36\" fill=\"purple\" mask=\"url(#mask5)\"/>\n",
      "</svg>\n",
      "```\n",
      "\n",
      "Each variation now includes different shapes for the bars (triangles, circles, diamonds, stars, and hexagons) while maintaining the overall equalizer design.\n"
     ]
    }
   ],
   "source": [
    "add_variations = variations.revise(\"Modify these variations such that they all consider shape changes.\")"
   ]
  },
  {
   "cell_type": "code",
   "execution_count": 7,
   "id": "9b886fc4c8ff14af",
   "metadata": {
    "collapsed": false,
    "ExecuteTime": {
     "end_time": "2024-06-06T13:11:13.999851600Z",
     "start_time": "2024-06-06T13:11:13.948459900Z"
    }
   },
   "outputs": [
    {
     "data": {
      "text/plain": "<IPython.core.display.HTML object>",
      "text/html": "<html><body><div style=\"width:60%\"><h1>Variations</h1><h2>Variation 1: Blue Equalizer with Triangular Bars</h2><svg xmlns=\"http://www.w3.org/2000/svg\" xmlns:xlink=\"http://www.w3.org/1999/xlink\" xmlns:penpot=\"https://penpot.app/xmlns\" viewBox=\"1136.0 474.0 72.0 72.0\" version=\"1.1\" style=\"width:100%;height:100%;background:#E8E9EA\" fill=\"none\" preserveAspectRatio=\"xMinYMin meet\">\n  <defs>\n    <mask id=\"40545a7e-2406-11ef-a7db-000ec69542bc\">\n      <rect x=\"1136\" y=\"474\" width=\"72\" height=\"72\" fill=\"white\"/>\n      <polygon points=\"1168.4,495.6 1172,524.4 1164.8,524.4\" fill=\"black\"/>\n      <polygon points=\"1157.6,510 1161.2,524.4 1154,524.4\" fill=\"black\"/>\n      <polygon points=\"1179.2,504.6 1182.8,524.4 1175.6,524.4\" fill=\"black\"/>\n    </mask>\n  </defs>\n  <circle cx=\"1172\" cy=\"510\" r=\"36\" fill=\"blue\" mask=\"url(#40545a7e-2406-11ef-a7db-000ec69542bc)\"/>\n</svg><h2>Variation 2: Green Equalizer with Circular Bars</h2><svg xmlns=\"http://www.w3.org/2000/svg\" xmlns:xlink=\"http://www.w3.org/1999/xlink\" xmlns:penpot=\"https://penpot.app/xmlns\" viewBox=\"1136.0 474.0 72.0 72.0\" version=\"1.1\" style=\"width:100%;height:100%;background:#E8E9EA\" fill=\"none\" preserveAspectRatio=\"xMinYMin meet\">\n  <defs>\n    <mask id=\"40545a7f-2406-11ef-8564-000ec69542bc\">\n      <rect x=\"1136\" y=\"474\" width=\"72\" height=\"72\" fill=\"white\"/>\n      <circle cx=\"1172\" cy=\"510\" r=\"14.4\" fill=\"black\"/>\n      <circle cx=\"1161.6\" cy=\"510\" r=\"7.2\" fill=\"black\"/>\n      <circle cx=\"1182.4\" cy=\"510\" r=\"9.9\" fill=\"black\"/>\n    </mask>\n  </defs>\n  <circle cx=\"1172\" cy=\"510\" r=\"36\" fill=\"green\" mask=\"url(#40545a7f-2406-11ef-8564-000ec69542bc)\"/>\n</svg><h2>Variation 3: Red Equalizer with Diamond Bars</h2><svg xmlns=\"http://www.w3.org/2000/svg\" xmlns:xlink=\"http://www.w3.org/1999/xlink\" xmlns:penpot=\"https://penpot.app/xmlns\" viewBox=\"1136.0 474.0 72.0 72.0\" version=\"1.1\" style=\"width:100%;height:100%;background:#E8E9EA\" fill=\"none\" preserveAspectRatio=\"xMinYMin meet\">\n  <defs>\n    <mask id=\"40545a80-2406-11ef-916e-000ec69542bc\">\n      <rect x=\"1136\" y=\"474\" width=\"72\" height=\"72\" fill=\"white\"/>\n      <polygon points=\"1172,495.6 1175.6,510 1172,524.4 1168.4,510\" fill=\"black\"/>\n      <polygon points=\"1161.6,510 1165.2,517.2 1161.6,524.4 1158,517.2\" fill=\"black\"/>\n      <polygon points=\"1182.4,504.6 1186,514.2 1182.4,524.4 1178.8,514.2\" fill=\"black\"/>\n    </mask>\n  </defs>\n  <circle cx=\"1172\" cy=\"510\" r=\"36\" fill=\"red\" mask=\"url(#40545a80-2406-11ef-916e-000ec69542bc)\"/>\n</svg><h2>Variation 4: Yellow Equalizer with Star Bars</h2><svg xmlns=\"http://www.w3.org/2000/svg\" xmlns:xlink=\"http://www.w3.org/1999/xlink\" xmlns:penpot=\"https://penpot.app/xmlns\" viewBox=\"1136.0 474.0 72.0 72.0\" version=\"1.1\" style=\"width:100%;height:100%;background:#E8E9EA\" fill=\"none\" preserveAspectRatio=\"xMinYMin meet\">\n  <defs>\n    <mask id=\"40545a81-2406-11ef-a27d-000ec69542bc\">\n      <rect x=\"1136\" y=\"474\" width=\"72\" height=\"72\" fill=\"white\"/>\n      <polygon points=\"1172,495.6 1174.4,504 1182.8,504 1176.4,510 1178.8,518.4 1172,514.8 1165.2,518.4 1167.6,510 1161.2,504 1169.6,504\" fill=\"black\"/>\n      <polygon points=\"1161.6,510 1164,518.4 1172.4,518.4 1166,524.4 1168.4,532.8 1161.6,529.2 1154.8,532.8 1157.2,524.4 1150.8,518.4 1159.2,518.4\" fill=\"black\"/>\n      <polygon points=\"1182.4,504.6 1184.8,513 1193.2,513 1186.8,519 1189.2,527.4 1182.4,523.8 1175.6,527.4 1178,519 1171.6,513 1180,513\" fill=\"black\"/>\n    </mask>\n  </defs>\n  <circle cx=\"1172\" cy=\"510\" r=\"36\" fill=\"yellow\" mask=\"url(#40545a81-2406-11ef-a27d-000ec69542bc)\"/>\n</svg><h2>Variation 5: Purple Equalizer with Hexagonal Bars</h2><svg xmlns=\"http://www.w3.org/2000/svg\" xmlns:xlink=\"http://www.w3.org/1999/xlink\" xmlns:penpot=\"https://penpot.app/xmlns\" viewBox=\"1136.0 474.0 72.0 72.0\" version=\"1.1\" style=\"width:100%;height:100%;background:#E8E9EA\" fill=\"none\" preserveAspectRatio=\"xMinYMin meet\">\n  <defs>\n    <mask id=\"40545a82-2406-11ef-a105-000ec69542bc\">\n      <rect x=\"1136\" y=\"474\" width=\"72\" height=\"72\" fill=\"white\"/>\n      <polygon points=\"1172,495.6 1176.4,504 1172,512.4 1167.6,504\" fill=\"black\"/>\n      <polygon points=\"1161.6,510 1166,518.4 1161.6,526.8 1157.2,518.4\" fill=\"black\"/>\n      <polygon points=\"1182.4,504.6 1186.8,513 1182.4,521.4 1178,513\" fill=\"black\"/>\n    </mask>\n  </defs>\n  <circle cx=\"1172\" cy=\"510\" r=\"36\" fill=\"purple\" mask=\"url(#40545a82-2406-11ef-a105-000ec69542bc)\"/>\n</svg></div></body></html>"
     },
     "metadata": {},
     "output_type": "display_data"
    }
   ],
   "source": [
    "display(HTML(add_variations.to_html()))"
   ]
  },
  {
   "cell_type": "code",
   "execution_count": null,
   "id": "a4d58b706981f28c",
   "metadata": {
    "collapsed": false,
    "ExecuteTime": {
     "start_time": "2024-06-06T13:11:14.194253300Z"
    }
   },
   "outputs": [],
   "source": []
  }
 ],
 "metadata": {
  "kernelspec": {
   "display_name": "Python 3 (ipykernel)",
   "language": "python",
   "name": "python3"
  },
  "language_info": {
   "codemirror_mode": {
    "name": "ipython",
    "version": 3
   },
   "file_extension": ".py",
   "mimetype": "text/x-python",
   "name": "python",
   "nbconvert_exporter": "python",
   "pygments_lexer": "ipython3",
   "version": "3.11.9"
  }
 },
 "nbformat": 4,
 "nbformat_minor": 5
}
