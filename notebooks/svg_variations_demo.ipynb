{
 "cells": [
  {
   "cell_type": "code",
   "execution_count": 1,
   "id": "bd811f91206293e6",
   "metadata": {
    "ExecuteTime": {
     "end_time": "2024-06-11T14:21:29.234390900Z",
     "start_time": "2024-06-11T14:21:29.206340900Z"
    }
   },
   "outputs": [],
   "source": [
    "%load_ext autoreload\n",
    "%autoreload 2"
   ]
  },
  {
   "cell_type": "code",
   "execution_count": 2,
   "id": "793ea6ad30db8951",
   "metadata": {
    "ExecuteTime": {
     "end_time": "2024-06-11T14:21:33.763629100Z",
     "start_time": "2024-06-11T14:21:30.760011900Z"
    }
   },
   "outputs": [],
   "source": [
    "from IPython.display import HTML\n",
    "\n",
    "from penai.registries.projects import SavedPenpotProject\n",
    "from penai.llm.llm_model import RegisteredLLM\n",
    "from penai.variations.svg_variations import SVGVariationsGenerator"
   ]
  },
  {
   "cell_type": "code",
   "execution_count": 3,
   "id": "3b32aa5c9df0a768",
   "metadata": {
    "collapsed": false,
    "ExecuteTime": {
     "end_time": "2024-06-11T14:21:51.678735400Z",
     "start_time": "2024-06-11T14:21:36.336673100Z"
    }
   },
   "outputs": [
    {
     "name": "stderr",
     "output_type": "stream",
     "text": [
      "Scanning remote paths in penpot/data/raw/designs/Interactive music app: 100%|██████████| 8/8 [00:00<00:00, 724.78it/s]\n",
      "force pulling (bytes): 0it [00:00, ?it/s]\n",
      "Setting view boxes: 100%|██████████| 397/397 [00:08<00:00, 48.24it/s] \n"
     ]
    }
   ],
   "source": [
    "page_svg = SavedPenpotProject.INTERACTIVE_MUSIC_APP.load_page_svg_with_viewboxes(\"Interactive music app\")\n"
   ]
  },
  {
   "cell_type": "code",
   "execution_count": 5,
   "id": "569165abe387197f",
   "metadata": {
    "collapsed": false,
    "ExecuteTime": {
     "end_time": "2024-06-11T14:22:16.368089Z",
     "start_time": "2024-06-11T14:22:16.287570500Z"
    }
   },
   "outputs": [],
   "source": [
    "shape = page_svg.get_shape_by_name(\"ic_equalizer_48px-1\")"
   ]
  },
  {
   "cell_type": "code",
   "execution_count": 6,
   "id": "451bf67f87f40e4f",
   "metadata": {
    "collapsed": false,
    "ExecuteTime": {
     "end_time": "2024-06-11T14:23:25.930335Z",
     "start_time": "2024-06-11T14:22:17.104133200Z"
    }
   },
   "outputs": [
    {
     "name": "stdout",
     "output_type": "stream",
     "text": [
      "To refactor the SVG and make the shapes explicit, we can use the `circle` and `rect` tags for the respective shapes. We will also use a `mask` to maintain the cutouts. Here is the refactored SVG:\n",
      "\n",
      "```xml\n",
      "<svg xmlns=\"http://www.w3.org/2000/svg\" xmlns:xlink=\"http://www.w3.org/1999/xlink\" xmlns:penpot=\"https://penpot.app/xmlns\" viewBox=\"1136.0 474.0 72.0 72.0\" version=\"1.1\" style=\"width:100%;height:100%;background:#E8E9EA\" fill=\"none\" preserveAspectRatio=\"xMinYMin meet\">\n",
      "    <defs>\n",
      "        <mask id=\"cutout-mask\">\n",
      "            <rect x=\"1136\" y=\"474\" width=\"72\" height=\"72\" fill=\"white\"/>\n",
      "            <rect x=\"1168.4\" y=\"495.6\" width=\"7.2\" height=\"28.8\" fill=\"black\"/>\n",
      "            <rect x=\"1157.6\" y=\"510\" width=\"7.2\" height=\"14.4\" fill=\"black\"/>\n",
      "            <rect x=\"1179.2\" y=\"504.6\" width=\"7.2\" height=\"19.8\" fill=\"black\"/>\n",
      "        </mask>\n",
      "    </defs>\n",
      "    <circle cx=\"1172\" cy=\"510\" r=\"36\" fill=\"black\" mask=\"url(#cutout-mask)\"/>\n",
      "</svg>\n",
      "```\n",
      "\n",
      "In this refactored SVG:\n",
      "- We use a `circle` element to represent the main circular shape.\n",
      "- We use `rect` elements to represent the cutouts.\n",
      "- A `mask` is used to apply the cutouts to the circle. The mask is defined in the `defs` section and applied to the circle using the `mask` attribute.\n",
      "Sure! Here are five variations of the original SVG, each with slight modifications to shapes, colors, and positioning:\n",
      "\n",
      "## Variation 1: Blue Equalizer\n",
      "\n",
      "```xml\n",
      "<svg xmlns=\"http://www.w3.org/2000/svg\" xmlns:xlink=\"http://www.w3.org/1999/xlink\" xmlns:penpot=\"https://penpot.app/xmlns\" viewBox=\"1136.0 474.0 72.0 72.0\" version=\"1.1\" style=\"width:100%;height:100%;background:#E8E9EA\" fill=\"none\" preserveAspectRatio=\"xMinYMin meet\">\n",
      "    <defs>\n",
      "        <mask id=\"cutout-mask-1\">\n",
      "            <rect x=\"1136\" y=\"474\" width=\"72\" height=\"72\" fill=\"white\"/>\n",
      "            <rect x=\"1168.4\" y=\"495.6\" width=\"7.2\" height=\"28.8\" fill=\"black\"/>\n",
      "            <rect x=\"1157.6\" y=\"510\" width=\"7.2\" height=\"14.4\" fill=\"black\"/>\n",
      "            <rect x=\"1179.2\" y=\"504.6\" width=\"7.2\" height=\"19.8\" fill=\"black\"/>\n",
      "        </mask>\n",
      "    </defs>\n",
      "    <circle cx=\"1172\" cy=\"510\" r=\"36\" fill=\"blue\" mask=\"url(#cutout-mask-1)\"/>\n",
      "</svg>\n",
      "```\n",
      "\n",
      "## Variation 2: Green Equalizer with Ellipse\n",
      "\n",
      "```xml\n",
      "<svg xmlns=\"http://www.w3.org/2000/svg\" xmlns:xlink=\"http://www.w3.org/1999/xlink\" xmlns:penpot=\"https://penpot.app/xmlns\" viewBox=\"1136.0 474.0 72.0 72.0\" version=\"1.1\" style=\"width:100%;height:100%;background:#E8E9EA\" fill=\"none\" preserveAspectRatio=\"xMinYMin meet\">\n",
      "    <defs>\n",
      "        <mask id=\"cutout-mask-2\">\n",
      "            <rect x=\"1136\" y=\"474\" width=\"72\" height=\"72\" fill=\"white\"/>\n",
      "            <rect x=\"1168.4\" y=\"495.6\" width=\"7.2\" height=\"28.8\" fill=\"black\"/>\n",
      "            <rect x=\"1157.6\" y=\"510\" width=\"7.2\" height=\"14.4\" fill=\"black\"/>\n",
      "            <rect x=\"1179.2\" y=\"504.6\" width=\"7.2\" height=\"19.8\" fill=\"black\"/>\n",
      "        </mask>\n",
      "    </defs>\n",
      "    <ellipse cx=\"1172\" cy=\"510\" rx=\"36\" ry=\"30\" fill=\"green\" mask=\"url(#cutout-mask-2)\"/>\n",
      "</svg>\n",
      "```\n",
      "\n",
      "## Variation 3: Red Equalizer with Offset\n",
      "\n",
      "```xml\n",
      "<svg xmlns=\"http://www.w3.org/2000/svg\" xmlns:xlink=\"http://www.w3.org/1999/xlink\" xmlns:penpot=\"https://penpot.app/xmlns\" viewBox=\"1136.0 474.0 72.0 72.0\" version=\"1.1\" style=\"width:100%;height:100%;background:#E8E9EA\" fill=\"none\" preserveAspectRatio=\"xMinYMin meet\">\n",
      "    <defs>\n",
      "        <mask id=\"cutout-mask-3\">\n",
      "            <rect x=\"1136\" y=\"474\" width=\"72\" height=\"72\" fill=\"white\"/>\n",
      "            <rect x=\"1168.4\" y=\"495.6\" width=\"7.2\" height=\"28.8\" fill=\"black\"/>\n",
      "            <rect x=\"1157.6\" y=\"510\" width=\"7.2\" height=\"14.4\" fill=\"black\"/>\n",
      "            <rect x=\"1179.2\" y=\"504.6\" width=\"7.2\" height=\"19.8\" fill=\"black\"/>\n",
      "        </mask>\n",
      "    </defs>\n",
      "    <circle cx=\"1172\" cy=\"500\" r=\"36\" fill=\"red\" mask=\"url(#cutout-mask-3)\"/>\n",
      "</svg>\n",
      "```\n",
      "\n",
      "## Variation 4: Yellow Equalizer with Larger Cutouts\n",
      "\n",
      "```xml\n",
      "<svg xmlns=\"http://www.w3.org/2000/svg\" xmlns:xlink=\"http://www.w3.org/1999/xlink\" xmlns:penpot=\"https://penpot.app/xmlns\" viewBox=\"1136.0 474.0 72.0 72.0\" version=\"1.1\" style=\"width:100%;height:100%;background:#E8E9EA\" fill=\"none\" preserveAspectRatio=\"xMinYMin meet\">\n",
      "    <defs>\n",
      "        <mask id=\"cutout-mask-4\">\n",
      "            <rect x=\"1136\" y=\"474\" width=\"72\" height=\"72\" fill=\"white\"/>\n",
      "            <rect x=\"1168.4\" y=\"495.6\" width=\"10\" height=\"30\" fill=\"black\"/>\n",
      "            <rect x=\"1157.6\" y=\"510\" width=\"10\" height=\"16\" fill=\"black\"/>\n",
      "            <rect x=\"1179.2\" y=\"504.6\" width=\"10\" height=\"22\" fill=\"black\"/>\n",
      "        </mask>\n",
      "    </defs>\n",
      "    <circle cx=\"1172\" cy=\"510\" r=\"36\" fill=\"yellow\" mask=\"url(#cutout-mask-4)\"/>\n",
      "</svg>\n",
      "```\n",
      "\n",
      "## Variation 5: Purple Equalizer with Square\n",
      "\n",
      "```xml\n",
      "<svg xmlns=\"http://www.w3.org/2000/svg\" xmlns:xlink=\"http://www.w3.org/1999/xlink\" xmlns:penpot=\"https://penpot.app/xmlns\" viewBox=\"1136.0 474.0 72.0 72.0\" version=\"1.1\" style=\"width:100%;height:100%;background:#E8E9EA\" fill=\"none\" preserveAspectRatio=\"xMinYMin meet\">\n",
      "    <defs>\n",
      "        <mask id=\"cutout-mask-5\">\n",
      "            <rect x=\"1136\" y=\"474\" width=\"72\" height=\"72\" fill=\"white\"/>\n",
      "            <rect x=\"1168.4\" y=\"495.6\" width=\"7.2\" height=\"28.8\" fill=\"black\"/>\n",
      "            <rect x=\"1157.6\" y=\"510\" width=\"7.2\" height=\"14.4\" fill=\"black\"/>\n",
      "            <rect x=\"1179.2\" y=\"504.6\" width=\"7.2\" height=\"19.8\" fill=\"black\"/>\n",
      "        </mask>\n",
      "    </defs>\n",
      "    <rect x=\"1136\" y=\"474\" width=\"72\" height=\"72\" fill=\"purple\" mask=\"url(#cutout-mask-5)\"/>\n",
      "</svg>\n",
      "```\n",
      "\n",
      "Each variation maintains the core design of the original SVG but introduces different colors, shapes, and slight positional adjustments to create unique versions.\n"
     ]
    },
    {
     "data": {
      "text/plain": "<IPython.core.display.HTML object>",
      "text/html": "<html><body><div style=\"width:60%\"><h1>Variations</h1><h2>Variation 1: Blue Equalizer</h2>xml\n<svg xmlns=\"http://www.w3.org/2000/svg\" xmlns:xlink=\"http://www.w3.org/1999/xlink\" xmlns:penpot=\"https://penpot.app/xmlns\" viewBox=\"1136.0 474.0 72.0 72.0\" version=\"1.1\" style=\"width:100%;height:100%;background:#E8E9EA\" fill=\"none\" preserveAspectRatio=\"xMinYMin meet\">\n    <defs>\n        <mask id=\"cutout-mask-1\">\n            <rect x=\"1136\" y=\"474\" width=\"72\" height=\"72\" fill=\"white\"/>\n            <rect x=\"1168.4\" y=\"495.6\" width=\"7.2\" height=\"28.8\" fill=\"black\"/>\n            <rect x=\"1157.6\" y=\"510\" width=\"7.2\" height=\"14.4\" fill=\"black\"/>\n            <rect x=\"1179.2\" y=\"504.6\" width=\"7.2\" height=\"19.8\" fill=\"black\"/>\n        </mask>\n    </defs>\n    <circle cx=\"1172\" cy=\"510\" r=\"36\" fill=\"blue\" mask=\"url(#cutout-mask-1)\"/>\n</svg><h2>Variation 2: Green Equalizer with Ellipse</h2>xml\n<svg xmlns=\"http://www.w3.org/2000/svg\" xmlns:xlink=\"http://www.w3.org/1999/xlink\" xmlns:penpot=\"https://penpot.app/xmlns\" viewBox=\"1136.0 474.0 72.0 72.0\" version=\"1.1\" style=\"width:100%;height:100%;background:#E8E9EA\" fill=\"none\" preserveAspectRatio=\"xMinYMin meet\">\n    <defs>\n        <mask id=\"cutout-mask-2\">\n            <rect x=\"1136\" y=\"474\" width=\"72\" height=\"72\" fill=\"white\"/>\n            <rect x=\"1168.4\" y=\"495.6\" width=\"7.2\" height=\"28.8\" fill=\"black\"/>\n            <rect x=\"1157.6\" y=\"510\" width=\"7.2\" height=\"14.4\" fill=\"black\"/>\n            <rect x=\"1179.2\" y=\"504.6\" width=\"7.2\" height=\"19.8\" fill=\"black\"/>\n        </mask>\n    </defs>\n    <ellipse cx=\"1172\" cy=\"510\" rx=\"36\" ry=\"30\" fill=\"green\" mask=\"url(#cutout-mask-2)\"/>\n</svg><h2>Variation 3: Red Equalizer with Offset</h2>xml\n<svg xmlns=\"http://www.w3.org/2000/svg\" xmlns:xlink=\"http://www.w3.org/1999/xlink\" xmlns:penpot=\"https://penpot.app/xmlns\" viewBox=\"1136.0 474.0 72.0 72.0\" version=\"1.1\" style=\"width:100%;height:100%;background:#E8E9EA\" fill=\"none\" preserveAspectRatio=\"xMinYMin meet\">\n    <defs>\n        <mask id=\"cutout-mask-3\">\n            <rect x=\"1136\" y=\"474\" width=\"72\" height=\"72\" fill=\"white\"/>\n            <rect x=\"1168.4\" y=\"495.6\" width=\"7.2\" height=\"28.8\" fill=\"black\"/>\n            <rect x=\"1157.6\" y=\"510\" width=\"7.2\" height=\"14.4\" fill=\"black\"/>\n            <rect x=\"1179.2\" y=\"504.6\" width=\"7.2\" height=\"19.8\" fill=\"black\"/>\n        </mask>\n    </defs>\n    <circle cx=\"1172\" cy=\"500\" r=\"36\" fill=\"red\" mask=\"url(#cutout-mask-3)\"/>\n</svg><h2>Variation 4: Yellow Equalizer with Larger Cutouts</h2>xml\n<svg xmlns=\"http://www.w3.org/2000/svg\" xmlns:xlink=\"http://www.w3.org/1999/xlink\" xmlns:penpot=\"https://penpot.app/xmlns\" viewBox=\"1136.0 474.0 72.0 72.0\" version=\"1.1\" style=\"width:100%;height:100%;background:#E8E9EA\" fill=\"none\" preserveAspectRatio=\"xMinYMin meet\">\n    <defs>\n        <mask id=\"cutout-mask-4\">\n            <rect x=\"1136\" y=\"474\" width=\"72\" height=\"72\" fill=\"white\"/>\n            <rect x=\"1168.4\" y=\"495.6\" width=\"10\" height=\"30\" fill=\"black\"/>\n            <rect x=\"1157.6\" y=\"510\" width=\"10\" height=\"16\" fill=\"black\"/>\n            <rect x=\"1179.2\" y=\"504.6\" width=\"10\" height=\"22\" fill=\"black\"/>\n        </mask>\n    </defs>\n    <circle cx=\"1172\" cy=\"510\" r=\"36\" fill=\"yellow\" mask=\"url(#cutout-mask-4)\"/>\n</svg><h2>Variation 5: Purple Equalizer with Square</h2>xml\n<svg xmlns=\"http://www.w3.org/2000/svg\" xmlns:xlink=\"http://www.w3.org/1999/xlink\" xmlns:penpot=\"https://penpot.app/xmlns\" viewBox=\"1136.0 474.0 72.0 72.0\" version=\"1.1\" style=\"width:100%;height:100%;background:#E8E9EA\" fill=\"none\" preserveAspectRatio=\"xMinYMin meet\">\n    <defs>\n        <mask id=\"cutout-mask-5\">\n            <rect x=\"1136\" y=\"474\" width=\"72\" height=\"72\" fill=\"white\"/>\n            <rect x=\"1168.4\" y=\"495.6\" width=\"7.2\" height=\"28.8\" fill=\"black\"/>\n            <rect x=\"1157.6\" y=\"510\" width=\"7.2\" height=\"14.4\" fill=\"black\"/>\n            <rect x=\"1179.2\" y=\"504.6\" width=\"7.2\" height=\"19.8\" fill=\"black\"/>\n        </mask>\n    </defs>\n    <rect x=\"1136\" y=\"474\" width=\"72\" height=\"72\" fill=\"purple\" mask=\"url(#cutout-mask-5)\"/>\n</svg></div></body></html>"
     },
     "execution_count": 6,
     "metadata": {},
     "output_type": "execute_result"
    }
   ],
   "source": [
    "var_gen = SVGVariationsGenerator(shape=shape, semantics=\"equalizer\", model=RegisteredLLM.GPT4O)\n",
    "variations = var_gen.create_variations()\n",
    "HTML(variations.to_html())"
   ]
  },
  {
   "cell_type": "code",
   "execution_count": 7,
   "id": "74170dfb4dbc2dc9",
   "metadata": {
    "collapsed": false,
    "ExecuteTime": {
     "end_time": "2024-06-11T14:24:19.617634200Z",
     "start_time": "2024-06-11T14:23:40.705674700Z"
    }
   },
   "outputs": [
    {
     "name": "stdout",
     "output_type": "stream",
     "text": [
      "Sure! Here are the five variations with modifications to shapes, colors, and relative positioning, while considering shape changes:\n",
      "\n",
      "## Variation 1: Blue Equalizer with Triangles\n",
      "\n",
      "```xml\n",
      "<svg xmlns=\"http://www.w3.org/2000/svg\" xmlns:xlink=\"http://www.w3.org/1999/xlink\" xmlns:penpot=\"https://penpot.app/xmlns\" viewBox=\"1136.0 474.0 72.0 72.0\" version=\"1.1\" style=\"width:100%;height:100%;background:#E8E9EA\" fill=\"none\" preserveAspectRatio=\"xMinYMin meet\">\n",
      "    <defs>\n",
      "        <mask id=\"cutout-mask-1\">\n",
      "            <rect x=\"1136\" y=\"474\" width=\"72\" height=\"72\" fill=\"white\"/>\n",
      "            <polygon points=\"1168.4,495.6 1172,524.4 1164.8,524.4\" fill=\"black\"/>\n",
      "            <polygon points=\"1157.6,510 1161.2,524.4 1154,524.4\" fill=\"black\"/>\n",
      "            <polygon points=\"1179.2,504.6 1182.8,524.4 1175.6,524.4\" fill=\"black\"/>\n",
      "        </mask>\n",
      "    </defs>\n",
      "    <circle cx=\"1172\" cy=\"510\" r=\"36\" fill=\"blue\" mask=\"url(#cutout-mask-1)\"/>\n",
      "</svg>\n",
      "```\n",
      "\n",
      "## Variation 2: Green Equalizer with Ellipse and Rectangles\n",
      "\n",
      "```xml\n",
      "<svg xmlns=\"http://www.w3.org/2000/svg\" xmlns:xlink=\"http://www.w3.org/1999/xlink\" xmlns:penpot=\"https://penpot.app/xmlns\" viewBox=\"1136.0 474.0 72.0 72.0\" version=\"1.1\" style=\"width:100%;height:100%;background:#E8E9EA\" fill=\"none\" preserveAspectRatio=\"xMinYMin meet\">\n",
      "    <defs>\n",
      "        <mask id=\"cutout-mask-2\">\n",
      "            <rect x=\"1136\" y=\"474\" width=\"72\" height=\"72\" fill=\"white\"/>\n",
      "            <rect x=\"1168.4\" y=\"495.6\" width=\"7.2\" height=\"28.8\" fill=\"black\"/>\n",
      "            <rect x=\"1157.6\" y=\"510\" width=\"7.2\" height=\"14.4\" fill=\"black\"/>\n",
      "            <rect x=\"1179.2\" y=\"504.6\" width=\"7.2\" height=\"19.8\" fill=\"black\"/>\n",
      "        </mask>\n",
      "    </defs>\n",
      "    <ellipse cx=\"1172\" cy=\"510\" rx=\"36\" ry=\"30\" fill=\"green\" mask=\"url(#cutout-mask-2)\"/>\n",
      "</svg>\n",
      "```\n",
      "\n",
      "## Variation 3: Red Equalizer with Offset and Circles\n",
      "\n",
      "```xml\n",
      "<svg xmlns=\"http://www.w3.org/2000/svg\" xmlns:xlink=\"http://www.w3.org/1999/xlink\" xmlns:penpot=\"https://penpot.app/xmlns\" viewBox=\"1136.0 474.0 72.0 72.0\" version=\"1.1\" style=\"width:100%;height:100%;background:#E8E9EA\" fill=\"none\" preserveAspectRatio=\"xMinYMin meet\">\n",
      "    <defs>\n",
      "        <mask id=\"cutout-mask-3\">\n",
      "            <rect x=\"1136\" y=\"474\" width=\"72\" height=\"72\" fill=\"white\"/>\n",
      "            <circle cx=\"1172\" cy=\"510\" r=\"3.6\" fill=\"black\"/>\n",
      "            <circle cx=\"1161.2\" cy=\"517.2\" r=\"3.6\" fill=\"black\"/>\n",
      "            <circle cx=\"1182.8\" cy=\"517.2\" r=\"3.6\" fill=\"black\"/>\n",
      "        </mask>\n",
      "    </defs>\n",
      "    <circle cx=\"1172\" cy=\"500\" r=\"36\" fill=\"red\" mask=\"url(#cutout-mask-3)\"/>\n",
      "</svg>\n",
      "```\n",
      "\n",
      "## Variation 4: Yellow Equalizer with Larger Cutouts and Diamonds\n",
      "\n",
      "```xml\n",
      "<svg xmlns=\"http://www.w3.org/2000/svg\" xmlns:xlink=\"http://www.w3.org/1999/xlink\" xmlns:penpot=\"https://penpot.app/xmlns\" viewBox=\"1136.0 474.0 72.0 72.0\" version=\"1.1\" style=\"width:100%;height:100%;background:#E8E9EA\" fill=\"none\" preserveAspectRatio=\"xMinYMin meet\">\n",
      "    <defs>\n",
      "        <mask id=\"cutout-mask-4\">\n",
      "            <rect x=\"1136\" y=\"474\" width=\"72\" height=\"72\" fill=\"white\"/>\n",
      "            <polygon points=\"1168.4,495.6 1172,524.4 1164.8,524.4\" fill=\"black\"/>\n",
      "            <polygon points=\"1157.6,510 1161.2,524.4 1154,524.4\" fill=\"black\"/>\n",
      "            <polygon points=\"1179.2,504.6 1182.8,524.4 1175.6,524.4\" fill=\"black\"/>\n",
      "        </mask>\n",
      "    </defs>\n",
      "    <circle cx=\"1172\" cy=\"510\" r=\"36\" fill=\"yellow\" mask=\"url(#cutout-mask-4)\"/>\n",
      "</svg>\n",
      "```\n",
      "\n",
      "## Variation 5: Purple Equalizer with Square and Stars\n",
      "\n",
      "```xml\n",
      "<svg xmlns=\"http://www.w3.org/2000/svg\" xmlns:xlink=\"http://www.w3.org/1999/xlink\" xmlns:penpot=\"https://penpot.app/xmlns\" viewBox=\"1136.0 474.0 72.0 72.0\" version=\"1.1\" style=\"width:100%;height:100%;background:#E8E9EA\" fill=\"none\" preserveAspectRatio=\"xMinYMin meet\">\n",
      "    <defs>\n",
      "        <mask id=\"cutout-mask-5\">\n",
      "            <rect x=\"1136\" y=\"474\" width=\"72\" height=\"72\" fill=\"white\"/>\n",
      "            <polygon points=\"1168.4,495.6 1172,524.4 1164.8,524.4\" fill=\"black\"/>\n",
      "            <polygon points=\"1157.6,510 1161.2,524.4 1154,524.4\" fill=\"black\"/>\n",
      "            <polygon points=\"1179.2,504.6 1182.8,524.4 1175.6,524.4\" fill=\"black\"/>\n",
      "        </mask>\n",
      "    </defs>\n",
      "    <rect x=\"1136\" y=\"474\" width=\"72\" height=\"72\" fill=\"purple\" mask=\"url(#cutout-mask-5)\"/>\n",
      "</svg>\n",
      "```\n",
      "\n",
      "Each variation now includes changes to the shapes used for the cutouts, as well as different colors and slight positional adjustments to create unique versions while staying close to the original design.\n"
     ]
    }
   ],
   "source": [
    "add_variations = variations.revise(\"Modify these variations such that they all consider shape changes.\")"
   ]
  },
  {
   "cell_type": "code",
   "execution_count": 8,
   "id": "9b886fc4c8ff14af",
   "metadata": {
    "collapsed": false,
    "ExecuteTime": {
     "end_time": "2024-06-11T14:24:22.125947300Z",
     "start_time": "2024-06-11T14:24:22.043159600Z"
    }
   },
   "outputs": [
    {
     "data": {
      "text/plain": "<IPython.core.display.HTML object>",
      "text/html": "<html><body><div style=\"width:60%\"><h1>Variations</h1><h2>Variation 1: Blue Equalizer with Triangles</h2><svg xmlns=\"http://www.w3.org/2000/svg\" xmlns:xlink=\"http://www.w3.org/1999/xlink\" xmlns:penpot=\"https://penpot.app/xmlns\" viewBox=\"1136.0 474.0 72.0 72.0\" version=\"1.1\" style=\"width:100%;height:100%;background:#E8E9EA\" fill=\"none\" preserveAspectRatio=\"xMinYMin meet\">\n    <defs>\n        <mask id=\"4a742724-27fe-11ef-9fa3-000ec69542bc\">\n            <rect x=\"1136\" y=\"474\" width=\"72\" height=\"72\" fill=\"white\"/>\n            <polygon points=\"1168.4,495.6 1172,524.4 1164.8,524.4\" fill=\"black\"/>\n            <polygon points=\"1157.6,510 1161.2,524.4 1154,524.4\" fill=\"black\"/>\n            <polygon points=\"1179.2,504.6 1182.8,524.4 1175.6,524.4\" fill=\"black\"/>\n        </mask>\n    </defs>\n    <circle cx=\"1172\" cy=\"510\" r=\"36\" fill=\"blue\" mask=\"url(#4a742724-27fe-11ef-9fa3-000ec69542bc)\"/>\n</svg><h2>Variation 2: Green Equalizer with Ellipse and Rectangles</h2><svg xmlns=\"http://www.w3.org/2000/svg\" xmlns:xlink=\"http://www.w3.org/1999/xlink\" xmlns:penpot=\"https://penpot.app/xmlns\" viewBox=\"1136.0 474.0 72.0 72.0\" version=\"1.1\" style=\"width:100%;height:100%;background:#E8E9EA\" fill=\"none\" preserveAspectRatio=\"xMinYMin meet\">\n    <defs>\n        <mask id=\"4a742725-27fe-11ef-ad95-000ec69542bc\">\n            <rect x=\"1136\" y=\"474\" width=\"72\" height=\"72\" fill=\"white\"/>\n            <rect x=\"1168.4\" y=\"495.6\" width=\"7.2\" height=\"28.8\" fill=\"black\"/>\n            <rect x=\"1157.6\" y=\"510\" width=\"7.2\" height=\"14.4\" fill=\"black\"/>\n            <rect x=\"1179.2\" y=\"504.6\" width=\"7.2\" height=\"19.8\" fill=\"black\"/>\n        </mask>\n    </defs>\n    <ellipse cx=\"1172\" cy=\"510\" rx=\"36\" ry=\"30\" fill=\"green\" mask=\"url(#4a742725-27fe-11ef-ad95-000ec69542bc)\"/>\n</svg><h2>Variation 3: Red Equalizer with Offset and Circles</h2><svg xmlns=\"http://www.w3.org/2000/svg\" xmlns:xlink=\"http://www.w3.org/1999/xlink\" xmlns:penpot=\"https://penpot.app/xmlns\" viewBox=\"1136.0 474.0 72.0 72.0\" version=\"1.1\" style=\"width:100%;height:100%;background:#E8E9EA\" fill=\"none\" preserveAspectRatio=\"xMinYMin meet\">\n    <defs>\n        <mask id=\"4a742726-27fe-11ef-a7c6-000ec69542bc\">\n            <rect x=\"1136\" y=\"474\" width=\"72\" height=\"72\" fill=\"white\"/>\n            <circle cx=\"1172\" cy=\"510\" r=\"3.6\" fill=\"black\"/>\n            <circle cx=\"1161.2\" cy=\"517.2\" r=\"3.6\" fill=\"black\"/>\n            <circle cx=\"1182.8\" cy=\"517.2\" r=\"3.6\" fill=\"black\"/>\n        </mask>\n    </defs>\n    <circle cx=\"1172\" cy=\"500\" r=\"36\" fill=\"red\" mask=\"url(#4a742726-27fe-11ef-a7c6-000ec69542bc)\"/>\n</svg><h2>Variation 4: Yellow Equalizer with Larger Cutouts and Diamonds</h2><svg xmlns=\"http://www.w3.org/2000/svg\" xmlns:xlink=\"http://www.w3.org/1999/xlink\" xmlns:penpot=\"https://penpot.app/xmlns\" viewBox=\"1136.0 474.0 72.0 72.0\" version=\"1.1\" style=\"width:100%;height:100%;background:#E8E9EA\" fill=\"none\" preserveAspectRatio=\"xMinYMin meet\">\n    <defs>\n        <mask id=\"4a742727-27fe-11ef-93ec-000ec69542bc\">\n            <rect x=\"1136\" y=\"474\" width=\"72\" height=\"72\" fill=\"white\"/>\n            <polygon points=\"1168.4,495.6 1172,524.4 1164.8,524.4\" fill=\"black\"/>\n            <polygon points=\"1157.6,510 1161.2,524.4 1154,524.4\" fill=\"black\"/>\n            <polygon points=\"1179.2,504.6 1182.8,524.4 1175.6,524.4\" fill=\"black\"/>\n        </mask>\n    </defs>\n    <circle cx=\"1172\" cy=\"510\" r=\"36\" fill=\"yellow\" mask=\"url(#4a742727-27fe-11ef-93ec-000ec69542bc)\"/>\n</svg><h2>Variation 5: Purple Equalizer with Square and Stars</h2><svg xmlns=\"http://www.w3.org/2000/svg\" xmlns:xlink=\"http://www.w3.org/1999/xlink\" xmlns:penpot=\"https://penpot.app/xmlns\" viewBox=\"1136.0 474.0 72.0 72.0\" version=\"1.1\" style=\"width:100%;height:100%;background:#E8E9EA\" fill=\"none\" preserveAspectRatio=\"xMinYMin meet\">\n    <defs>\n        <mask id=\"4a742728-27fe-11ef-ae6f-000ec69542bc\">\n            <rect x=\"1136\" y=\"474\" width=\"72\" height=\"72\" fill=\"white\"/>\n            <polygon points=\"1168.4,495.6 1172,524.4 1164.8,524.4\" fill=\"black\"/>\n            <polygon points=\"1157.6,510 1161.2,524.4 1154,524.4\" fill=\"black\"/>\n            <polygon points=\"1179.2,504.6 1182.8,524.4 1175.6,524.4\" fill=\"black\"/>\n        </mask>\n    </defs>\n    <rect x=\"1136\" y=\"474\" width=\"72\" height=\"72\" fill=\"purple\" mask=\"url(#4a742728-27fe-11ef-ae6f-000ec69542bc)\"/>\n</svg></div></body></html>"
     },
     "metadata": {},
     "output_type": "display_data"
    }
   ],
   "source": [
    "display(HTML(add_variations.to_html()))"
   ]
  },
  {
   "cell_type": "code",
   "execution_count": null,
   "id": "a4d58b706981f28c",
   "metadata": {
    "ExecuteTime": {
     "start_time": "2024-06-06T13:11:14.194253300Z"
    },
    "collapsed": false
   },
   "outputs": [],
   "source": []
  }
 ],
 "metadata": {
  "kernelspec": {
   "display_name": "Python 3 (ipykernel)",
   "language": "python",
   "name": "python3"
  },
  "language_info": {
   "codemirror_mode": {
    "name": "ipython",
    "version": 3
   },
   "file_extension": ".py",
   "mimetype": "text/x-python",
   "name": "python",
   "nbconvert_exporter": "python",
   "pygments_lexer": "ipython3",
   "version": "3.11.9"
  }
 },
 "nbformat": 4,
 "nbformat_minor": 5
}
