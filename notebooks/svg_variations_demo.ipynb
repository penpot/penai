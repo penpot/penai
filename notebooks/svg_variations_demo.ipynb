{
 "cells": [
  {
   "cell_type": "code",
   "execution_count": 1,
   "id": "bd811f91206293e6",
   "metadata": {
    "ExecuteTime": {
     "end_time": "2024-06-09T21:07:54.302117Z",
     "start_time": "2024-06-09T21:07:54.290243Z"
    }
   },
   "outputs": [],
   "source": [
    "%load_ext autoreload\n",
    "%autoreload 2"
   ]
  },
  {
   "cell_type": "code",
   "execution_count": 2,
   "id": "793ea6ad30db8951",
   "metadata": {
    "ExecuteTime": {
     "end_time": "2024-06-09T21:07:55.673779Z",
     "start_time": "2024-06-09T21:07:54.586156Z"
    }
   },
   "outputs": [],
   "source": [
    "from IPython.display import HTML\n",
    "\n",
    "from penai.registries.projects import SavedPenpotProject\n",
    "from penai.llm.llm_model import RegisteredLLM\n",
    "from penai.registries.web_drivers import RegisteredWebDriver\n",
    "from penai.variations.svg_variations import SVGVariationsGenerator"
   ]
  },
  {
   "cell_type": "code",
   "execution_count": 3,
   "id": "3b32aa5c9df0a768",
   "metadata": {
    "ExecuteTime": {
     "end_time": "2024-06-09T21:08:06.313050Z",
     "start_time": "2024-06-09T21:07:55.675325Z"
    },
    "collapsed": false,
    "jupyter": {
     "outputs_hidden": false
    }
   },
   "outputs": [
    {
     "name": "stderr",
     "output_type": "stream",
     "text": [
      "INFO:penai.registries.projects:Pulling data for project Interactive music app to /home/mpanchen/Projects/penpot/penai/data/raw/designs/Interactive music app\n",
      "INFO:accsr.remote_storage:Establishing connection to bucket penpot\n",
      "Scanning remote paths in penpot/data/raw/designs/Interactive music app: 100%|████████████████████████████████████████████████████████████████████████████████████████████████████████████████| 8/8 [00:00<00:00, 1070.62it/s]\n",
      "force pulling (bytes): 0it [00:00, ?it/s]\n",
      "Setting view boxes:   0%|                                                                                                                                                                            | 0/397 [00:00<?, ?it/s]INFO:penai.utils.web_drivers:Starting Chrome WebDriver\n",
      "INFO:WDM:====== WebDriver manager ======\n",
      "INFO:WDM:Get LATEST chromedriver version for google-chrome\n",
      "INFO:WDM:Get LATEST chromedriver version for google-chrome\n",
      "INFO:WDM:Driver [/home/mpanchen/.wdm/drivers/chromedriver/linux64/125.0.6422.141/chromedriver-linux64/chromedriver] found in cache\n",
      "Setting view boxes: 100%|█████████████████████████████████████████████████████████████████████████████████████████████████████████████████████████████████████████████████████████████████| 397/397 [00:03<00:00, 104.57it/s]\n",
      "INFO:penai.utils.web_drivers:Quitting Chrome WebDriver\n"
     ]
    }
   ],
   "source": [
    "saved_penpot_project = SavedPenpotProject.INTERACTIVE_MUSIC_APP  #\n",
    "penpot_project = saved_penpot_project.load(pull=True)\n",
    "main_file = penpot_project.get_main_file()\n",
    "page = main_file.get_page_by_name(\"Interactive music app\")\n",
    "page.svg.retrieve_and_set_view_boxes_for_shape_elements(RegisteredWebDriver.CHROME)"
   ]
  },
  {
   "cell_type": "code",
   "execution_count": 4,
   "id": "569165abe387197f",
   "metadata": {
    "ExecuteTime": {
     "end_time": "2024-06-09T21:08:06.340825Z",
     "start_time": "2024-06-09T21:08:06.316100Z"
    },
    "collapsed": false,
    "jupyter": {
     "outputs_hidden": false
    }
   },
   "outputs": [],
   "source": [
    "shape = page.svg.get_shape_by_name(\"ic_equalizer_48px-1\")"
   ]
  },
  {
   "cell_type": "code",
   "execution_count": 13,
   "id": "451bf67f87f40e4f",
   "metadata": {
    "ExecuteTime": {
     "end_time": "2024-06-09T21:09:14.715329Z",
     "start_time": "2024-06-09T21:08:45.725040Z"
    },
    "collapsed": false,
    "jupyter": {
     "outputs_hidden": false
    }
   },
   "outputs": [
    {
     "name": "stderr",
     "output_type": "stream",
     "text": [
      "INFO:penai.variations.svg_variations:Writing svg refactoring response to:\n",
      "/home/mpanchen/Projects/penpot/penai/notebooks/log/llm_responses/gemini-pro/svg_refactoring.txt\n"
     ]
    },
    {
     "name": "stdout",
     "output_type": "stream",
     "text": [
      "```<svg xmlns=\"http://www.w3.org/2000/svg\" xmlns:xlink=\"http://www.w3.org/1999/xlink\" xmlns:penpot=\"https://penpot.app/xmlns\" viewBox=\"1136.0 474.0 72.0 72.0\" version=\"1.1\" style=\"width:100%;height:100%;background:#E8E9EA\" fill=\"none\" preserveAspectRatio=\"xMinYMin meet\"><g id=\"shape-459cc494-9782-8033-8004-753e7ef8b638\" style=\"fill:#000000;fill-opacity:1\" width=\"48\" height=\"48\" rx=\"0\" ry=\"0\">\n",
      "                    <defs/>\n",
      "                    <g id=\"shape-459cc494-9782-8033-8004-753e7ef8b63a\">\n",
      "                        <defs/>\n",
      "                        <g class=\"fills\" id=\"fills-459cc494-9782-8033-8004-753e7ef8b63a\">\n",
      "                            <rect x=\"1136.000\" y=\"474.000\" width=\"72.000\" height=\"72.000\" rx=\"0\" ry=\"0\" style=\"fill:#ffffff;fill-opacity:1\"/>\n",
      "                            <rect x=\"1157.600\" y=\"510.000\" width=\"7.200\" height=\"14.400\" style=\"fill:#ffffff;fill-opacity:1\"/>\n",
      "                            <rect x=\"1164.800\" y=\"495.600\" width=\"7.200\" height=\"28.800\" style=\"fill:#ffffff;fill-opacity:1\"/>\n",
      "                            <rect x=\"1172.000\" y=\"495.600\" width=\"7.200\" height=\"28.800\" style=\"fill:#ffffff;fill-opacity:1\"/>\n",
      "                            <rect x=\"1179.200\" y=\"504.600\" width=\"7.200\" height=\"19.800\" style=\"fill:#ffffff;fill-opacity:1\"/>\n",
      "                        </g>\n",
      "                        </g>\n",
      "                </g>\n",
      "            </svg>\n",
      "```\n"
     ]
    },
    {
     "name": "stderr",
     "output_type": "stream",
     "text": [
      "INFO:penai.variations.svg_variations:Writing variations response to:\n",
      "/home/mpanchen/Projects/penpot/penai/notebooks/log/llm_responses/gemini-pro/variations_response.md\n",
      "INFO:penai.variations.svg_variations:Writing full conversation to:\n",
      "/home/mpanchen/Projects/penpot/penai/notebooks/log/llm_responses/gemini-pro/full_conversation.txt\n",
      "INFO:penai.variations.svg_variations:Writing variations response as html to:\n",
      "/home/mpanchen/Projects/penpot/penai/notebooks/log/llm_responses/gemini-pro/variations_response.html\n"
     ]
    },
    {
     "name": "stdout",
     "output_type": "stream",
     "text": [
      "## Variation 1\n",
      "```<svg xmlns=\"http://www.w3.org/2000/svg\" xmlns:xlink=\"http://www.w3.org/1999/xlink\" xmlns:penpot=\"https://penpot.app/xmlns\" viewBox=\"1136.0 474.0 72.0 72.0\" version=\"1.1\" style=\"width:100%;height:100%;background:#E8E9EA\" fill=\"none\" preserveAspectRatio=\"xMinYMin meet\"><g id=\"shape-459cc494-9782-8033-8004-753e7ef8b638\" style=\"fill:#000000;fill-opacity:1\" width=\"48\" height=\"48\" rx=\"0\" ry=\"0\">\n",
      "                    <defs/>\n",
      "                    <g id=\"shape-459cc494-9782-8033-8004-753e7ef8b63a\">\n",
      "                        <defs/>\n",
      "                        <g class=\"fills\" id=\"fills-459cc494-9782-8033-8004-753e7ef8b63a\">\n",
      "                            <rect x=\"1136.000\" y=\"474.000\" width=\"72.000\" height=\"72.000\" rx=\"0\" ry=\"0\" style=\"fill:#ffffff;fill-opacity:1\"/>\n",
      "                            <rect x=\"1157.600\" y=\"510.000\" width=\"7.200\" height=\"14.400\" style=\"fill:#000000;fill-opacity:1\"/>\n",
      "                            <rect x=\"1164.800\" y=\"495.600\" width=\"7.200\" height=\"28.800\" style=\"fill:#000000;fill-opacity:1\"/>\n",
      "                            <rect x=\"1172.000\" y=\"495.600\" width=\"7.200\" height=\"28.800\" style=\"fill:#000000;fill-opacity:1\"/>\n",
      "                            <rect x=\"1179.200\" y=\"504.600\" width=\"7.200\" height=\"19.800\" style=\"fill:#000000;fill-opacity:1\"/>\n",
      "                        </g>\n",
      "                        </g>\n",
      "                </g>\n",
      "            </svg>\n",
      "```\n",
      "\n",
      "## Variation 2\n",
      "```<svg xmlns=\"http://www.w3.org/2000/svg\" xmlns:xlink=\"http://www.w3.org/1999/xlink\" xmlns:penpot=\"https://penpot.app/xmlns\" viewBox=\"1136.0 474.0 72.0 72.0\" version=\"1.1\" style=\"width:100%;height:100%;background:#E8E9EA\" fill=\"none\" preserveAspectRatio=\"xMinYMin meet\"><g id=\"shape-459cc494-9782-8033-8004-753e7ef8b638\" style=\"fill:#000000;fill-opacity:1\" width=\"48\" height=\"48\" rx=\"0\" ry=\"0\">\n",
      "                    <defs/>\n",
      "                    <g id=\"shape-459cc494-9782-8033-8004-753e7ef8b63a\">\n",
      "                        <defs/>\n",
      "                        <g class=\"fills\" id=\"fills-459cc494-9782-8033-8004-753e7ef8b63a\">\n",
      "                            <rect x=\"1136.000\" y=\"474.000\" width=\"72.000\" height=\"72.000\" rx=\"0\" ry=\"0\" style=\"fill:#ffffff;fill-opacity:1\"/>\n",
      "                            <circle cx=\"1157.600\" cy=\"510.000\" r=\"3.600\" style=\"fill:#000000;fill-opacity:1\"/>\n",
      "                            <circle cx=\"1164.800\" cy=\"495.600\" r=\"3.600\" style=\"fill:#000000;fill-opacity:1\"/>\n",
      "                            <circle cx=\"1172.000\" cy=\"495.600\" r=\"3.600\" style=\"fill:#000000;fill-opacity:1\"/>\n",
      "                            <circle cx=\"1179.200\" cy=\"504.600\" r=\"3.600\" style=\"fill:#000000;fill-opacity:1\"/>\n",
      "                        </g>\n",
      "                        </g>\n",
      "                </g>\n",
      "            </svg>\n",
      "```\n",
      "\n",
      "## Variation 3\n",
      "```<svg xmlns=\"http://www.w3.org/2000/svg\" xmlns:xlink=\"http://www.w3.org/1999/xlink\" xmlns:penpot=\"https://penpot.app/xmlns\" viewBox=\"1136.0 474.0 72.0 72.0\" version=\"1.1\" style=\"width:100%;height:100%;background:#E8E9EA\" fill=\"none\" preserveAspectRatio=\"xMinYMin meet\"><g id=\"shape-459cc494-9782-8033-8004-753e7ef8b638\" style=\"fill:#000000;fill-opacity:1\" width=\"48\" height=\"48\" rx=\"0\" ry=\"0\">\n",
      "                    <defs/>\n",
      "                    <g id=\"shape-459cc494-9782-8033-8004-753e7ef8b63a\">\n",
      "                        <defs/>\n",
      "                        <g class=\"fills\" id=\"fills-459cc494-9782-8033-8004-753e7ef8b63a\">\n",
      "                            <rect x=\"1136.000\" y=\"474.000\" width=\"72.000\" height=\"72.000\" rx=\"0\" ry=\"0\" style=\"fill:#ffffff;fill-opacity:1\"/>\n",
      "                            <ellipse cx=\"1157.600\" cy=\"510.000\" rx=\"3.600\" ry=\"7.200\" style=\"fill:#000000;fill-opacity:1\"/>\n",
      "                            <ellipse cx=\"1164.800\" cy=\"495.600\" rx=\"3.600\" ry=\"14.400\" style=\"fill:#000000;fill-opacity:1\"/>\n",
      "                            <ellipse cx=\"1172.000\" cy=\"495.600\" rx=\"3.600\" ry=\"14.400\" style=\"fill:#000000;fill-opacity:1\"/>\n",
      "                            <ellipse cx=\"1179.200\" cy=\"504.600\" rx=\"3.600\" ry=\"9.900\" style=\"fill:#000000;fill-opacity:1\"/>\n",
      "                        </g>\n",
      "                        </g>\n",
      "                </g>\n",
      "            </svg>\n",
      "```\n",
      "\n",
      "## Variation 4\n",
      "```<svg xmlns=\"http://www.w3.org/2000/svg\" xmlns:xlink=\"http://www.w3.org/1999/xlink\" xmlns:penpot=\"https://penpot.app/xmlns\" viewBox=\"1136.0 474.0 72.0 72.0\" version=\"1.1\" style=\"width:100%;height:100%;background:#E8E9EA\" fill=\"none\" preserveAspectRatio=\"xMinYMin meet\"><g id=\"shape-459cc494-9782-8033-8004-753e7ef8b638\" style=\"fill:#000000;fill-opacity:1\" width=\"48\" height=\"48\" rx=\"0\" ry=\"0\">\n",
      "                    <defs\n"
     ]
    },
    {
     "data": {
      "text/html": [
       "<html><body><div style=\"width:60%\"><h1>Variations</h1><h2>Variation 1</h2><svg xmlns=\"http://www.w3.org/2000/svg\" xmlns:xlink=\"http://www.w3.org/1999/xlink\" xmlns:penpot=\"https://penpot.app/xmlns\" viewBox=\"1136.0 474.0 72.0 72.0\" version=\"1.1\" style=\"width:100%;height:100%;background:#E8E9EA\" fill=\"none\" preserveAspectRatio=\"xMinYMin meet\"><g id=\"shape-459cc494-9782-8033-8004-753e7ef8b638\" style=\"fill:#000000;fill-opacity:1\" width=\"48\" height=\"48\" rx=\"0\" ry=\"0\">\n",
       "                    <defs/>\n",
       "                    <g id=\"shape-459cc494-9782-8033-8004-753e7ef8b63a\">\n",
       "                        <defs/>\n",
       "                        <g class=\"fills\" id=\"fills-459cc494-9782-8033-8004-753e7ef8b63a\">\n",
       "                            <rect x=\"1136.000\" y=\"474.000\" width=\"72.000\" height=\"72.000\" rx=\"0\" ry=\"0\" style=\"fill:#ffffff;fill-opacity:1\"/>\n",
       "                            <rect x=\"1157.600\" y=\"510.000\" width=\"7.200\" height=\"14.400\" style=\"fill:#000000;fill-opacity:1\"/>\n",
       "                            <rect x=\"1164.800\" y=\"495.600\" width=\"7.200\" height=\"28.800\" style=\"fill:#000000;fill-opacity:1\"/>\n",
       "                            <rect x=\"1172.000\" y=\"495.600\" width=\"7.200\" height=\"28.800\" style=\"fill:#000000;fill-opacity:1\"/>\n",
       "                            <rect x=\"1179.200\" y=\"504.600\" width=\"7.200\" height=\"19.800\" style=\"fill:#000000;fill-opacity:1\"/>\n",
       "                        </g>\n",
       "                        </g>\n",
       "                </g>\n",
       "            </svg><h2>Variation 2</h2><svg xmlns=\"http://www.w3.org/2000/svg\" xmlns:xlink=\"http://www.w3.org/1999/xlink\" xmlns:penpot=\"https://penpot.app/xmlns\" viewBox=\"1136.0 474.0 72.0 72.0\" version=\"1.1\" style=\"width:100%;height:100%;background:#E8E9EA\" fill=\"none\" preserveAspectRatio=\"xMinYMin meet\"><g id=\"shape-459cc494-9782-8033-8004-753e7ef8b638\" style=\"fill:#000000;fill-opacity:1\" width=\"48\" height=\"48\" rx=\"0\" ry=\"0\">\n",
       "                    <defs/>\n",
       "                    <g id=\"shape-459cc494-9782-8033-8004-753e7ef8b63a\">\n",
       "                        <defs/>\n",
       "                        <g class=\"fills\" id=\"fills-459cc494-9782-8033-8004-753e7ef8b63a\">\n",
       "                            <rect x=\"1136.000\" y=\"474.000\" width=\"72.000\" height=\"72.000\" rx=\"0\" ry=\"0\" style=\"fill:#ffffff;fill-opacity:1\"/>\n",
       "                            <circle cx=\"1157.600\" cy=\"510.000\" r=\"3.600\" style=\"fill:#000000;fill-opacity:1\"/>\n",
       "                            <circle cx=\"1164.800\" cy=\"495.600\" r=\"3.600\" style=\"fill:#000000;fill-opacity:1\"/>\n",
       "                            <circle cx=\"1172.000\" cy=\"495.600\" r=\"3.600\" style=\"fill:#000000;fill-opacity:1\"/>\n",
       "                            <circle cx=\"1179.200\" cy=\"504.600\" r=\"3.600\" style=\"fill:#000000;fill-opacity:1\"/>\n",
       "                        </g>\n",
       "                        </g>\n",
       "                </g>\n",
       "            </svg><h2>Variation 3</h2><svg xmlns=\"http://www.w3.org/2000/svg\" xmlns:xlink=\"http://www.w3.org/1999/xlink\" xmlns:penpot=\"https://penpot.app/xmlns\" viewBox=\"1136.0 474.0 72.0 72.0\" version=\"1.1\" style=\"width:100%;height:100%;background:#E8E9EA\" fill=\"none\" preserveAspectRatio=\"xMinYMin meet\"><g id=\"shape-459cc494-9782-8033-8004-753e7ef8b638\" style=\"fill:#000000;fill-opacity:1\" width=\"48\" height=\"48\" rx=\"0\" ry=\"0\">\n",
       "                    <defs/>\n",
       "                    <g id=\"shape-459cc494-9782-8033-8004-753e7ef8b63a\">\n",
       "                        <defs/>\n",
       "                        <g class=\"fills\" id=\"fills-459cc494-9782-8033-8004-753e7ef8b63a\">\n",
       "                            <rect x=\"1136.000\" y=\"474.000\" width=\"72.000\" height=\"72.000\" rx=\"0\" ry=\"0\" style=\"fill:#ffffff;fill-opacity:1\"/>\n",
       "                            <ellipse cx=\"1157.600\" cy=\"510.000\" rx=\"3.600\" ry=\"7.200\" style=\"fill:#000000;fill-opacity:1\"/>\n",
       "                            <ellipse cx=\"1164.800\" cy=\"495.600\" rx=\"3.600\" ry=\"14.400\" style=\"fill:#000000;fill-opacity:1\"/>\n",
       "                            <ellipse cx=\"1172.000\" cy=\"495.600\" rx=\"3.600\" ry=\"14.400\" style=\"fill:#000000;fill-opacity:1\"/>\n",
       "                            <ellipse cx=\"1179.200\" cy=\"504.600\" rx=\"3.600\" ry=\"9.900\" style=\"fill:#000000;fill-opacity:1\"/>\n",
       "                        </g>\n",
       "                        </g>\n",
       "                </g>\n",
       "            </svg></div></body></html>"
      ],
      "text/plain": [
       "<IPython.core.display.HTML object>"
      ]
     },
     "execution_count": 13,
     "metadata": {},
     "output_type": "execute_result"
    }
   ],
   "source": [
    "var_gen = SVGVariationsGenerator(shape=shape, semantics=\"equalizer\", model=RegisteredLLM.GEMINI_PRO, add_timestamp_to_logged_files=False)\n",
    "variations = var_gen.create_variations()\n",
    "HTML(variations.to_html())"
   ]
  },
  {
   "cell_type": "code",
   "execution_count": null,
   "id": "ab2c9bab693e2aaf",
   "metadata": {},
   "outputs": [],
   "source": []
  },
  {
   "cell_type": "code",
   "execution_count": 6,
   "id": "74170dfb4dbc2dc9",
   "metadata": {
    "ExecuteTime": {
     "end_time": "2024-06-06T13:11:13.947423400Z",
     "start_time": "2024-06-06T13:10:39.724781600Z"
    },
    "collapsed": false,
    "jupyter": {
     "outputs_hidden": false
    }
   },
   "outputs": [
    {
     "name": "stdout",
     "output_type": "stream",
     "text": [
      "Sure! Here are the modified variations, each considering changes in shapes while maintaining the core design of the equalizer.\n",
      "\n",
      "## Variation 1: Blue Equalizer with Triangular Bars\n",
      "\n",
      "```xml\n",
      "<svg xmlns=\"http://www.w3.org/2000/svg\" xmlns:xlink=\"http://www.w3.org/1999/xlink\" xmlns:penpot=\"https://penpot.app/xmlns\" viewBox=\"1136.0 474.0 72.0 72.0\" version=\"1.1\" style=\"width:100%;height:100%;background:#E8E9EA\" fill=\"none\" preserveAspectRatio=\"xMinYMin meet\">\n",
      "  <defs>\n",
      "    <mask id=\"mask1\">\n",
      "      <rect x=\"1136\" y=\"474\" width=\"72\" height=\"72\" fill=\"white\"/>\n",
      "      <polygon points=\"1168.4,495.6 1172,524.4 1164.8,524.4\" fill=\"black\"/>\n",
      "      <polygon points=\"1157.6,510 1161.2,524.4 1154,524.4\" fill=\"black\"/>\n",
      "      <polygon points=\"1179.2,504.6 1182.8,524.4 1175.6,524.4\" fill=\"black\"/>\n",
      "    </mask>\n",
      "  </defs>\n",
      "  <circle cx=\"1172\" cy=\"510\" r=\"36\" fill=\"blue\" mask=\"url(#mask1)\"/>\n",
      "</svg>\n",
      "```\n",
      "\n",
      "## Variation 2: Green Equalizer with Circular Bars\n",
      "\n",
      "```xml\n",
      "<svg xmlns=\"http://www.w3.org/2000/svg\" xmlns:xlink=\"http://www.w3.org/1999/xlink\" xmlns:penpot=\"https://penpot.app/xmlns\" viewBox=\"1136.0 474.0 72.0 72.0\" version=\"1.1\" style=\"width:100%;height:100%;background:#E8E9EA\" fill=\"none\" preserveAspectRatio=\"xMinYMin meet\">\n",
      "  <defs>\n",
      "    <mask id=\"mask2\">\n",
      "      <rect x=\"1136\" y=\"474\" width=\"72\" height=\"72\" fill=\"white\"/>\n",
      "      <circle cx=\"1172\" cy=\"510\" r=\"14.4\" fill=\"black\"/>\n",
      "      <circle cx=\"1161.6\" cy=\"510\" r=\"7.2\" fill=\"black\"/>\n",
      "      <circle cx=\"1182.4\" cy=\"510\" r=\"9.9\" fill=\"black\"/>\n",
      "    </mask>\n",
      "  </defs>\n",
      "  <circle cx=\"1172\" cy=\"510\" r=\"36\" fill=\"green\" mask=\"url(#mask2)\"/>\n",
      "</svg>\n",
      "```\n",
      "\n",
      "## Variation 3: Red Equalizer with Diamond Bars\n",
      "\n",
      "```xml\n",
      "<svg xmlns=\"http://www.w3.org/2000/svg\" xmlns:xlink=\"http://www.w3.org/1999/xlink\" xmlns:penpot=\"https://penpot.app/xmlns\" viewBox=\"1136.0 474.0 72.0 72.0\" version=\"1.1\" style=\"width:100%;height:100%;background:#E8E9EA\" fill=\"none\" preserveAspectRatio=\"xMinYMin meet\">\n",
      "  <defs>\n",
      "    <mask id=\"mask3\">\n",
      "      <rect x=\"1136\" y=\"474\" width=\"72\" height=\"72\" fill=\"white\"/>\n",
      "      <polygon points=\"1172,495.6 1175.6,510 1172,524.4 1168.4,510\" fill=\"black\"/>\n",
      "      <polygon points=\"1161.6,510 1165.2,517.2 1161.6,524.4 1158,517.2\" fill=\"black\"/>\n",
      "      <polygon points=\"1182.4,504.6 1186,514.2 1182.4,524.4 1178.8,514.2\" fill=\"black\"/>\n",
      "    </mask>\n",
      "  </defs>\n",
      "  <circle cx=\"1172\" cy=\"510\" r=\"36\" fill=\"red\" mask=\"url(#mask3)\"/>\n",
      "</svg>\n",
      "```\n",
      "\n",
      "## Variation 4: Yellow Equalizer with Star Bars\n",
      "\n",
      "```xml\n",
      "<svg xmlns=\"http://www.w3.org/2000/svg\" xmlns:xlink=\"http://www.w3.org/1999/xlink\" xmlns:penpot=\"https://penpot.app/xmlns\" viewBox=\"1136.0 474.0 72.0 72.0\" version=\"1.1\" style=\"width:100%;height:100%;background:#E8E9EA\" fill=\"none\" preserveAspectRatio=\"xMinYMin meet\">\n",
      "  <defs>\n",
      "    <mask id=\"mask4\">\n",
      "      <rect x=\"1136\" y=\"474\" width=\"72\" height=\"72\" fill=\"white\"/>\n",
      "      <polygon points=\"1172,495.6 1174.4,504 1182.8,504 1176.4,510 1178.8,518.4 1172,514.8 1165.2,518.4 1167.6,510 1161.2,504 1169.6,504\" fill=\"black\"/>\n",
      "      <polygon points=\"1161.6,510 1164,518.4 1172.4,518.4 1166,524.4 1168.4,532.8 1161.6,529.2 1154.8,532.8 1157.2,524.4 1150.8,518.4 1159.2,518.4\" fill=\"black\"/>\n",
      "      <polygon points=\"1182.4,504.6 1184.8,513 1193.2,513 1186.8,519 1189.2,527.4 1182.4,523.8 1175.6,527.4 1178,519 1171.6,513 1180,513\" fill=\"black\"/>\n",
      "    </mask>\n",
      "  </defs>\n",
      "  <circle cx=\"1172\" cy=\"510\" r=\"36\" fill=\"yellow\" mask=\"url(#mask4)\"/>\n",
      "</svg>\n",
      "```\n",
      "\n",
      "## Variation 5: Purple Equalizer with Hexagonal Bars\n",
      "\n",
      "```xml\n",
      "<svg xmlns=\"http://www.w3.org/2000/svg\" xmlns:xlink=\"http://www.w3.org/1999/xlink\" xmlns:penpot=\"https://penpot.app/xmlns\" viewBox=\"1136.0 474.0 72.0 72.0\" version=\"1.1\" style=\"width:100%;height:100%;background:#E8E9EA\" fill=\"none\" preserveAspectRatio=\"xMinYMin meet\">\n",
      "  <defs>\n",
      "    <mask id=\"mask5\">\n",
      "      <rect x=\"1136\" y=\"474\" width=\"72\" height=\"72\" fill=\"white\"/>\n",
      "      <polygon points=\"1172,495.6 1176.4,504 1172,512.4 1167.6,504\" fill=\"black\"/>\n",
      "      <polygon points=\"1161.6,510 1166,518.4 1161.6,526.8 1157.2,518.4\" fill=\"black\"/>\n",
      "      <polygon points=\"1182.4,504.6 1186.8,513 1182.4,521.4 1178,513\" fill=\"black\"/>\n",
      "    </mask>\n",
      "  </defs>\n",
      "  <circle cx=\"1172\" cy=\"510\" r=\"36\" fill=\"purple\" mask=\"url(#mask5)\"/>\n",
      "</svg>\n",
      "```\n",
      "\n",
      "Each variation now includes different shapes for the bars (triangles, circles, diamonds, stars, and hexagons) while maintaining the overall equalizer design.\n"
     ]
    }
   ],
   "source": [
    "add_variations = variations.revise(\"Modify these variations such that they all consider shape changes.\")"
   ]
  },
  {
   "cell_type": "code",
   "execution_count": 7,
   "id": "9b886fc4c8ff14af",
   "metadata": {
    "ExecuteTime": {
     "end_time": "2024-06-06T13:11:13.999851600Z",
     "start_time": "2024-06-06T13:11:13.948459900Z"
    },
    "collapsed": false,
    "jupyter": {
     "outputs_hidden": false
    }
   },
   "outputs": [
    {
     "data": {
      "text/html": [
       "<html><body><div style=\"width:60%\"><h1>Variations</h1><h2>Variation 1: Blue Equalizer with Triangular Bars</h2><svg xmlns=\"http://www.w3.org/2000/svg\" xmlns:xlink=\"http://www.w3.org/1999/xlink\" xmlns:penpot=\"https://penpot.app/xmlns\" viewBox=\"1136.0 474.0 72.0 72.0\" version=\"1.1\" style=\"width:100%;height:100%;background:#E8E9EA\" fill=\"none\" preserveAspectRatio=\"xMinYMin meet\">\n",
       "  <defs>\n",
       "    <mask id=\"40545a7e-2406-11ef-a7db-000ec69542bc\">\n",
       "      <rect x=\"1136\" y=\"474\" width=\"72\" height=\"72\" fill=\"white\"/>\n",
       "      <polygon points=\"1168.4,495.6 1172,524.4 1164.8,524.4\" fill=\"black\"/>\n",
       "      <polygon points=\"1157.6,510 1161.2,524.4 1154,524.4\" fill=\"black\"/>\n",
       "      <polygon points=\"1179.2,504.6 1182.8,524.4 1175.6,524.4\" fill=\"black\"/>\n",
       "    </mask>\n",
       "  </defs>\n",
       "  <circle cx=\"1172\" cy=\"510\" r=\"36\" fill=\"blue\" mask=\"url(#40545a7e-2406-11ef-a7db-000ec69542bc)\"/>\n",
       "</svg><h2>Variation 2: Green Equalizer with Circular Bars</h2><svg xmlns=\"http://www.w3.org/2000/svg\" xmlns:xlink=\"http://www.w3.org/1999/xlink\" xmlns:penpot=\"https://penpot.app/xmlns\" viewBox=\"1136.0 474.0 72.0 72.0\" version=\"1.1\" style=\"width:100%;height:100%;background:#E8E9EA\" fill=\"none\" preserveAspectRatio=\"xMinYMin meet\">\n",
       "  <defs>\n",
       "    <mask id=\"40545a7f-2406-11ef-8564-000ec69542bc\">\n",
       "      <rect x=\"1136\" y=\"474\" width=\"72\" height=\"72\" fill=\"white\"/>\n",
       "      <circle cx=\"1172\" cy=\"510\" r=\"14.4\" fill=\"black\"/>\n",
       "      <circle cx=\"1161.6\" cy=\"510\" r=\"7.2\" fill=\"black\"/>\n",
       "      <circle cx=\"1182.4\" cy=\"510\" r=\"9.9\" fill=\"black\"/>\n",
       "    </mask>\n",
       "  </defs>\n",
       "  <circle cx=\"1172\" cy=\"510\" r=\"36\" fill=\"green\" mask=\"url(#40545a7f-2406-11ef-8564-000ec69542bc)\"/>\n",
       "</svg><h2>Variation 3: Red Equalizer with Diamond Bars</h2><svg xmlns=\"http://www.w3.org/2000/svg\" xmlns:xlink=\"http://www.w3.org/1999/xlink\" xmlns:penpot=\"https://penpot.app/xmlns\" viewBox=\"1136.0 474.0 72.0 72.0\" version=\"1.1\" style=\"width:100%;height:100%;background:#E8E9EA\" fill=\"none\" preserveAspectRatio=\"xMinYMin meet\">\n",
       "  <defs>\n",
       "    <mask id=\"40545a80-2406-11ef-916e-000ec69542bc\">\n",
       "      <rect x=\"1136\" y=\"474\" width=\"72\" height=\"72\" fill=\"white\"/>\n",
       "      <polygon points=\"1172,495.6 1175.6,510 1172,524.4 1168.4,510\" fill=\"black\"/>\n",
       "      <polygon points=\"1161.6,510 1165.2,517.2 1161.6,524.4 1158,517.2\" fill=\"black\"/>\n",
       "      <polygon points=\"1182.4,504.6 1186,514.2 1182.4,524.4 1178.8,514.2\" fill=\"black\"/>\n",
       "    </mask>\n",
       "  </defs>\n",
       "  <circle cx=\"1172\" cy=\"510\" r=\"36\" fill=\"red\" mask=\"url(#40545a80-2406-11ef-916e-000ec69542bc)\"/>\n",
       "</svg><h2>Variation 4: Yellow Equalizer with Star Bars</h2><svg xmlns=\"http://www.w3.org/2000/svg\" xmlns:xlink=\"http://www.w3.org/1999/xlink\" xmlns:penpot=\"https://penpot.app/xmlns\" viewBox=\"1136.0 474.0 72.0 72.0\" version=\"1.1\" style=\"width:100%;height:100%;background:#E8E9EA\" fill=\"none\" preserveAspectRatio=\"xMinYMin meet\">\n",
       "  <defs>\n",
       "    <mask id=\"40545a81-2406-11ef-a27d-000ec69542bc\">\n",
       "      <rect x=\"1136\" y=\"474\" width=\"72\" height=\"72\" fill=\"white\"/>\n",
       "      <polygon points=\"1172,495.6 1174.4,504 1182.8,504 1176.4,510 1178.8,518.4 1172,514.8 1165.2,518.4 1167.6,510 1161.2,504 1169.6,504\" fill=\"black\"/>\n",
       "      <polygon points=\"1161.6,510 1164,518.4 1172.4,518.4 1166,524.4 1168.4,532.8 1161.6,529.2 1154.8,532.8 1157.2,524.4 1150.8,518.4 1159.2,518.4\" fill=\"black\"/>\n",
       "      <polygon points=\"1182.4,504.6 1184.8,513 1193.2,513 1186.8,519 1189.2,527.4 1182.4,523.8 1175.6,527.4 1178,519 1171.6,513 1180,513\" fill=\"black\"/>\n",
       "    </mask>\n",
       "  </defs>\n",
       "  <circle cx=\"1172\" cy=\"510\" r=\"36\" fill=\"yellow\" mask=\"url(#40545a81-2406-11ef-a27d-000ec69542bc)\"/>\n",
       "</svg><h2>Variation 5: Purple Equalizer with Hexagonal Bars</h2><svg xmlns=\"http://www.w3.org/2000/svg\" xmlns:xlink=\"http://www.w3.org/1999/xlink\" xmlns:penpot=\"https://penpot.app/xmlns\" viewBox=\"1136.0 474.0 72.0 72.0\" version=\"1.1\" style=\"width:100%;height:100%;background:#E8E9EA\" fill=\"none\" preserveAspectRatio=\"xMinYMin meet\">\n",
       "  <defs>\n",
       "    <mask id=\"40545a82-2406-11ef-a105-000ec69542bc\">\n",
       "      <rect x=\"1136\" y=\"474\" width=\"72\" height=\"72\" fill=\"white\"/>\n",
       "      <polygon points=\"1172,495.6 1176.4,504 1172,512.4 1167.6,504\" fill=\"black\"/>\n",
       "      <polygon points=\"1161.6,510 1166,518.4 1161.6,526.8 1157.2,518.4\" fill=\"black\"/>\n",
       "      <polygon points=\"1182.4,504.6 1186.8,513 1182.4,521.4 1178,513\" fill=\"black\"/>\n",
       "    </mask>\n",
       "  </defs>\n",
       "  <circle cx=\"1172\" cy=\"510\" r=\"36\" fill=\"purple\" mask=\"url(#40545a82-2406-11ef-a105-000ec69542bc)\"/>\n",
       "</svg></div></body></html>"
      ],
      "text/plain": [
       "<IPython.core.display.HTML object>"
      ]
     },
     "metadata": {},
     "output_type": "display_data"
    }
   ],
   "source": [
    "display(HTML(add_variations.to_html()))"
   ]
  },
  {
   "cell_type": "code",
   "execution_count": null,
   "id": "a4d58b706981f28c",
   "metadata": {
    "ExecuteTime": {
     "start_time": "2024-06-06T13:11:14.194253300Z"
    },
    "collapsed": false,
    "jupyter": {
     "outputs_hidden": false
    }
   },
   "outputs": [],
   "source": []
  }
 ],
 "metadata": {
  "kernelspec": {
   "display_name": "Python 3 (ipykernel)",
   "language": "python",
   "name": "python3"
  },
  "language_info": {
   "codemirror_mode": {
    "name": "ipython",
    "version": 3
   },
   "file_extension": ".py",
   "mimetype": "text/x-python",
   "name": "python",
   "nbconvert_exporter": "python",
   "pygments_lexer": "ipython3",
   "version": "3.11.9"
  }
 },
 "nbformat": 4,
 "nbformat_minor": 5
}
