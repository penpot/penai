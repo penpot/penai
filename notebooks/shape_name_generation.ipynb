{
 "cells": [
  {
   "cell_type": "markdown",
   "metadata": {},
   "source": [
    "# Shape Name Generation\n",
    "\n",
    "In this notebook, we demonstrate the automated generation of meaningful shape names based on their visual appearance and the context in which they are embedded within a document.\n",
    "\n",
    "A significant challenge in developing this approach was designing prompts and metadata in such a way that the model can reliably reason about design elements. These elements may be small, ambiguous in their appearance or visual structure, and present in documents with a high density of shapes.\n",
    "\n",
    "We devised two different solutions:\n",
    "- Using explicit visual annotations to guide the model\n",
    "- A simplified approach with only two unannotated reference images and bounding boxes described in the prompt\n",
    "\n",
    "This notebook focuses on the latter method, which is particularly suited for practical integration into Penpot."
   ]
  },
  {
   "cell_type": "code",
   "execution_count": 1,
   "metadata": {},
   "outputs": [],
   "source": [
    "%load_ext autoreload\n",
    "%autoreload 2\n",
    "\n",
    "import json\n",
    "import os\n",
    "from itertools import product\n",
    "from pathlib import Path\n",
    "\n",
    "import matplotlib.pyplot as plt\n",
    "from tqdm.notebook import tqdm\n",
    "\n",
    "from penai.config import get_config\n",
    "from penai.llm.llm_model import RegisteredLLM\n",
    "from penai.llm.utils import PromptVisualizer\n",
    "from penai.models import PenpotProject\n",
    "from penai.registries.projects import SavedPenpotProject\n",
    "from penai.render import WebDriverSVGRenderer\n",
    "from penai.shape_name_generation.inference import (\n",
    "    SimplifiedShapeNameGenerator,\n",
    ")\n",
    "from penai.utils.web_drivers import create_chrome_web_driver\n",
    "\n",
    "plt.rcParams[\"figure.figsize\"] = (14, 14)"
   ]
  },
  {
   "cell_type": "markdown",
   "metadata": {},
   "source": [
    "## Single Example\n",
    "\n",
    "We will first demonstrate the basic functionality using a single selected example to familiarize ourselves with the required classes, functions, and logic."
   ]
  },
  {
   "cell_type": "markdown",
   "metadata": {},
   "source": [
    "### Load Example Project\n",
    "\n",
    "We will load the Material Design 3 project here, but feel free to choose a different one if preferred."
   ]
  },
  {
   "cell_type": "code",
   "execution_count": null,
   "metadata": {},
   "outputs": [],
   "source": [
    "project = SavedPenpotProject.MATERIAL_DESIGN_3.load(pull=True)"
   ]
  },
  {
   "cell_type": "markdown",
   "metadata": {},
   "source": [
    "Let us investigate the project structure by printing the project object:"
   ]
  },
  {
   "cell_type": "code",
   "execution_count": null,
   "metadata": {},
   "outputs": [],
   "source": [
    "print(project)"
   ]
  },
  {
   "cell_type": "markdown",
   "metadata": {},
   "source": [
    "Select the cover page from the main file:"
   ]
  },
  {
   "cell_type": "code",
   "execution_count": 4,
   "metadata": {},
   "outputs": [],
   "source": [
    "cover_page = project.get_main_file().get_page_by_name(\"Cover\")"
   ]
  },
  {
   "cell_type": "markdown",
   "metadata": {},
   "source": [
    "Design documents in Penpot are currently represented as SVGs. We use a web-based renderer to convert them into raster graphics. A web driver (Chrome) needs to be instantiated before a `WebDriverSVGRenderer` can be created:"
   ]
  },
  {
   "cell_type": "code",
   "execution_count": 5,
   "metadata": {},
   "outputs": [],
   "source": [
    "web_driver = create_chrome_web_driver()\n",
    "svg_renderer = WebDriverSVGRenderer(web_driver, infer_bounding_boxes=True)"
   ]
  },
  {
   "cell_type": "markdown",
   "metadata": {},
   "source": [
    "Let us render the whole cover page for inspection:"
   ]
  },
  {
   "cell_type": "code",
   "execution_count": null,
   "metadata": {},
   "outputs": [],
   "source": [
    "output = svg_renderer.render_svg(cover_page.svg, width=2000)\n",
    "\n",
    "plt.imshow(output.image)\n",
    "plt.axis(\"off\")\n",
    "plt.show()"
   ]
  },
  {
   "cell_type": "markdown",
   "metadata": {},
   "source": [
    "We can now select a shape to generate a name. A good choice is the conversion card in the top-left corner. It is a frame or shape group, which the model should not confuse with its contained sub-elements.\n",
    "\n",
    "For convenience, the shape will be queried by its name in the following steps. However, this name will not influence the naming process later on."
   ]
  },
  {
   "cell_type": "code",
   "execution_count": 7,
   "metadata": {},
   "outputs": [],
   "source": [
    "shape = cover_page.svg.get_shape_by_name(\"Card / Layout / Graph Outlined Card\")"
   ]
  },
  {
   "cell_type": "markdown",
   "metadata": {},
   "source": [
    "Note that the `WebDriverSVGRenderer` has been created with `infer_bounding_boxes=True`. As a by-product of the SVG rendering, the browser also computes bounding boxes for each SVG element. With this option set to `True`, we can query these bounding boxes, which will be useful for further processing.\n",
    "\n",
    "To inspect a bounding box, simply index `output.artifacts.bounding_boxes` using the shape ID:"
   ]
  },
  {
   "cell_type": "code",
   "execution_count": 8,
   "metadata": {},
   "outputs": [],
   "source": [
    "shape_bbox = output.artifacts.bounding_boxes[shape.shape_id]"
   ]
  },
  {
   "cell_type": "code",
   "execution_count": null,
   "metadata": {},
   "outputs": [],
   "source": [
    "print(shape_bbox)"
   ]
  },
  {
   "cell_type": "markdown",
   "metadata": {},
   "source": [
    "This bounding box can, for instance, now be used to crop the shape to be named from within the full page image:"
   ]
  },
  {
   "cell_type": "code",
   "execution_count": null,
   "metadata": {},
   "outputs": [],
   "source": [
    "shape_bbox.crop_image(output.image)"
   ]
  },
  {
   "cell_type": "markdown",
   "metadata": {},
   "source": [
    "### Generate Shape Names\n",
    "\n",
    "The core functionality for generating shape names is implemented in the `penai.shape_name_generation.inference.SimplifiedShapeNameGenerator` class. In summary, it performs the following steps to generate a shape name:\n",
    "\n",
    "1. **Derive the top-level frame of a shape:** Pages in Penpot are typically organized into different design groups with frames. Since providing the context of an entire page to the model isn't practical, the top-level frame of a shape is used as the \"context limit.\"\n",
    "2. **Render reference images:** The top-level frame is rendered, and the shape to be named is cropped. This provides sufficient visual context for the model while requiring only one rendering pass.\n",
    "3. **Construct the prompt:** The prompt contains the two reference images and additional metadata in text form. We will take a closer look at this step shortly.\n",
    "4. **Extract the name from the output:** The model is instructed to provide the output in JSON format. However, for models that don't fully support JSON output, additional logic is applied to extract the name from potentially malformed outputs."
   ]
  },
  {
   "cell_type": "code",
   "execution_count": null,
   "metadata": {},
   "outputs": [],
   "source": [
    "cover_page.svg.remove_elements_with_no_visible_content()\n",
    "cover_page.svg.retrieve_and_set_view_boxes_for_shape_elements()"
   ]
  },
  {
   "cell_type": "code",
   "execution_count": 12,
   "metadata": {},
   "outputs": [],
   "source": [
    "# Feel free to experiment with different options here\n",
    "name_generator = SimplifiedShapeNameGenerator(\n",
    "    svg_renderer=svg_renderer,\n",
    "    model=RegisteredLLM.GPT4O,\n",
    "    use_json_mode=False,\n",
    "    include_coordinates=True,\n",
    ")"
   ]
  },
  {
   "cell_type": "markdown",
   "metadata": {},
   "source": [
    "We can now generate a shape name. Normally, the `generate_name()` method is recommended for use, but the underlying `generate_name_impl()` provides the metadata from the prompt, which is useful for understanding the approach in this case."
   ]
  },
  {
   "cell_type": "code",
   "execution_count": 13,
   "metadata": {},
   "outputs": [],
   "source": [
    "output = name_generator.generate_name_impl(shape)"
   ]
  },
  {
   "cell_type": "markdown",
   "metadata": {},
   "source": [
    "Before revealing the generated name, let’s take a closer look at the prompt. It consists of a single \"Human\" message, with no \"System\" or \"AI\" prompt. While well-crafted system prompts can often improve model behavior, finding the right formulation can be challenging. In our tests, a simple human message has proven to be sufficient.\n",
    "\n",
    "Also note the inclusion of bounding box coordinates, the shape type, the output format specification, and a few example names to guide the model in generating the desired naming format. These examples can be modified if a different naming style is preferred or even derived from previous user choices."
   ]
  },
  {
   "cell_type": "code",
   "execution_count": null,
   "metadata": {},
   "outputs": [],
   "source": [
    "prompt_visualizer = PromptVisualizer()\n",
    "prompt_visualizer.display_messages(output.messages)"
   ]
  },
  {
   "cell_type": "markdown",
   "metadata": {},
   "source": [
    "### The generated name:"
   ]
  },
  {
   "cell_type": "code",
   "execution_count": null,
   "metadata": {},
   "outputs": [],
   "source": [
    "output.name"
   ]
  },
  {
   "cell_type": "markdown",
   "metadata": {},
   "source": [
    "### Comparing Different Models and Configurations\n",
    "\n",
    "We can run the name generation process for different models, with or without including bounding box information. Interestingly, for this specific example, the naming appears to be fairly consistent across models.\n",
    "\n",
    "Executing all generations may take some time. Although LLM requests could theoretically be parallelized, doing so would require a mutex mechanism for the underlying web driver-based SVG renderer.\n",
    "\n",
    "Note that we are using a sampling temperature of 0 here, meaning the results for a given prompt will be deterministic. An example of non-deterministic random sampling is provided later on."
   ]
  },
  {
   "cell_type": "code",
   "execution_count": null,
   "metadata": {},
   "outputs": [],
   "source": [
    "models = [\n",
    "    RegisteredLLM.GPT4O,\n",
    "    RegisteredLLM.GPT4O_MINI,\n",
    "    RegisteredLLM.CLAUDE_3_5_SONNET,\n",
    "    RegisteredLLM.GEMINI_1_5_PRO,\n",
    "    RegisteredLLM.GEMINI_1_5_FLASH,\n",
    "]\n",
    "\n",
    "include_coordinates_choices = [True, False]\n",
    "\n",
    "results = []\n",
    "\n",
    "with tqdm(total=len(models) * len(include_coordinates_choices)) as pbar:\n",
    "    for model, include_coordinates in product(models, include_coordinates_choices):\n",
    "        pbar.set_description(\n",
    "            f\"model={model.name}, include_coordinates={include_coordinates}\"\n",
    "        )\n",
    "        name_generator = SimplifiedShapeNameGenerator(\n",
    "            svg_renderer,\n",
    "            model,\n",
    "            use_json_mode=False,\n",
    "            include_coordinates=include_coordinates,\n",
    "        )\n",
    "\n",
    "        output = name_generator.generate_name_impl(shape)\n",
    "\n",
    "        results.append((model, include_coordinates, output))\n",
    "\n",
    "        pbar.update(1)"
   ]
  },
  {
   "cell_type": "code",
   "execution_count": null,
   "metadata": {},
   "outputs": [],
   "source": [
    "fig, axes = plt.subplots(\n",
    "    len(models), len(include_coordinates_choices), figsize=(14, 14)\n",
    ")\n",
    "\n",
    "idx = 0\n",
    "\n",
    "for row_idx, (row_axes, model) in enumerate(zip(axes, models, strict=True)):\n",
    "    for col_idx, (ax, include_coordinates) in enumerate(\n",
    "        zip(row_axes, include_coordinates_choices, strict=True)\n",
    "    ):\n",
    "        if row_idx == 0:\n",
    "            ax.text(\n",
    "                0.5,\n",
    "                1.3,\n",
    "                f\"Include Coordinates: {include_coordinates}\",\n",
    "                horizontalalignment=\"center\",\n",
    "                verticalalignment=\"bottom\",\n",
    "                transform=ax.transAxes,\n",
    "            )\n",
    "\n",
    "        if col_idx == 0:\n",
    "            ax.text(\n",
    "                -0.3,\n",
    "                0.5,\n",
    "                model.value,\n",
    "                horizontalalignment=\"right\",\n",
    "                verticalalignment=\"center\",\n",
    "                transform=ax.transAxes,\n",
    "            )\n",
    "\n",
    "        _, _, output = results[idx]\n",
    "\n",
    "        ax.imshow(output.shape_image)\n",
    "        ax.axis(\"off\")\n",
    "        ax.set_title(f'\"{output.name}\"')\n",
    "        idx += 1"
   ]
  },
  {
   "cell_type": "markdown",
   "metadata": {},
   "source": [
    "### Random Sampling of Names\n",
    "\n",
    "To obtain multiple name smaples for an element, the sampling temperature, provided as a keyword argument to the `SimplifiedShapeNameGenerator` constructor, can be set to greater than 0. Values between 0.7 and 1.3 are typically good choices. Higher values result in more uniform token sampling, leading to greater \"diversity,\" while a value of 0 is equivalent to selecting the most likely word (argmax) for each prediction and thus fully deterministic behavior.\n",
    "\n",
    "Also in this case the execution could be parallelized, or multiple name suggestions could be generated within the initial prompt.\n",
    "\n",
    "Note, that this approach won't necessarily lead to genuine different names. If the probability of generating one name is large enough, the model might sample the same name over end over again."
   ]
  },
  {
   "cell_type": "code",
   "execution_count": null,
   "metadata": {},
   "outputs": [],
   "source": [
    "num_samples = 10\n",
    "\n",
    "names = []\n",
    "\n",
    "for _ in tqdm(range(num_samples)):\n",
    "    name_generator = SimplifiedShapeNameGenerator(\n",
    "        svg_renderer,\n",
    "        RegisteredLLM.GPT4O_MINI,\n",
    "        use_json_mode=False,\n",
    "        include_coordinates=include_coordinates,\n",
    "        temperature=1.0,\n",
    "    )\n",
    "    names.append(name_generator.generate_name(shape))"
   ]
  },
  {
   "cell_type": "code",
   "execution_count": null,
   "metadata": {},
   "outputs": [],
   "source": [
    "names"
   ]
  },
  {
   "cell_type": "markdown",
   "metadata": {},
   "source": [
    "# Systematic Evaluation\n",
    "\n",
    "A set of selected shapes from multiple design documents and pages is provided in the `test/resources/evaluation_data.json` file. This dataset includes relatively straightforward cases, such as conversion boxes, as well as more challenging ones, like small icons or intersecting non-rectangular path elements.\n",
    "\n",
    "Let’s evaluate how well the approach performs on these examples."
   ]
  },
  {
   "cell_type": "code",
   "execution_count": 27,
   "metadata": {},
   "outputs": [],
   "source": [
    "cfg = get_config()"
   ]
  },
  {
   "cell_type": "code",
   "execution_count": 28,
   "metadata": {},
   "outputs": [],
   "source": [
    "eval_data = json.loads(Path(\"../test/resources/evaluation_data.json\").read_text())"
   ]
  },
  {
   "cell_type": "markdown",
   "metadata": {},
   "source": [
    "**Note:** Executing the cell below may take up to 10 minutes as preprocessing and name generation will be performed on dozens of shapes."
   ]
  },
  {
   "cell_type": "code",
   "execution_count": null,
   "metadata": {},
   "outputs": [],
   "source": [
    "generated_names = {}\n",
    "\n",
    "num_pages = 0\n",
    "max_shapes_per_page = 0\n",
    "\n",
    "name_generator = SimplifiedShapeNameGenerator(\n",
    "    svg_renderer,\n",
    "    RegisteredLLM.CLAUDE_3_5_SONNET,\n",
    "    use_json_mode=True,\n",
    "    include_coordinates=True,\n",
    ")\n",
    "\n",
    "for project_name, project_data in eval_data.items():\n",
    "    project = SavedPenpotProject.get_by_name(project_name).load(pull=True)\n",
    "    main_file = project.get_main_file()\n",
    "\n",
    "    for page_name, page_data in project_data.items():\n",
    "        page = main_file.get_page_by_name(page_name)\n",
    "\n",
    "        page_svg = page.svg\n",
    "        page_svg.remove_elements_with_no_visible_content()\n",
    "        page_svg.retrieve_and_set_view_boxes_for_shape_elements()\n",
    "\n",
    "        for shape_id in page_data[\"shapes\"]:\n",
    "            shape = page_svg.get_shape_by_id(shape_id)\n",
    "\n",
    "            generated_names[shape_id] = name_generator.generate_name_impl(shape)\n",
    "\n",
    "        num_pages += 1\n",
    "        max_shapes_per_page = max(max_shapes_per_page, len(page_data[\"shapes\"]))"
   ]
  },
  {
   "cell_type": "markdown",
   "metadata": {},
   "source": [
    "## Visualize results"
   ]
  },
  {
   "cell_type": "code",
   "execution_count": null,
   "metadata": {},
   "outputs": [],
   "source": [
    "fig, axes = plt.subplots(num_pages, max_shapes_per_page, figsize=(40, 40))\n",
    "\n",
    "if num_pages == 1:\n",
    "    axes = [axes]\n",
    "\n",
    "row_idx = 0\n",
    "\n",
    "for project_dir, project_data in eval_data.items():\n",
    "    project_path = os.path.join(get_config().penpot_designs_basedir(), project_dir)\n",
    "    project = PenpotProject.from_directory(project_path)\n",
    "\n",
    "    main_file = project.get_main_file()\n",
    "\n",
    "    for page_name, page_data in project_data.items():\n",
    "        row_axes = axes[row_idx]\n",
    "\n",
    "        page_svg = main_file.get_page_by_name(page_name).svg\n",
    "\n",
    "        for col_idx, shape_id in enumerate(page_data[\"shapes\"]):\n",
    "            shape = page_svg.get_shape_by_id(shape_id)\n",
    "            generated_name = generated_names[shape_id]\n",
    "\n",
    "            row_axes[col_idx].imshow(generated_name.shape_image)\n",
    "            row_axes[col_idx].set_title(generated_name.name)\n",
    "\n",
    "        for row_ax in row_axes:\n",
    "            row_ax.axis(\"off\")\n",
    "\n",
    "        row_idx += 1\n",
    "\n",
    "fig.show()"
   ]
  },
  {
   "cell_type": "markdown",
   "metadata": {},
   "source": [
    "## Important: Close the Web Driver\n",
    "\n",
    "For simplicity, we did not use a context manager in this notebook to automatically close the web driver after use. Therefore, it must be closed manually to prevent further resource consumption."
   ]
  },
  {
   "cell_type": "code",
   "execution_count": 29,
   "metadata": {},
   "outputs": [],
   "source": [
    "web_driver.close()"
   ]
  },
  {
   "cell_type": "markdown",
   "metadata": {},
   "source": []
  }
 ],
 "metadata": {
  "kernelspec": {
   "display_name": ".venv",
   "language": "python",
   "name": "python3"
  },
  "language_info": {
   "codemirror_mode": {
    "name": "ipython",
    "version": 3
   },
   "file_extension": ".py",
   "mimetype": "text/x-python",
   "name": "python",
   "nbconvert_exporter": "python",
   "pygments_lexer": "ipython3",
   "version": "3.11.9"
  }
 },
 "nbformat": 4,
 "nbformat_minor": 2
}
