{
 "cells": [
  {
   "cell_type": "code",
   "execution_count": null,
   "id": "bd811f91206293e6",
   "metadata": {
    "ExecuteTime": {
     "end_time": "2024-07-09T14:31:28.043876500Z",
     "start_time": "2024-07-09T14:31:27.959924700Z"
    }
   },
   "outputs": [],
   "source": [
    "%load_ext autoreload\n",
    "%autoreload 2"
   ]
  },
  {
   "cell_type": "code",
   "execution_count": 4,
   "id": "793ea6ad30db8951",
   "metadata": {
    "ExecuteTime": {
     "end_time": "2024-07-09T14:31:28.121005100Z",
     "start_time": "2024-07-09T14:31:28.043876500Z"
    }
   },
   "outputs": [],
   "source": [
    "from IPython.display import HTML, display\n",
    "\n",
    "from penai.llm.llm_model import RegisteredLLM\n",
    "from penai.registries.projects import SavedPenpotProject\n",
    "from penai.variations.svg_variations import SVGVariationsGenerator"
   ]
  },
  {
   "cell_type": "code",
   "execution_count": null,
   "id": "3b32aa5c9df0a768",
   "metadata": {
    "ExecuteTime": {
     "end_time": "2024-07-09T14:31:28.255178Z",
     "start_time": "2024-07-09T14:31:28.122459800Z"
    },
    "collapsed": false
   },
   "outputs": [],
   "source": [
    "page_svg = SavedPenpotProject.INTERACTIVE_MUSIC_APP.load_page_svg_with_viewboxes(\"Interactive music app\")"
   ]
  },
  {
   "cell_type": "code",
   "execution_count": 6,
   "id": "569165abe387197f",
   "metadata": {
    "ExecuteTime": {
     "end_time": "2024-07-09T14:31:28.340940900Z",
     "start_time": "2024-07-09T14:31:28.254176500Z"
    },
    "collapsed": false
   },
   "outputs": [],
   "source": [
    "shape = page_svg.get_shape_by_name(\"ic_equalizer_48px-1\")"
   ]
  },
  {
   "cell_type": "code",
   "execution_count": null,
   "id": "451bf67f87f40e4f",
   "metadata": {
    "ExecuteTime": {
     "end_time": "2024-07-09T14:32:13.266455900Z",
     "start_time": "2024-07-09T14:31:28.341964500Z"
    },
    "collapsed": false
   },
   "outputs": [],
   "source": [
    "var_gen = SVGVariationsGenerator(shape=shape, semantics=\"equalizer\", model=RegisteredLLM.GPT4O)\n",
    "variations = var_gen.create_variations()\n",
    "HTML(variations.to_html())"
   ]
  },
  {
   "cell_type": "code",
   "execution_count": null,
   "id": "74170dfb4dbc2dc9",
   "metadata": {
    "ExecuteTime": {
     "end_time": "2024-07-09T14:32:29.478960500Z",
     "start_time": "2024-07-09T14:32:13.265889300Z"
    },
    "collapsed": false
   },
   "outputs": [],
   "source": [
    "add_variations = variations.revise(\"Modify these variations such that they all consider shape changes.\")"
   ]
  },
  {
   "cell_type": "code",
   "execution_count": null,
   "id": "9b886fc4c8ff14af",
   "metadata": {
    "ExecuteTime": {
     "end_time": "2024-07-09T14:32:29.561363300Z",
     "start_time": "2024-07-09T14:32:29.483288Z"
    },
    "collapsed": false
   },
   "outputs": [],
   "source": [
    "display(HTML(add_variations.to_html()))"
   ]
  }
 ],
 "metadata": {
  "kernelspec": {
   "display_name": "Python 3 (ipykernel)",
   "language": "python",
   "name": "python3"
  },
  "language_info": {
   "codemirror_mode": {
    "name": "ipython",
    "version": 3
   },
   "file_extension": ".py",
   "mimetype": "text/x-python",
   "name": "python",
   "nbconvert_exporter": "python",
   "pygments_lexer": "ipython3",
   "version": "3.11.9"
  }
 },
 "nbformat": 4,
 "nbformat_minor": 5
}
